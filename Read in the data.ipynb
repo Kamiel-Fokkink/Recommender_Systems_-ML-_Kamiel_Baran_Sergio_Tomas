{
 "cells": [
  {
   "cell_type": "code",
   "execution_count": 1,
   "metadata": {},
   "outputs": [],
   "source": [
    "# These are the functions you need to read in the data. You need to have the datafiles in a data folder that is in\n",
    "# the directory you are working in\n",
    "#LINK IM USING FOR K-NN https://stackabuse.com/k-nearest-neighbors-algorithm-in-python-and-scikit-learn/\n",
    "import gzip\n",
    "\n",
    "def parse(path):\n",
    "    g = gzip.open(path, 'rb')\n",
    "    for l in g:\n",
    "        yield eval(l)\n",
    "\n",
    "def getData(name, attributes):\n",
    "    i = 0\n",
    "    dic = {}\n",
    "    path = 'data/reviews_%s_5.json.gz' % name\n",
    "    for line in parse(path):\n",
    "        filtered = {}\n",
    "        for k in line.keys():\n",
    "            if k in attributes:\n",
    "                filtered[k] = line[k]\n",
    "            else:\n",
    "                continue\n",
    "        \n",
    "        dic[i] = filtered\n",
    "        i += 1\n",
    "    return dic"
   ]
  },
  {
   "cell_type": "code",
   "execution_count": 2,
   "metadata": {},
   "outputs": [],
   "source": [
    "# These are one of the three names you can choose to read the dataset from\n",
    "names = ['Digital_Music', 'Kindle_Store', 'Video_Games']\n",
    "\n",
    "# These are all the possible attributes that our datapoints can have. Lots of them are not that useful for us. So during\n",
    "# the reading of the datafile you have to specify which of these attributes you want to include. For our purposes,\n",
    "# only reviewerID, asin (product ID) and overall will be helpful. But I included them all, just in case.\n",
    "attributes = ['reviewerID', 'asin', 'reviewerName', 'helpful', 'reviewText', 'overall', 'summary', \n",
    "              'unixReviewTime', 'reviewTime']"
   ]
  },
  {
   "cell_type": "code",
   "execution_count": 3,
   "metadata": {
    "scrolled": true
   },
   "outputs": [],
   "source": [
    "# You read in the data for example like this:\n",
    "data = getData('Digital_Music', ['reviewerID', 'asin', 'reviewerName', 'helpful', 'reviewText', 'overall', 'summary', \n",
    "              'unixReviewTime', 'reviewTime'])"
   ]
  },
  {
   "cell_type": "code",
   "execution_count": 4,
   "metadata": {
    "scrolled": true
   },
   "outputs": [
    {
     "name": "stdout",
     "output_type": "stream",
     "text": [
      "{'reviewerID': 'A3EBHHCZO6V2A4', 'asin': '5555991584', 'reviewerName': 'Amaranth \"music fan\"', 'helpful': [3, 3], 'reviewText': 'It\\'s hard to believe \"Memory of Trees\" came out 11 years ago;it has held up well over the passage of time.It\\'s Enya\\'s last great album before the New Age/pop of \"Amarantine\" and \"Day without rain.\" Back in 1995,Enya still had her creative spark,her own voice.I agree with the reviewer who said that this is her saddest album;it is melancholy,bittersweet,from the opening title song.\"Memory of Trees\" is elegaic&majestic.;\"Pax Deorum\" sounds like it is from a Requiem Mass,it is a dark threnody.Unlike the reviewer who said that this has a \"disconcerting\" blend of spirituality&sensuality;,I don\\'t find it disconcerting at all.\"Anywhere is\" is a hopeful song,looking to possibilities.\"Hope has a place\" is about love,but it is up to the listener to decide if it is romantic,platonic,etc.I\\'ve always had a soft spot for this song.\"On my way home\" is a triumphant ending about return.This is truly a masterpiece of New Age music,a must for any Enya fan!', 'overall': 5.0, 'summary': \"Enya's last great album\", 'unixReviewTime': 1158019200, 'reviewTime': '09 12, 2006'}\n",
      "{'reviewerID': 'AZPWAXJG9OJXV', 'asin': '5555991584', 'reviewerName': 'bethtexas', 'helpful': [0, 0], 'reviewText': \"A clasically-styled and introverted album, Memory of Trees is a masterpiece of subtlety.  Many of the songs have an endearing shyness to them - soft piano and a lovely, quiet voice.  But within every introvert is an inferno, and Enya lets that fire explode on a couple of songs that absolutely burst with an expected raw power.If you've never heard Enya before, you might want to start with one of her more popularized works, like Watermark, just to play it safe.  But if you're already a fan, then your collection is not complete without this beautiful work of musical art.\", 'overall': 5.0, 'summary': 'Enya at her most elegant', 'unixReviewTime': 991526400, 'reviewTime': '06 3, 2001'}\n",
      "{'reviewerID': 'A38IRL0X2T4DPF', 'asin': '5555991584', 'reviewerName': 'bob turnley', 'helpful': [2, 2], 'reviewText': \"I never thought Enya would reach the sublime heights of Evacuee or Marble Halls from 'Shepherd Moons.' 'The Celts, Watermark and Day...' were all pleasant and admirable throughout, but are less ambitious both lyrically and musically. But Hope Has a Place from 'Memory...' reaches those heights and beyond. It is Enya at her most inspirational and comforting. I'm actually glad that this song didn't get overexposed the way Only Time did. It makes it that much more special to all who own this album.\", 'overall': 5.0, 'summary': 'The best so far', 'unixReviewTime': 1058140800, 'reviewTime': '07 14, 2003'}\n",
      "{'reviewerID': 'A22IK3I6U76GX0', 'asin': '5555991584', 'reviewerName': 'Calle', 'helpful': [1, 1], 'reviewText': \"This is the third review of an irish album I write today (the others were Cranberries) and now I'm sure about that Ireland is one of the countries producing the best music in the world. And not just commercial pop-music in the Spice Girls way. Okay, I just wanted to say something about Irish  music. Now let's say something about this album. It's great. it's  beautiful. Very good, easy listened music. If you like Enya or you just  want some easy-listened relaxing music. This is the album for you to buy!\", 'overall': 5.0, 'summary': 'Ireland produces good music.', 'unixReviewTime': 957312000, 'reviewTime': '05 3, 2000'}\n",
      "{'reviewerID': 'A1AISPOIIHTHXX', 'asin': '5555991584', 'reviewerName': 'Cloud \"...\"', 'helpful': [1, 1], 'reviewText': 'Enya, despite being a successful recording artist, doesn\\'t have the broad appeal as other artists; one reason might be that her kind of music is not very pop station friendly while another reason could be people think they\\'re too \"macho\" for music that she makes. But people with open minds could find there\\'s some beautiful melodies and harmonies as well as lively, upbeat tunes that are a joy to put on. I find the Memory of Trees to be one of her most consistent albums; plus it helps it has probably one of my top 5 favorite songs ever.The Memory of Trees: Like all of her records (except the recent Amarantine), the albums open with a wordless instrumental and this album\\'s title track is probably my favorite with gentle piano arpeggios and a beautiful vocal track. I always like the sparse use of percussion. 9/10Anywhere Is: The lively single; it\\'s actually a good sing-along with staccato beats and a great chorus. It\\'s also a perfect length since it\\'s under 3 minutes so whereas some pop songs drag after awhile, this one hooks you in then lets you go, leaving you wanting more. 9/10Pax Deorum: Another album, another ominous Latin-sung piece. The music sounds like something you\\'d hear in enemy territories in video games while Enya gives a low-voice, almost monotone performance over the music. Slightly repetitive until a 2nd higher voice comes in but the piece hits its stride halfway with a gorgeous bridge. 8/10Athair Ar Nearmh: There\\'s some songs she does where it\\'s more about the song itself rather than a poppy, catchy quality a la Only Time and this song\\'s similar. Another ballad with some of her best singing, it\\'s a more low-key track but it\\'s also one of the album highlights. 8.5/10From Where I Am: Another instrumental; this one\\'s a more piano-based piece that would be a nice song to learn for all pianists out there since it\\'s not technically complex or fast but it\\'s pleasant to listen to. 7.5/10China Roses: There\\'s only a handful of songs I could have on repeat and never get sick of them and this is one of them. Everything from the vocals and background instrumentation, the lyrics and not to mention one of the most relaxing and almost tranquil ending codas I\\'ve ever heard, this is definately my favorite song on here, plus her whole career even. 15/10Hope Has a Place: For me, any song after China Roses will probably suffer a tad but this song doesn\\'t do much for me. Granted, her vocals are as great as always and the song has a nice, relaxing mood but either this kind of track is too familiar (a kind of Athair part 2 if you will) or it\\'s just not as memorable. 7/10Tea-House Moon: Very oriental in its instruments, it\\'s another wordless song although it\\'s more enjoyable than From Where I Am is, mainly because the melodies are more memorable and it\\'s a bit more song-oriented. It\\'s different but strangely likable. 8/10Once You Had Gold: We\\'re getting into the album\\'s final stretch and the problem is that with this one, it\\'s a more quieter affair as you can feel the album almost winding down. With Enya\\'s more higher vocals (for some reason, reminiscent of her Silent Night rendition), it\\'s another beautiful track but it\\'s also a bit...same-y? 8/10La Sonadora: Spanish lyrics for once, it\\'s another slower paced track complete with \"aahs\" for background vocals and synths but again, the album could\\'ve benefited from a more perkier track. I do like what it does at the halfway point and gives the track a little boost. 7.5/10On My Way Home: A church organ opens the track and with a more bouncy synth, you\\'d think it was a bit more upbeat. While it\\'s not as lively as her vocals on Anywhere Is, it does give the album a bit more memorable closer, especially when the chorus comes where the track gets more fuller in its arrangements. 9/10While A Day Without Rain or Watermark is usually marked as one of her best (probably because her big hits Only Time and Orinoco Flow were on them), I find the Memory of Trees a more likable album and despite a lack of more upbeat tracks, it\\'s still one of her finest outings.', 'overall': 4.0, 'summary': '4.5; music to dream to', 'unixReviewTime': 1200528000, 'reviewTime': '01 17, 2008'}\n",
      "{'reviewerID': 'A2P49WD75WHAG5', 'asin': '5555991584', 'reviewerName': 'Daniel J. Hamlow', 'helpful': [62, 65], 'reviewText': \"Who knows why I initially considered this to be a duff album by the woman with the most beautiful voice in the world.  Maybe I was expecting Shepherd's Moon Part II and saw Memory Of Trees as Shepherd's Eclipse.  The songs didn't leap out to me?  Well, listening to it for this review, it finally did, and I've embraced it like I have her other albums.  The four years inbetween albums was worth it.Of the opening instrumental title tracks, &quot;The Memory Of Trees&quot; is the most potent, sporting the usual instrumentals, pianos, haunting wall-of-sound choir-like vocals, pounding drums recalling &quot;The Longships&quot; from Watermark.The brisk &quot;Anywhere Is&quot;, whose dominant tempo reminds me of a horse having a gentle canter down a park, is backed by strings and backing vocals.  There's an interesting motif in the first line of her reaching a horizon but finding another, where something that looks like an end is actually a new beginning.  Bit like life, isn't it?&quot;Pax Deorum&quot; is a Latin track begins with a cold dark wind, which sets the grim bass pulsing keyboard permeating throughout the song, as well as an ominous sound that sounds a bit like a foghorn, though not as loud or brash.  This part sounds a bit like an incantation.  Her voice alternates between a soft but lower register and her full vocals.The piano (and later some other instrument) ballad &quot;Athair Ar Neamh&quot; is a sad but beautiful sung tune, full of yearning.  Makes me want to learn Gaelic.  My favourite song here, and Enya sounds her best singing like this.The wistful, reflective piano only instrumental &quot;From Where I Am&quot; is a variation of &quot;Miss Clare Remembers&quot; from Watermark, with some shades of &quot;Epona&quot; from the Enya album.&quot;China Roses&quot; is one of her visual and visionary poetic songs and it's an enchanting delight to hear.  I see melodic strains of what would later become &quot;Only Time.&quot;  That wall of sound really enhances her vocals, and the following lyrics really create the image of a dreamland:  &quot;A new moon leads me to/woods of dreams and I follow/a new world waits for me/my dream, my way&quot; and &quot;Rain and river, a world of wonder/may be paradise to me&quot;.  Gosh, how I love this woman!OK, all you romantics.  &quot;Hope Has A Place&quot; is the song for you.  Enya's vocal echoes hauntingly here and that dreamy wall of sound is in full bloom.  And how's this for some sagely advice:  &quot;Look to love/you may dream/and if it should leave/then give it wings/But if such a love is meant to be/Hope is home, and the heart is free.&quot;  I can't decide whether I like this better than &quot;Athair Ar Neamh.&quot;The third instrumental, &quot;Tea-House Moon&quot;, has some Oriental strains, with some otherworldly synths and conjures the image of one looking up at the stars.  As for the title, a nod to Teahouse Of The August Moon, set in post-WW2 Japan and starring Machiko Kyo?&quot;Once You Had Gold&quot; is a proverbial seasons come, seasons go type, and has a mystical sense of why things go wrong:  &quot;No-one can promise a dream for you/Time gave both darkness and dreams to you.&quot; and &quot;What is the dark, shadows around you/why not take heart in the new day?&quot;&quot;La Sonadora&quot; is her first Spanish song and it's more an interlude.  The backing wall of music rise to a crescendo in the song's midsection.A reminiscing night traveller's thoughts comprise &quot;On My Way Home&quot;, where &quot;I remember all the best days/I'm on my way home/I can remember every new day&quot; is surrounded by the dreamy wall of sound.Compared to her first three albums, Enya's voice is more mesmerizingly beautiful than I've ever heard.  She seems to be a one-woman band here, as it's &quot;all instruments and vocals by Enya&quot; per the credits.  There's more a wall of dreamy sound here--check out how many times I've mentioned this.  Repeated listenings will tell whether it'll dislodge Shepherd's Moon as my favourite Enya album.\", 'overall': 5.0, 'summary': \"Dreamy unearthly magic continues with Eire's one and only!\", 'unixReviewTime': 1059523200, 'reviewTime': '07 30, 2003'}\n",
      "{'reviewerID': 'A3O90G1D7I5EGG', 'asin': '5555991584', 'reviewerName': 'dev1', 'helpful': [1, 5], 'reviewText': \"Enya is one of a few artists whom I consider successful at creating this type of electronic atmospheric and dreamlike music. For certain, The Memory Of Trees is melodic, romantic and sensuous. Roma Ryan's lyrics, sung in  Gaelic by Enya (Athair Ar Neamh), float gently like pillow-soft white  clouds. The compositions are relaxing and harmonious (Tea House Moon),  dreamlike and filled with mystery (Once You Had Gold), and include subtle  touches of Celtic tradition (Enya's phrasing on `Hope Has A Place'). The CD  is a quiet and lush alternative to ninety-percent of the popular music on  the market today, and also a welcome substitute for the often hectic pace  of daily life. Enya's arrangement of the compositions on Memory is well  thought - the comparatively dramatic and uplifting `Anywhere Is' and `On My  Way Home' are placed so that the listener doesn't fall asleep.However,  I'm very leery when I read a dozen reviews of a particular musical release,  and all the writers rate the artist's work with five-stars. My hesitation  is not a matter of taste (listeners are free to condemn or rave about  whatever they please), but one of perspective. Is The Memory Of Trees a  musical ground breaking effort? Does it introduce a unique technique or  significantly alter a current genre of popular music? On close listening,  the electronic pseudo-symphonic music of Memory does not approach the  beauty or dynamics of an orchestra with real people playing real  instruments. Nor does Enya's multi-layering of her own voice have the same  rich sonic texture as a chorus comprised of real voices. Then again,  perhaps The Memory Of Trees (and all of Enya's work) is so provocatively  ethereal because it is surreal.\", 'overall': 3.0, 'summary': 'Have You Hugged A Tree Today?', 'unixReviewTime': 959385600, 'reviewTime': '05 27, 2000'}\n",
      "{'reviewerID': 'A3EJYJC25OJVKK', 'asin': '5555991584', 'reviewerName': 'Distant Voyageur \"Nicholas Computer\"', 'helpful': [5, 5], 'reviewText': \"Enya is one of of the most mysterious singers in music today. I consider her to be one of the few female singers who in my opinion can still make some great angelic melodies that don't sound banal or cheap even though some of her songs are so short as to be almost like unfinished demo tapes( Will she someday produce and compose a song that is about eight ot nine minutes long). The Memory Of Trees is my second favorite CD of hers behing Watermark which I consider to be her strongest outing to date. I doubt Enya will topple Watermark to tell you the truth.Many people say that this is a sunny album. Well, it is kind of true. The sunniness is evidenced on the title track, Anywhere Is, and the Orinoco Flow-esque On My Way Home. Generally I think of this album as an album for a cloudy, romantic autumn evening with the leaves a bright red, orange and yellow. Several songs are quite dark and cloudy but not stormy like let's say Storms In Africa, Exile, or creepy like Evening Falls. This album is a gorgeous musical journey that trancends boundaries. I find this to be like the darker companion to the sunniness of A Day Without Rain which followed this one five years later.I usually go with the darker material that Enya does but I enjoy the brighter material as well( I love music that is dark and stormy).The title track is a gorgeous instrumental that has Enya returning to the days of the Celts CD. Instead of the usual piano instrumental that introduced us to Watermark, Shephard Moons, and A Day Without Rain we get a song that is more synthesized and with thundering beats to bop your head to combined with Enyas multilayered vocals that starts out as a cloudy minor note and after about 30 seconds it morphs into a major note to give an impression of the sun shining through the clouds on a warm autumn afternoon. This song is more similar to the Celts than the piano instrumentals of most of her albums although this song is much brighter than the Celts title track. Anywhere Is is like the blueprint of Enyas big-selling A Day Without Rain. It's a very bright, sunny song with rhythm that could make you almost bop your head along with. This song is more legato although there are hints of the staccato pizzicato strings that would dominate a lot of Enyas A Day Without Rain. I love the quiet middle part of the song. It kind of reminds me of the quiet bridge of Orinoco Flow a few years before then. After the sunniness we head into darker, mistier territory of Pax Deorum. This song is another dark almost Gothic piece that features Enya singing in Latin with a very misty feel. In the middle of the song the rhythm pauses and the sing becomes a major note for about a minute giving an imression of the sun breaking through the dark clouds. I consider this to be Enyas best 'Gothic' song to this day. It's almost like the darker side of Heaven if you could call it that. The song reverts back into a dark misty minor note song. Athair Ar Neamh is a very sad, cloudy evening song that features Enya singing in Gaelic. This song is a very beautiful, theme for a guy who is having a lonely summer. The song ends in a major note key like the sun breaking out just before it goes down. From Where I am is a beautiful piano instrumental. China Roses is a gorgeous, breathtaking, ambient song that made me get this album. It's one of Enyas most stunning compositions to date in my opinion. China Roses is a very romantic song that brings up images two lovers walking alongside the waterfront with the red leaves falling onto the surface of a pond with a large garden of roses and a huge crystal castle in the background. China Roses is one of Enyas most brilliant songs to this day. This song is the winner on the Memory Of Trees. Hope Has A Place is a another beautiful song that is similar to China Roses although not quite as powerful or mind- stimulating but still great. This song is a song about how hope is still existant even in bleak situations. This song reminds me of How Can I Keep From Singing from Shepard Moons. Tea-House Moon is one of the best Enya instrumentals I have ever listened to. It's a very stunning song with high pitched synths in the background with electronic synths in the foreground. This song is one to enjoy when it's cloudy and the red leaves are falling to the ground. This song is one of my favorites off this CD. Once You Had Gold is one song that you probably shouldn't play if you have not had much sleep because it's one song that will sooth your soul. I fell asleep in class a few times in the past listening to this song *giggles*. This song though is great though. I enjoy it alot on a cloudy evening. La Sonadora is a very haunting song that features Enya singing in Spanish. This song is very dark and spooky although not stormy or scary as let's say Exile, Storms In Africa or the dynamite Na Leatha Geal M'Oige but this song is one of the darker songs off this album. The chants remind me a bit of Smaointe from a decade ago. We brighten up again with the closing track On My Way Home. This song that contains many elements of the 1988 hit Orinoco Flow although not as spooky as that one. This song is much brighter than Orinoco and happier. This song is like the predecessor to the brightness of A Day Without Rain that followed this one five years later...I consider this to be one of Enyas strongest albums to date. Only Watermark surpasses this one and it's not by too much. I strongly recommend that all Enya fans buy this amazing masterpiece. It's gorgeous and an album for the soul...\", 'overall': 5.0, 'summary': 'The album for a romantic autumn evening', 'unixReviewTime': 1040428800, 'reviewTime': '12 21, 2002'}\n",
      "{'reviewerID': 'A1DA8VOH9NR6C7', 'asin': '5555991584', 'reviewerName': 'E. Minkovitch', 'helpful': [4, 4], 'reviewText': 'This is not another lousy Celtic New Age album - it is a genuine piece of music, well written and performed with emotion. It never fails to send shivers up and down my spine for some reason... Ever since I heard Orinoco Flow Enya has cast her spell on me. She is just so different and strange and so utterly artistic. On this album every song is as perfect as it can get on a pop record, with melodies that have a tendency to lodge themselves into my brain. I have every Enya album to date, but this one seems to be particularly special. A must for any music lover!', 'overall': 5.0, 'summary': 'Simply wonderful.', 'unixReviewTime': 1167868800, 'reviewTime': '01 4, 2007'}\n",
      "{'reviewerID': 'A33TRNCQK4IUO7', 'asin': '5555991584', 'reviewerName': 'guillermoj', 'helpful': [12, 12], 'reviewText': 'Many times, AND WITH GOOD REASON, the \"new age\" label gets slammed for lacking originality and conviction. Enya is not an artist who blends in with the rest and this release is, in my opinion, her best to date.There is certainly an ethereal quality associated with new age and Enya is certainly a new age artist, but she has strong writing skills and gorgeous and very unique voice that sets her apart from her peers. And if you look at what is being released these days, many groups are ripping off elements of her uniqueness and plastering them on down tempo songs with session singers who do an ok job of copying Enya, but don\\'t reach the depths of beauty and passion that only Enya seems to find.What makes this a 5-star review for me is that the songs work independently and even better as a cohesive set that keeps you involved and feeling like you are living in an even better world than this one we know. I know this sounds ridiculous, but take this review from someone who usually prefers an entirely different type of music. Al the songs are great and although this CD can be great background music, it works even better when it\\'s in the forefront of your attention because the production work is so masterful.Many artists/fans are critical of the work that the producer brings to the table, but I am always very appreciative when the final product does not sound like it was manufactured by an assembly line, but rather reflects a balance of the artist\\'s intent with the listener in mind.Thanks for reading and I would like to thank ALL reviewers as their opinions (even when I disagree) give me clues as to what I may like and even more importantly provide exposure to artists who I may have missed if it were not for work. Also, thanks to Amazon.com for providing this forum as I think that it clearly benefits the company, but ultimately it also can be a great place for a potential buyer to find his or her next favorite CD.', 'overall': 5.0, 'summary': 'A true gem, even if you don\\'t love conventional \"new age\"', 'unixReviewTime': 1052697600, 'reviewTime': '05 12, 2003'}\n",
      "{'reviewerID': 'AWY3EPKEOUV1W', 'asin': '5555991584', 'reviewerName': 'Heather', 'helpful': [2, 3], 'reviewText': \"I just recently purchased her ''Paint The Sky With Stars'' CD and was so impressed that I bought 3 of her previously released CD's and plan to buy all her music.  She is truely talented and her music is very unique with a combination of modern classical and pop with a hint of an Angelic tone. I still recommend you buy this CD. Anybody who has an appreciation for music will certainly enjoy her music.\", 'overall': 5.0, 'summary': 'New Enya Fan.  Simply beautiful.', 'unixReviewTime': 978393600, 'reviewTime': '01 2, 2001'}\n",
      "{'reviewerID': 'A1SCJWCMQ3W3KK', 'asin': '5555991584', 'reviewerName': 'Irishgal', 'helpful': [1, 1], 'reviewText': 'Over the past twenty-odd years, Enya Brennan has become known worldwide for her layered vocals and delicate instrumentation, in many ways defining New Age music. But for her to have essentially taken the crown of this genre implies a depth to her music, and this is very evident on \"The Memory of Trees\".Enya\\'s first few albums were good, but there was something missing, something that had yet to be developed. I\\'m not entirely sure what that intangible \"something\" was, but she certainly found it on this one. The title track is an instrumental masterpiece featuring her trademark layered vocals (though no lyrics to speak of), and it reminds on of a clear fall day. This sets the pace for the record, which is decidedly autumnal. \\'Anywhere Is\\' is about the maze that life\\'s choices put us into, while \\'Pax Deorum\\' features few lyrics (all in Latin) that reverberate almost like a dark stormy night that eventually settles into a calm drizzle. \\'Once You had Gold\\' is as delicate as a falling leaf, and \\'On My Way Home\\' brings back memories of weekend trips home from college, traveling through the gorgeous foliage and dizzying scents of fall.If \\'Only Time\\' defined her \"A Day without Rain\" album, it\\'s \\'China Roses\\' that defines \"The Memory of Trees\". Enya has crafted a lullaby-like soothing piece of moonlight that is instantly calming. It\\'s easily the best piece of the record and, even nearly twenty years after the album\\'s release, it still stands firmly, refusing to sound dated in a genre that, at one point, relied a little too much on synthesizers.It\\'s been over fifteen years since \"The Memory of Trees\" was released, but it\\'s a still favorite when it comes to Enya\\'s music. As another reviewer said, you can\\'t go wrong with this artist, but this album is definitely one of her best.', 'overall': 4.0, 'summary': 'Definitely One of Her Best', 'unixReviewTime': 1360454400, 'reviewTime': '02 10, 2013'}\n",
      "{'reviewerID': 'A14BTJRH9VNLJJ', 'asin': '5555991584', 'reviewerName': 'Kurt A. Johnson', 'helpful': [1, 1], 'reviewText': \"[One CD, with a running time of 44 minutes.] Ah...this wonderful CD shows off Enya's silky smooth voice. The eleven tunes are hauntingly beautiful. I won't try to categorize her music, it is simply too rich and complex.The paperwork includes the words to ten of the songs (The Memory of Trees is a musical number), and two nice color pictures of Enya. (I love extras!) So, if you like Enya's past hits, then I think that you will like this one as well. Buy it!\", 'overall': 5.0, 'summary': 'Wonderful!', 'unixReviewTime': 1375142400, 'reviewTime': '07 30, 2013'}\n",
      "{'reviewerID': 'A2AOZQ3WTNVVOK', 'asin': '5555991584', 'reviewerName': 'Lonnie E. Holder \"The Review\\'s the Thing\"', 'helpful': [12, 13], 'reviewText': 'The problem with Enya is that she is so consistently good.  It is difficult to write a review that says something different from previous reviews (having recently reviewed \"A Day without Rain\" and previously \"Watermark\").  The same words, ethereal, ephemeral, airy, haunting, and spiritual apply to each album.  The only risk is that my reviews become boring, because Enya could never be.This CD begins with the instrumental track \"The Memory of Trees.\"  While \"The Memory of Trees\" is nominally an instrumental, there are voices that punctuate portions of the music.  This opening feels optimistic, though the title feels as though it is vaguely related to forests and lands gone by.  The vocals provide a chorale sound that builds and cascades around you with the feeling of great trees and landscapes greater than any of the puny works of mankind.  Great beasts wander about and smaller beasts enter and exit the brush at the edges of clearings in the great forest in a celebration of nature.The pace speeds up in the peppy \"Anywhere Is.\"  The lyrics are poetic and symbolic and are a mirror maze of mental images.  As is frequently typical of Enya the lyrics seem to make sense until you attempt to understand them and then their meaning escapes your grasp.  In this case the song seems to be describing the paths we take in life and the choices that we make, and whether they can be unmade, and even whether the choices take us to or from the one we love.  Another unusual feature of this song is the predominant instruments which compete for attention with Enya\\'s voice.  Typically Enya\\'s voice stands out clearly from the instruments, which in this case are mostly strings and piano.\"Pax Deorum\" is somewhat ominous, and fits with the following song, \"Athair Ar Neamh.\"  Both songs are simple songs that relate to God.  \"Pax Deorum\" translates roughly as \"The Peace of the Gods,\" or seeking to placate the gods.  \"Athair Ar Neamh\" translates approximately as \"Father in Heaven.\"  Note that the title of the latter song appears as a line in the former song, tying both songs together, and placing an Irish Gaelic line into a Latin song.  There are moments of choral lightness in the otherwise ominous \"Pax Deorum,\" which I believe has appeared as the background music for a commercial.  The latter song is more contemplative and ethereal and Enya allows the beauty of her voice to caress and harmonize the Irish Gaelic verses.\"From Where I Am\" is a relatively sedate instrumental that forms a brief piano interlude leading into \"China Roses.\"  This song manages to capture the wonder of the universe and the beauty of heaven all in one song.  This song transcends the poetic to the surrealistic both lyrically and vocally.  Once again Enya allows her voice to be a beautiful instrument to complement the strings and piano to create a work of aural art.\"Hope Has a Place\" is the first song where the lyrics are relatively easy to understand.  The concept is simple: there is always hope where there is love.  The vocals are beautiful (again) and may remind a listener of the song Enya wrote for \"The Lord of the Rings.\"  This song is for romantics and candle-lit dinners everywhere.Another instrumental interlude follows.  \"Tea-House Moon\" has some of the most interesting instrumental effects on this CD.  The mood is contemplative and traditional, though with a vaguely Asian flavor.  This instrumental is the music for a heavenly choreography.The next song changes style, again, and yet fits within the character of the album.  \"Once You Had Gold\" seems to allude to the transitory nature of all things, perhaps most particularly life.  There are lines that seem to say that things come and things go, and you need to accept the joys that you can get just from being here to greet the new day.  I particularly like the last line which says that there are no promises in life, that there is good and bad and that one must make the best of any situation.  The song is sung in a fairy tale style, a cautionary tale young and old.The next song translates as \"The Dreamer.\"  The music tells you all you need to know about the words, which are surrealistic and, of course, dream-like.  The ephemeral lyrics and music bespeaks an atmosphere, a feeling, a place that can only exist in our dreams, though we might wish otherwise.  This song nearly achieves allowing us to be a creation of our imagination.At last we must awaken from the fantasy Enya has woven for us.  \"On My Way Home\" returns us to this place and time, but with a longing for the place we leave, the poetry that has been woven for us.  Yet, we rejoice for we return to a place of familiarity, and still, there is the memory, yes indeed, \"The Memory of Trees.\"', 'overall': 5.0, 'summary': 'Beautiful', 'unixReviewTime': 1108425600, 'reviewTime': '02 15, 2005'}\n",
      "{'reviewerID': 'A1BXA3SM3AJOKL', 'asin': '5555991584', 'reviewerName': 'Michele L. Worley', 'helpful': [2, 2], 'reviewText': 'If for some reason you\\'re interested in only a selection of the songs herein, the same recordings of \"Anywhere Is\", \"China Roses\", \"The Memory of Trees\", and \"On My Way Home\" have been collected on PAINT THE SKY WITH STARS.Enya composed all the music, sang all the songs, and provided all the accompaniment;  Roma Ryan wrote the lyrics; Nicky Ryan helped with the arrangements and handled the engineering and mixing. Except where noted otherwise, each song is sung in English.Enya is one of the best composers and performers I know to unwind with; another in this category is Ryan Miller, who composed the soundtracks for the video games MYST and RIVEN.\"The Memory of Trees\" (instrumental and voices, no lyrics) Waltz tempo, opening with electronic keyboard, joined by piano. Enya joins in vocally but without words partway through. The main theme is about six notes long, continually repeated with variations. One of my two favourites on this CD, ranked only after \"China Roses\".\"Anywhere Is\" Unusually staccato for Enya, mainly string accompaniment. No percussion, some piano. The lyrics are very distinct and easy to follow except during the chorus, when the louder volume of the accompaniment and softer singing obscures the words a little. (\"You go there you\\'re gone forever / I go there I\\'ll lose my way / if we stay here we\\'re not together / Anywhere is\").\"Pax Deorum\" (sung in Latin) Noticeably deeper pitched-chorus and accompaniment than usual. The accompaniment includes some percussion, in this case base drum, although the beat is mainly carried by the keyboard.\"Athair ar Neamh\" is sung in Gaelic, with very quiet keyboard accompaniment so that Enya\\'s voice carries the main lyrics very clearly. During the chorus, a multiple-track arrangement wherein she appears to sing with herself blurs the effect a little. Very clear and bell-like, on the whole.\"From Where I Am\" (instrumental only) Specifically piano. As usual with Enya, her piano solo here makes me think of water imagery.\"China Roses\" Waltz tempo again, opening with electronic keyboard, but most of the accompaniment is covered by piano. \"I know that if I have heaven / there is nothing to desire; Rain and river, a world of wonder / may be paradise to me.\" Most of the verses contain a reference to heaven, the night sky.\"Hope Has a Place\" I would tentatively call this waltz tempo again, but it\\'s very slow, and the beat isn\\'t quite regular. Enya\\'s singing comes through very clearly herein (except for the more complex choruses, as usual). The accompaniment consists of very simple chords on an electric keyboard so as not to drown out the singing. The refrain is \"Hope has a place in a lover\\'s heart.\"\"Tea House Moon\" (instrumental) Unusually electronic feel to the keyboard carrying the melody in this one. Doesn\\'t seem typical of Enya\\'s work.\"Once You Had Gold\", \\'once you had silver / Then came the rains / out of the blue. / Ever and always, / always and ever,\" with the refrain \"Time gave both darkness and dreams to you.\" Waltz tempo again, almost a lullaby in this instance, Enya\\'s singing dominating the piano and keyboard accompaniment with a wordless chorus.\"La Sonadora\" - Sung in Spanish, very drowsily, waltz tempo again. The quiet accompaniment is primarily voice with some very deep string, with organ joining in after a couple of verses.\"On My Way Home\" - Opens with organ accompaniment, as in the later part of the previous song, but then switches to a very staccato keyboard accompanying Enya\\'s singing. \"On my way home / I remember / only good days.\"', 'overall': 4.0, 'summary': '11 tracks', 'unixReviewTime': 1114473600, 'reviewTime': '04 26, 2005'}\n",
      "{'reviewerID': 'A3CCYAQRHUTPIQ', 'asin': '5555991584', 'reviewerName': 'Mr. A. Pomeroy', 'helpful': [3, 4], 'reviewText': \"Released five years after 'Shepherd Moons', during which 'The Celts' had been re-released, 'The Memory of Trees' was much-anticipated by fans of Enya, and turned out to be only slightly less impressive than the previous  two albums.The Christmassy lead single, 'Anywhere Is', set the tone  excellently - an extremely simple and addictive tune, repeated constantly,  it was fun, and not at all serious. The rest of the album seemed a  reflection of this, and as with 'Watermark' it was a generally cheery  collection. Still, despite an excellent set of opening songs, the album  seemed to bog down into too many ballads towards the end ('La Sonadora',  although introducing Spanish to Enya's vocabulary, went on and on and on),  despite the presence of the rousing 'On my way home' as a closing song. The  title track seemed uncomfortably close to being a cliche, too.Despite  all that, it was business as before - the production seemed more earthy and  less ethereal, and 'On my way home' was the closest thing to a mainstream  single Enya has ever done.\", 'overall': 5.0, 'summary': 'Pop', 'unixReviewTime': 958867200, 'reviewTime': '05 21, 2000'}\n",
      "{'reviewerID': 'AHUT55E980RDR', 'asin': '5555991584', 'reviewerName': 'Neal C. Reynolds', 'helpful': [0, 0], 'reviewText': '(...)She is one of a kind, and this album only enhances her contribution to musical enjoyment. As always, the instrumental opening sets a mood, followed by the lively \"Anywhere Is\", a song which grew on me each time I listened. Each song is exquisite, but for me, \"China Roses\" is the most delicately crafted song. However, \"Once You Had Gold\" which isn\\'t mentioned as much is another of the highpoints. \"On My Way Home\" is a fitting conclusion to the album. I have heard rumors that not everybody likes Enya, and if there is a person who doesn\\'t like her, then he or she shouldn\\'t get this CD, but for everybody else, this is one of the essential CD\\'s for your collection.', 'overall': 5.0, 'summary': 'Pure, angelic, spiritual,', 'unixReviewTime': 995328000, 'reviewTime': '07 17, 2001'}\n",
      "{'reviewerID': 'A24N1BAS3CU27H', 'asin': '5555991584', 'reviewerName': 'Nse Ette', 'helpful': [2, 3], 'reviewText': \"What an enchanting collection this is. I fell in love with Enya's music right from her first hit `Orinocco flow' and have been a fan ever since.Enya's haunting and ethereal voice, coupled with rich, magical musical arrangements, layered dreamy sounding backing vocals, and lyrics sung in English, Latin, and Gaelic, set her aside form all other new age artists.Opening track `Memory of trees' is a beautiful instrumental with angelic voices flitting in and out.`Anywhere is' has an upbeat tempo, cutting strings, lush instrumentation, and poetic lyrics.`Tea-house moon' is an instrumental with a Chinese sound. Magical keyboards (I think) set against a delicate backdrop. Beautiful! Just as delicate is `La So&ntilde;adora' with very ethereal vocals against a gently brooding soundscape. Then there's the tender piano instrumental `From where I am'.`Pax deorum' (sung in latin) will have you checking to see you're not in a monastery. Very religious sounding!The absolute standout has got to be `Athair ar nearmh' (sung in Gaelic). This song is stunning! Angelic vocals, delicate piano, with delicate strings sweeping in and out. Mournful sounding but outstanding!A magical, delicate, angelic experience!\", 'overall': 5.0, 'summary': 'Angelic!', 'unixReviewTime': 1123459200, 'reviewTime': '08 8, 2005'}\n",
      "{'reviewerID': 'A19YHEBK099R7U', 'asin': '5555991584', 'reviewerName': 'Rich Latta \"meltdowner\"', 'helpful': [2, 2], 'reviewText': 'Enya - The Memory of Trees (1995)In certain circles, such as my profession, massage therapy, Enya is ubiquitous. People tend to get really tired of hearing her all the time. E.O. - Enya Overdose - can be an unpleasant, almost sickly experience. Aside from that, I think some people are just jealous of her enormous popularity. I just learned that her \"Day Without Rain\" CD which came out in 2000 was the 16th highest seller of the last decade.But she\\'s wildly popular for good reasons. One could say her music is synthesized plastic, but it\\'s beautiful, soothing plastic . . . what\\'s not plastic is Enya\\'s sweet, melodic voice (at least I HOPE it\\'s not plastic! - I sincerely doubt she uses auto-tune). Enya\\'s been accused of being soulless - harsh! - but sometimes you\\'d rather hear something calming, pleasant and pretty instead of some gut-wrenching Aretha Franklin or Janis Joplin weeper, wouldn\\'t you?The following is a song-by-song breakdown of the album to give readers an idea of which tracks they might like to sample before getting the whole album:\"The Memory of Trees\" - a majestic, cinematic opener. No lyrics, it serves as a wonderful prelude. *****\"Anywhere Is\" - I know some people like this one but I find it unbearable. To me, it\\'s too cloying, \"sing-songy\" and flat-out dorky. It\\'s just too \"jaunty\" for my tastes. I\\'m forced to program the songs on my CD player whenever I want to hear this album because I refuse to listen to this one (and of course, I program only certain songs from this album for massage). I was shocked to see it on Enya\\'s Greatest Hits collection. *\"Pax Deorum\" - Quite different than anything else here, this track has an ominous, pulsing sound which makes me think of impending war in some Medieval or Lord of the Rings setting. Enya chants most of the words, sung in Gallic, in a low register. I never use it for massage but it\\'s an interesting track if yer in the mood for it. ***1/2\"Athair Ar Neamh\" - Another one sung in Gallic, this soft, restrained song is one of the most beautiful on the album. *****+\"From Where I Am\" - is a short instrumental with only piano and some very subtle atmospheric touches. A sweet melody. *****\"China Roses\" - possibly Enya\\'s best song ever. Sounds like floating through heaven. Magical! *****+\"Hope Has a Place\" - a gentle song about love. ****1/2\"Tea-House Moon\" - a pretty instrumental, vaguely Oriental. ****\"Once You Had Gold\" - another, soft, sweet song with a gorgeous melody. ****1/2\"La Sonadora\" - is a subtle, slightly somber track sung in Spanish. ****\"On My Way Home\" - begins with some rolling, old-school synth sounds reminiscent of her first album and soon bursts with bright energy. A fitting finale. ****', 'overall': 4.0, 'summary': 'Some Gorgeous Music Here - Enya Gets A Bad Rap!', 'unixReviewTime': 1261094400, 'reviewTime': '12 18, 2009'}\n",
      "{'reviewerID': 'A16KCH578FG4B4', 'asin': '5555991584', 'reviewerName': 'Russell Diederich', 'helpful': [8, 9], 'reviewText': 'Enya has one of the most beautiful voices of this day. Her voice is fitting for the style of music she sings. Clear as a bell, her voice is airy and light, as she sings in English, Latin, or Gaelic. There is a lot of power in her voice. The music she chooses supports her voice appropriately, and adds to her sound. She has the ability to conjure up images with each note she sings. Like all of her previous albums, this one is again excellent.There are a many great songs on this album. \"China Roses\" has that airy sound that Enya is well known for. She sings the backing vocal as an arpeggio of three long notes of just her voice. Over it, she sings the lyrics of the song in her crisp tone, almost like a crystal bell ringing. The Latin sounding \"Pax Deorum\" has a medieval sound to it. Again, she utilizes her voice singing in the background, to add counterpoint to the lyrics.  \"Anywhere Is\" sounds like the perfect single for the album. Much more upbeat than the other songs, it has a very staccato feel making it a very energetic song. On the opposite end of the spectrum is \"Hope Has a Place\". Here her voice has a very haunting quality to it, made even more so with the organ playing behind her. It is a very beautiful song.I\\'m amazed at how Enya can keep making new albums that sound similar to her previous ones, yet be totally new for the listener as well. Her voice is aging well, and she seems to improve with each passing album. I hope to hear much more from her in the future, as there is always room in my collection for her beautiful voice.', 'overall': 5.0, 'summary': 'Beautiful', 'unixReviewTime': 1044921600, 'reviewTime': '02 11, 2003'}\n"
     ]
    }
   ],
   "source": [
    "# This is what our data will look like. You have a dictionary with integers as keys [0,1,2,3,4...], and as values one \n",
    "# datapoint. Each datapoint in itself is a dictionary, with as keys the attribute, and as value the value of that attribute.\n",
    "for i in range(20):\n",
    "    print(data[i])"
   ]
  },
  {
   "cell_type": "code",
   "execution_count": 13,
   "metadata": {},
   "outputs": [
    {
     "name": "stdout",
     "output_type": "stream",
     "text": [
      "Number of colums in Dataframe :  9\n",
      "Number of rows in Dataframe :  64706\n"
     ]
    },
    {
     "data": {
      "text/html": [
       "<div>\n",
       "<style scoped>\n",
       "    .dataframe tbody tr th:only-of-type {\n",
       "        vertical-align: middle;\n",
       "    }\n",
       "\n",
       "    .dataframe tbody tr th {\n",
       "        vertical-align: top;\n",
       "    }\n",
       "\n",
       "    .dataframe thead th {\n",
       "        text-align: right;\n",
       "    }\n",
       "</style>\n",
       "<table border=\"1\" class=\"dataframe\">\n",
       "  <thead>\n",
       "    <tr style=\"text-align: right;\">\n",
       "      <th></th>\n",
       "      <th>reviewerID</th>\n",
       "      <th>asin</th>\n",
       "      <th>reviewerName</th>\n",
       "      <th>helpful</th>\n",
       "      <th>reviewText</th>\n",
       "      <th>overall</th>\n",
       "      <th>summary</th>\n",
       "      <th>unixReviewTime</th>\n",
       "      <th>reviewTime</th>\n",
       "    </tr>\n",
       "  </thead>\n",
       "  <tbody>\n",
       "    <tr>\n",
       "      <td>0</td>\n",
       "      <td>A3EBHHCZO6V2A4</td>\n",
       "      <td>5555991584</td>\n",
       "      <td>Amaranth \"music fan\"</td>\n",
       "      <td>[3, 3]</td>\n",
       "      <td>It's hard to believe \"Memory of Trees\" came ou...</td>\n",
       "      <td>5.0</td>\n",
       "      <td>Enya's last great album</td>\n",
       "      <td>1158019200</td>\n",
       "      <td>09 12, 2006</td>\n",
       "    </tr>\n",
       "    <tr>\n",
       "      <td>1</td>\n",
       "      <td>AZPWAXJG9OJXV</td>\n",
       "      <td>5555991584</td>\n",
       "      <td>bethtexas</td>\n",
       "      <td>[0, 0]</td>\n",
       "      <td>A clasically-styled and introverted album, Mem...</td>\n",
       "      <td>5.0</td>\n",
       "      <td>Enya at her most elegant</td>\n",
       "      <td>991526400</td>\n",
       "      <td>06 3, 2001</td>\n",
       "    </tr>\n",
       "    <tr>\n",
       "      <td>2</td>\n",
       "      <td>A38IRL0X2T4DPF</td>\n",
       "      <td>5555991584</td>\n",
       "      <td>bob turnley</td>\n",
       "      <td>[2, 2]</td>\n",
       "      <td>I never thought Enya would reach the sublime h...</td>\n",
       "      <td>5.0</td>\n",
       "      <td>The best so far</td>\n",
       "      <td>1058140800</td>\n",
       "      <td>07 14, 2003</td>\n",
       "    </tr>\n",
       "    <tr>\n",
       "      <td>3</td>\n",
       "      <td>A22IK3I6U76GX0</td>\n",
       "      <td>5555991584</td>\n",
       "      <td>Calle</td>\n",
       "      <td>[1, 1]</td>\n",
       "      <td>This is the third review of an irish album I w...</td>\n",
       "      <td>5.0</td>\n",
       "      <td>Ireland produces good music.</td>\n",
       "      <td>957312000</td>\n",
       "      <td>05 3, 2000</td>\n",
       "    </tr>\n",
       "    <tr>\n",
       "      <td>4</td>\n",
       "      <td>A1AISPOIIHTHXX</td>\n",
       "      <td>5555991584</td>\n",
       "      <td>Cloud \"...\"</td>\n",
       "      <td>[1, 1]</td>\n",
       "      <td>Enya, despite being a successful recording art...</td>\n",
       "      <td>4.0</td>\n",
       "      <td>4.5; music to dream to</td>\n",
       "      <td>1200528000</td>\n",
       "      <td>01 17, 2008</td>\n",
       "    </tr>\n",
       "    <tr>\n",
       "      <td>5</td>\n",
       "      <td>A2P49WD75WHAG5</td>\n",
       "      <td>5555991584</td>\n",
       "      <td>Daniel J. Hamlow</td>\n",
       "      <td>[62, 65]</td>\n",
       "      <td>Who knows why I initially considered this to b...</td>\n",
       "      <td>5.0</td>\n",
       "      <td>Dreamy unearthly magic continues with Eire's o...</td>\n",
       "      <td>1059523200</td>\n",
       "      <td>07 30, 2003</td>\n",
       "    </tr>\n",
       "    <tr>\n",
       "      <td>6</td>\n",
       "      <td>A3O90G1D7I5EGG</td>\n",
       "      <td>5555991584</td>\n",
       "      <td>dev1</td>\n",
       "      <td>[1, 5]</td>\n",
       "      <td>Enya is one of a few artists whom I consider s...</td>\n",
       "      <td>3.0</td>\n",
       "      <td>Have You Hugged A Tree Today?</td>\n",
       "      <td>959385600</td>\n",
       "      <td>05 27, 2000</td>\n",
       "    </tr>\n",
       "    <tr>\n",
       "      <td>7</td>\n",
       "      <td>A3EJYJC25OJVKK</td>\n",
       "      <td>5555991584</td>\n",
       "      <td>Distant Voyageur \"Nicholas Computer\"</td>\n",
       "      <td>[5, 5]</td>\n",
       "      <td>Enya is one of of the most mysterious singers ...</td>\n",
       "      <td>5.0</td>\n",
       "      <td>The album for a romantic autumn evening</td>\n",
       "      <td>1040428800</td>\n",
       "      <td>12 21, 2002</td>\n",
       "    </tr>\n",
       "    <tr>\n",
       "      <td>8</td>\n",
       "      <td>A1DA8VOH9NR6C7</td>\n",
       "      <td>5555991584</td>\n",
       "      <td>E. Minkovitch</td>\n",
       "      <td>[4, 4]</td>\n",
       "      <td>This is not another lousy Celtic New Age album...</td>\n",
       "      <td>5.0</td>\n",
       "      <td>Simply wonderful.</td>\n",
       "      <td>1167868800</td>\n",
       "      <td>01 4, 2007</td>\n",
       "    </tr>\n",
       "    <tr>\n",
       "      <td>9</td>\n",
       "      <td>A33TRNCQK4IUO7</td>\n",
       "      <td>5555991584</td>\n",
       "      <td>guillermoj</td>\n",
       "      <td>[12, 12]</td>\n",
       "      <td>Many times, AND WITH GOOD REASON, the \"new age...</td>\n",
       "      <td>5.0</td>\n",
       "      <td>A true gem, even if you don't love conventiona...</td>\n",
       "      <td>1052697600</td>\n",
       "      <td>05 12, 2003</td>\n",
       "    </tr>\n",
       "  </tbody>\n",
       "</table>\n",
       "</div>"
      ],
      "text/plain": [
       "       reviewerID        asin                          reviewerName   helpful  \\\n",
       "0  A3EBHHCZO6V2A4  5555991584                  Amaranth \"music fan\"    [3, 3]   \n",
       "1   AZPWAXJG9OJXV  5555991584                             bethtexas    [0, 0]   \n",
       "2  A38IRL0X2T4DPF  5555991584                           bob turnley    [2, 2]   \n",
       "3  A22IK3I6U76GX0  5555991584                                 Calle    [1, 1]   \n",
       "4  A1AISPOIIHTHXX  5555991584                           Cloud \"...\"    [1, 1]   \n",
       "5  A2P49WD75WHAG5  5555991584                      Daniel J. Hamlow  [62, 65]   \n",
       "6  A3O90G1D7I5EGG  5555991584                                  dev1    [1, 5]   \n",
       "7  A3EJYJC25OJVKK  5555991584  Distant Voyageur \"Nicholas Computer\"    [5, 5]   \n",
       "8  A1DA8VOH9NR6C7  5555991584                         E. Minkovitch    [4, 4]   \n",
       "9  A33TRNCQK4IUO7  5555991584                            guillermoj  [12, 12]   \n",
       "\n",
       "                                          reviewText  overall  \\\n",
       "0  It's hard to believe \"Memory of Trees\" came ou...      5.0   \n",
       "1  A clasically-styled and introverted album, Mem...      5.0   \n",
       "2  I never thought Enya would reach the sublime h...      5.0   \n",
       "3  This is the third review of an irish album I w...      5.0   \n",
       "4  Enya, despite being a successful recording art...      4.0   \n",
       "5  Who knows why I initially considered this to b...      5.0   \n",
       "6  Enya is one of a few artists whom I consider s...      3.0   \n",
       "7  Enya is one of of the most mysterious singers ...      5.0   \n",
       "8  This is not another lousy Celtic New Age album...      5.0   \n",
       "9  Many times, AND WITH GOOD REASON, the \"new age...      5.0   \n",
       "\n",
       "                                             summary  unixReviewTime  \\\n",
       "0                            Enya's last great album      1158019200   \n",
       "1                           Enya at her most elegant       991526400   \n",
       "2                                    The best so far      1058140800   \n",
       "3                       Ireland produces good music.       957312000   \n",
       "4                             4.5; music to dream to      1200528000   \n",
       "5  Dreamy unearthly magic continues with Eire's o...      1059523200   \n",
       "6                      Have You Hugged A Tree Today?       959385600   \n",
       "7            The album for a romantic autumn evening      1040428800   \n",
       "8                                  Simply wonderful.      1167868800   \n",
       "9  A true gem, even if you don't love conventiona...      1052697600   \n",
       "\n",
       "    reviewTime  \n",
       "0  09 12, 2006  \n",
       "1   06 3, 2001  \n",
       "2  07 14, 2003  \n",
       "3   05 3, 2000  \n",
       "4  01 17, 2008  \n",
       "5  07 30, 2003  \n",
       "6  05 27, 2000  \n",
       "7  12 21, 2002  \n",
       "8   01 4, 2007  \n",
       "9  05 12, 2003  "
      ]
     },
     "execution_count": 13,
     "metadata": {},
     "output_type": "execute_result"
    }
   ],
   "source": [
    "import numpy as np\n",
    "import matplotlib.pyplot as plt\n",
    "import pandas as pd\n",
    "from sklearn.model_selection import train_test_split\n",
    "from sklearn.preprocessing import StandardScaler\n",
    "from collections import defaultdict\n",
    "\n",
    "ds = pd.DataFrame.from_dict(data, orient='index')\n",
    "\n",
    "print('Number of colums in Dataframe : ', len(ds.columns))\n",
    "print('Number of rows in Dataframe : ', len(ds.index))\n",
    "ds.head(n=10)"
   ]
  },
  {
   "cell_type": "code",
   "execution_count": 18,
   "metadata": {},
   "outputs": [
    {
     "data": {
      "text/html": [
       "<div>\n",
       "<style scoped>\n",
       "    .dataframe tbody tr th:only-of-type {\n",
       "        vertical-align: middle;\n",
       "    }\n",
       "\n",
       "    .dataframe tbody tr th {\n",
       "        vertical-align: top;\n",
       "    }\n",
       "\n",
       "    .dataframe thead th {\n",
       "        text-align: right;\n",
       "    }\n",
       "</style>\n",
       "<table border=\"1\" class=\"dataframe\">\n",
       "  <thead>\n",
       "    <tr style=\"text-align: right;\">\n",
       "      <th></th>\n",
       "      <th>reviewerID</th>\n",
       "      <th>asin</th>\n",
       "      <th>overall</th>\n",
       "    </tr>\n",
       "  </thead>\n",
       "  <tbody>\n",
       "    <tr>\n",
       "      <td>0</td>\n",
       "      <td>A3EBHHCZO6V2A4</td>\n",
       "      <td>5555991584</td>\n",
       "      <td>5.0</td>\n",
       "    </tr>\n",
       "    <tr>\n",
       "      <td>1</td>\n",
       "      <td>AZPWAXJG9OJXV</td>\n",
       "      <td>5555991584</td>\n",
       "      <td>5.0</td>\n",
       "    </tr>\n",
       "    <tr>\n",
       "      <td>2</td>\n",
       "      <td>A38IRL0X2T4DPF</td>\n",
       "      <td>5555991584</td>\n",
       "      <td>5.0</td>\n",
       "    </tr>\n",
       "    <tr>\n",
       "      <td>3</td>\n",
       "      <td>A22IK3I6U76GX0</td>\n",
       "      <td>5555991584</td>\n",
       "      <td>5.0</td>\n",
       "    </tr>\n",
       "    <tr>\n",
       "      <td>4</td>\n",
       "      <td>A1AISPOIIHTHXX</td>\n",
       "      <td>5555991584</td>\n",
       "      <td>4.0</td>\n",
       "    </tr>\n",
       "  </tbody>\n",
       "</table>\n",
       "</div>"
      ],
      "text/plain": [
       "       reviewerID        asin  overall\n",
       "0  A3EBHHCZO6V2A4  5555991584      5.0\n",
       "1   AZPWAXJG9OJXV  5555991584      5.0\n",
       "2  A38IRL0X2T4DPF  5555991584      5.0\n",
       "3  A22IK3I6U76GX0  5555991584      5.0\n",
       "4  A1AISPOIIHTHXX  5555991584      4.0"
      ]
     },
     "execution_count": 18,
     "metadata": {},
     "output_type": "execute_result"
    }
   ],
   "source": [
    "ds_cleaned = ds.iloc[:,np.r_[:2, 5]]\n",
    "ds_cleaned.head()"
   ]
  },
  {
   "cell_type": "code",
   "execution_count": 20,
   "metadata": {
    "scrolled": true
   },
   "outputs": [],
   "source": [
    "cleaned_val = ds_cleaned.values\n",
    "\n",
    "user2product = defaultdict(dict)\n",
    "for reviewerID, asin, overall in cleaned_val:\n",
    "    user2product[reviewerID][asin] = overall"
   ]
  },
  {
   "cell_type": "code",
   "execution_count": 25,
   "metadata": {},
   "outputs": [
    {
     "name": "stdout",
     "output_type": "stream",
     "text": [
      "no. of users: 5541\n",
      "no of reviews in user 1: 91\n",
      "('A3EBHHCZO6V2A4', {'5555991584': 5.0, 'B000002NJS': 5.0, 'B000002P5W': 5.0, 'B00000DHZJ': 5.0, 'B00005QZH2': 5.0, 'B00005YW4H': 2.0, 'B0009WFF0Y': 2.0, 'B000S50QYC': 5.0, 'B000V3L0ZK': 2.0, 'B000VS8UJY': 5.0, 'B000W0YVX0': 5.0, 'B000WL7UQ4': 2.0, 'B00137GGZC': 3.0, 'B00137KS2O': 3.0, 'B00137RGS8': 3.0, 'B0013D8BK4': 3.0, 'B0017OLUUC': 2.0, 'B001A7DDTC': 3.0, 'B001AAAT6O': 5.0, 'B001AAAT7I': 2.0, 'B001AAE9N8': 3.0, 'B001AAHQLA': 2.0, 'B001AUEMFS': 3.0, 'B001BNK58W': 2.0, 'B001DU4PHA': 3.0, 'B001FX5V8M': 3.0, 'B001FX9QS8': 1.0, 'B001GLHBIG': 4.0, 'B001IXQU3O': 3.0, 'B001IXSU8W': 5.0, 'B001IXUUNU': 5.0, 'B001JODA58': 3.0, 'B001K3JF7K': 2.0, 'B001L2BIHK': 2.0, 'B001NBO0KG': 2.0, 'B001Q6ERVA': 5.0, 'B001W3T44W': 3.0, 'B001X3EQLW': 2.0, 'B001XJTB8E': 3.0, 'B0024RI70M': 2.0, 'B00299CER2': 5.0, 'B002BPH1F4': 2.0, 'B002BPKWH8': 1.0, 'B002I53BL0': 5.0, 'B002K0OGOO': 3.0, 'B002O1QKGQ': 5.0, 'B002POXFQA': 5.0, 'B002X063LA': 5.0, 'B003DEE470': 1.0, 'B003NJVBPS': 5.0, 'B003Y3XTCQ': 5.0, 'B003Y3XTJO': 5.0, 'B003YK9IOC': 5.0, 'B0043ZFAIA': 1.0, 'B00468AWDW': 5.0, 'B0047GL56G': 2.0, 'B004948NSO': 5.0, 'B0049FGVV4': 5.0, 'B004BSHAHI': 5.0, 'B004NYNGTQ': 5.0, 'B004PVH8I2': 5.0, 'B004RCXUK4': 5.0, 'B004S5JBZ8': 1.0, 'B0051QJ9EG': 2.0, 'B0051QK8PU': 5.0, 'B005636AFU': 5.0, 'B005636AJQ': 1.0, 'B0057UVLVK': 5.0, 'B0059H09DC': 5.0, 'B005I0C4I8': 5.0, 'B005I0DM52': 5.0, 'B005IVUWVS': 5.0, 'B005LAZP18': 3.0, 'B005LMEFEY': 2.0, 'B005NMAX8E': 5.0, 'B005QIBP82': 5.0, 'B005RVXYMI': 1.0, 'B005T18DB8': 3.0, 'B005XOPFWQ': 5.0, 'B006AR2D1G': 1.0, 'B006M6W0AY': 4.0, 'B006OAMVQ6': 2.0, 'B006OITIWS': 2.0, 'B007JOM5XA': 3.0, 'B007RI58VE': 5.0, 'B007VF2PAA': 5.0, 'B008BUFQY6': 5.0, 'B008XBRV6Y': 2.0, 'B00970FKQ8': 5.0, 'B009KUAOH0': 5.0, 'B00AAJFAP6': 3.0})\n"
     ]
    }
   ],
   "source": [
    "print(\"no. of users:\", len(user2product))\n",
    "print(\"no of reviews in user 1:\", len(list(user2product.items())[0][1]))\n",
    "print(list(user2product.items())[0])"
   ]
  },
  {
   "cell_type": "code",
   "execution_count": 26,
   "metadata": {},
   "outputs": [
    {
     "name": "stdout",
     "output_type": "stream",
     "text": [
      "[{}, {}, {}, {}, {}, {}]\n"
     ]
    }
   ],
   "source": []
  },
  {
   "cell_type": "code",
   "execution_count": 8,
   "metadata": {},
   "outputs": [
    {
     "ename": "NameError",
     "evalue": "name 'X_train' is not defined",
     "output_type": "error",
     "traceback": [
      "\u001b[0;31m---------------------------------------------------------------------------\u001b[0m",
      "\u001b[0;31mNameError\u001b[0m                                 Traceback (most recent call last)",
      "\u001b[0;32m<ipython-input-8-6fd7666ec466>\u001b[0m in \u001b[0;36m<module>\u001b[0;34m\u001b[0m\n\u001b[1;32m      1\u001b[0m \u001b[0mscaler\u001b[0m \u001b[0;34m=\u001b[0m \u001b[0mStandardScaler\u001b[0m\u001b[0;34m(\u001b[0m\u001b[0;34m)\u001b[0m\u001b[0;34m\u001b[0m\u001b[0;34m\u001b[0m\u001b[0m\n\u001b[0;32m----> 2\u001b[0;31m \u001b[0mscaler\u001b[0m\u001b[0;34m.\u001b[0m\u001b[0mfit\u001b[0m\u001b[0;34m(\u001b[0m\u001b[0mX_train\u001b[0m\u001b[0;34m)\u001b[0m\u001b[0;34m\u001b[0m\u001b[0;34m\u001b[0m\u001b[0m\n\u001b[0m\u001b[1;32m      3\u001b[0m \u001b[0;34m\u001b[0m\u001b[0m\n\u001b[1;32m      4\u001b[0m \u001b[0mX_train\u001b[0m \u001b[0;34m=\u001b[0m \u001b[0mscaler\u001b[0m\u001b[0;34m.\u001b[0m\u001b[0mtransform\u001b[0m\u001b[0;34m(\u001b[0m\u001b[0mX_train\u001b[0m\u001b[0;34m)\u001b[0m\u001b[0;34m\u001b[0m\u001b[0;34m\u001b[0m\u001b[0m\n\u001b[1;32m      5\u001b[0m \u001b[0mX_test\u001b[0m \u001b[0;34m=\u001b[0m \u001b[0mscaler\u001b[0m\u001b[0;34m.\u001b[0m\u001b[0mtransform\u001b[0m\u001b[0;34m(\u001b[0m\u001b[0mX_test\u001b[0m\u001b[0;34m)\u001b[0m\u001b[0;34m\u001b[0m\u001b[0;34m\u001b[0m\u001b[0m\n",
      "\u001b[0;31mNameError\u001b[0m: name 'X_train' is not defined"
     ]
    }
   ],
   "source": [
    "scaler = StandardScaler()\n",
    "scaler.fit(X_train)\n",
    "\n",
    "X_train = scaler.transform(X_train)\n",
    "X_test = scaler.transform(X_test)"
   ]
  },
  {
   "cell_type": "code",
   "execution_count": null,
   "metadata": {},
   "outputs": [],
   "source": [
    "from sklearn.neighbors import KNeighborsClassifier\n",
    "classifier = KNeighborsClassifier(n_neighbors=5)\n",
    "classifier.fit(X_train, y_train)"
   ]
  },
  {
   "cell_type": "code",
   "execution_count": null,
   "metadata": {},
   "outputs": [],
   "source": []
  }
 ],
 "metadata": {
  "kernelspec": {
   "display_name": "Python 3",
   "language": "python",
   "name": "python3"
  },
  "language_info": {
   "codemirror_mode": {
    "name": "ipython",
    "version": 3
   },
   "file_extension": ".py",
   "mimetype": "text/x-python",
   "name": "python",
   "nbconvert_exporter": "python",
   "pygments_lexer": "ipython3",
   "version": "3.7.4"
  },
  "varInspector": {
   "cols": {
    "lenName": 16,
    "lenType": 16,
    "lenVar": 40
   },
   "kernels_config": {
    "python": {
     "delete_cmd_postfix": "",
     "delete_cmd_prefix": "del ",
     "library": "var_list.py",
     "varRefreshCmd": "print(var_dic_list())"
    },
    "r": {
     "delete_cmd_postfix": ") ",
     "delete_cmd_prefix": "rm(",
     "library": "var_list.r",
     "varRefreshCmd": "cat(var_dic_list()) "
    }
   },
   "types_to_exclude": [
    "module",
    "function",
    "builtin_function_or_method",
    "instance",
    "_Feature"
   ],
   "window_display": false
  }
 },
 "nbformat": 4,
 "nbformat_minor": 2
}
