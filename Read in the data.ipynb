{
 "cells": [
  {
   "cell_type": "code",
   "execution_count": 23,
   "metadata": {},
   "outputs": [],
   "source": [
    "import gzip\n",
    "import numpy as np\n",
    "import matplotlib.pyplot as plt\n",
    "import pandas as pd\n",
    "import math\n",
    "from operator import itemgetter\n",
    "from sklearn.model_selection import train_test_split\n",
    "from sklearn.preprocessing import StandardScaler\n",
    "from collections import defaultdict\n",
    "from itertools import product, combinations\n",
    "import random"
   ]
  },
  {
   "cell_type": "code",
   "execution_count": 2,
   "metadata": {},
   "outputs": [],
   "source": [
    "# These are the functions you need to read in the data. You need to have the datafiles in a data folder that is in\n",
    "# the directory you are working in\n",
    "#LINK IM USING FOR K-NN https://stackabuse.com/k-nearest-neighbors-algorithm-in-python-and-scikit-learn/\n",
    "\n",
    "\n",
    "def parse(path):\n",
    "    g = gzip.open(path, 'rb')\n",
    "    for l in g:\n",
    "        yield eval(l)\n",
    "\n",
    "def getData(name, attributes):\n",
    "    i = 0\n",
    "    dic = {}\n",
    "    path = 'data/reviews_%s_5.json.gz' % name\n",
    "    for line in parse(path):\n",
    "        filtered = {}\n",
    "        for k in line.keys():\n",
    "            if k in attributes:\n",
    "                filtered[k] = line[k]\n",
    "            else:\n",
    "                continue\n",
    "        \n",
    "        dic[i] = filtered\n",
    "        i += 1\n",
    "    return dic"
   ]
  },
  {
   "cell_type": "code",
   "execution_count": 3,
   "metadata": {},
   "outputs": [],
   "source": [
    "# These are one of the three names you can choose to read the dataset from\n",
    "names = ['Digital_Music', 'Kindle_Store', 'Video_Games']\n",
    "\n",
    "# These are all the possible attributes that our datapoints can have. Lots of them are not that useful for us. So during\n",
    "# the reading of the datafile you have to specify which of these attributes you want to include. For our purposes,\n",
    "# only reviewerID, asin (product ID) and overall will be helpful. But I included them all, just in case.\n",
    "attributes = ['reviewerID', 'asin', 'reviewerName', 'helpful', 'reviewText', 'overall', 'summary', \n",
    "              'unixReviewTime', 'reviewTime']"
   ]
  },
  {
   "cell_type": "code",
   "execution_count": 4,
   "metadata": {
    "scrolled": true
   },
   "outputs": [],
   "source": [
    "# You read in the data for example like this:\n",
    "data = getData('Digital_Music', ['reviewerID', 'asin', 'overall'])"
   ]
  },
  {
   "cell_type": "code",
   "execution_count": 5,
   "metadata": {
    "scrolled": true
   },
   "outputs": [
    {
     "name": "stdout",
     "output_type": "stream",
     "text": [
      "{'reviewerID': 'A3EBHHCZO6V2A4', 'asin': '5555991584', 'overall': 5.0}\n",
      "{'reviewerID': 'AZPWAXJG9OJXV', 'asin': '5555991584', 'overall': 5.0}\n",
      "{'reviewerID': 'A38IRL0X2T4DPF', 'asin': '5555991584', 'overall': 5.0}\n",
      "{'reviewerID': 'A22IK3I6U76GX0', 'asin': '5555991584', 'overall': 5.0}\n",
      "{'reviewerID': 'A1AISPOIIHTHXX', 'asin': '5555991584', 'overall': 4.0}\n"
     ]
    }
   ],
   "source": [
    "# This is what our data will look like. You have a dictionary with integers as keys [0,1,2,3,4...], and as values one \n",
    "# datapoint. Each datapoint in itself is a dictionary, with as keys the attribute, and as value the value of that attribute.\n",
    "for i in range(5):\n",
    "    print(data[i])"
   ]
  },
  {
   "cell_type": "code",
   "execution_count": 6,
   "metadata": {},
   "outputs": [],
   "source": [
    "def split_data(data, test_ratio=0.1):\n",
    "    reviewers = set()\n",
    "    for i in data.items():\n",
    "        reviewers.add(i[1]['reviewerID'])\n",
    "    \n",
    "    l = len(reviewers)\n",
    "    test_reviewers = set(random.sample(reviewers, int(l*test_ratio)))\n",
    "    train_reviewers = reviewers - test_reviewers\n",
    "    \n",
    "    train_data = {k:v for k,v in data.items() if v['reviewerID'] in train_reviewers}\n",
    "    test_data = {k:v for k,v in data.items() if v['reviewerID'] in test_reviewers}\n",
    "    \n",
    "    \n",
    "    tr = len(train_data)\n",
    "    te = len(test_data)\n",
    "    print('There are %s train reviews' %tr)\n",
    "    print('There are %s test reviews' %te)\n",
    "    \n",
    "    return train_data, test_data"
   ]
  },
  {
   "cell_type": "code",
   "execution_count": 7,
   "metadata": {},
   "outputs": [
    {
     "name": "stdout",
     "output_type": "stream",
     "text": [
      "There are 57766 train reviews\n",
      "There are 6940 test reviews\n"
     ]
    }
   ],
   "source": [
    "train_data, test_data = split_data(data)"
   ]
  },
  {
   "cell_type": "code",
   "execution_count": 8,
   "metadata": {
    "scrolled": true
   },
   "outputs": [
    {
     "name": "stdout",
     "output_type": "stream",
     "text": [
      "Number of colums in training Dataframe :  3\n",
      "Number of rows in training Dataframe :  57766\n"
     ]
    },
    {
     "data": {
      "text/html": [
       "<div>\n",
       "<style scoped>\n",
       "    .dataframe tbody tr th:only-of-type {\n",
       "        vertical-align: middle;\n",
       "    }\n",
       "\n",
       "    .dataframe tbody tr th {\n",
       "        vertical-align: top;\n",
       "    }\n",
       "\n",
       "    .dataframe thead th {\n",
       "        text-align: right;\n",
       "    }\n",
       "</style>\n",
       "<table border=\"1\" class=\"dataframe\">\n",
       "  <thead>\n",
       "    <tr style=\"text-align: right;\">\n",
       "      <th></th>\n",
       "      <th>reviewerID</th>\n",
       "      <th>asin</th>\n",
       "      <th>overall</th>\n",
       "    </tr>\n",
       "  </thead>\n",
       "  <tbody>\n",
       "    <tr>\n",
       "      <th>0</th>\n",
       "      <td>A3EBHHCZO6V2A4</td>\n",
       "      <td>5555991584</td>\n",
       "      <td>5.0</td>\n",
       "    </tr>\n",
       "    <tr>\n",
       "      <th>1</th>\n",
       "      <td>AZPWAXJG9OJXV</td>\n",
       "      <td>5555991584</td>\n",
       "      <td>5.0</td>\n",
       "    </tr>\n",
       "    <tr>\n",
       "      <th>2</th>\n",
       "      <td>A38IRL0X2T4DPF</td>\n",
       "      <td>5555991584</td>\n",
       "      <td>5.0</td>\n",
       "    </tr>\n",
       "    <tr>\n",
       "      <th>3</th>\n",
       "      <td>A22IK3I6U76GX0</td>\n",
       "      <td>5555991584</td>\n",
       "      <td>5.0</td>\n",
       "    </tr>\n",
       "    <tr>\n",
       "      <th>4</th>\n",
       "      <td>A1AISPOIIHTHXX</td>\n",
       "      <td>5555991584</td>\n",
       "      <td>4.0</td>\n",
       "    </tr>\n",
       "  </tbody>\n",
       "</table>\n",
       "</div>"
      ],
      "text/plain": [
       "       reviewerID        asin  overall\n",
       "0  A3EBHHCZO6V2A4  5555991584      5.0\n",
       "1   AZPWAXJG9OJXV  5555991584      5.0\n",
       "2  A38IRL0X2T4DPF  5555991584      5.0\n",
       "3  A22IK3I6U76GX0  5555991584      5.0\n",
       "4  A1AISPOIIHTHXX  5555991584      4.0"
      ]
     },
     "execution_count": 8,
     "metadata": {},
     "output_type": "execute_result"
    }
   ],
   "source": [
    "ds_train = pd.DataFrame.from_dict(train_data, orient='index')\n",
    "ds_test = pd.DataFrame.from_dict(test_data, orient='index')\n",
    "\n",
    "print('Number of colums in training Dataframe : ', len(ds_train.columns))\n",
    "print('Number of rows in training Dataframe : ', len(ds_train.index))\n",
    "ds_train.head()"
   ]
  },
  {
   "cell_type": "code",
   "execution_count": 9,
   "metadata": {},
   "outputs": [
    {
     "name": "stdout",
     "output_type": "stream",
     "text": [
      "[['A3EBHHCZO6V2A4' '5555991584' 5.0]\n",
      " ['AZPWAXJG9OJXV' '5555991584' 5.0]\n",
      " ['A38IRL0X2T4DPF' '5555991584' 5.0]\n",
      " ['A22IK3I6U76GX0' '5555991584' 5.0]\n",
      " ['A1AISPOIIHTHXX' '5555991584' 4.0]\n",
      " ['A2P49WD75WHAG5' '5555991584' 5.0]]\n",
      "[['A3O90G1D7I5EGG' '5555991584' 3.0]\n",
      " ['A1BXA3SM3AJOKL' '5555991584' 4.0]\n",
      " ['AHUT55E980RDR' '5555991584' 5.0]\n",
      " ['A3BLMCU4V5J2DX' 'B0000000ZW' 5.0]\n",
      " ['AEUY86R8JQZWC' 'B00000016T' 5.0]\n",
      " ['A8MWQY1R5YE3M' 'B00000016T' 5.0]]\n"
     ]
    }
   ],
   "source": [
    "X_train = ds_train.iloc[:,:].values\n",
    "X_test = ds_test.iloc[:,:].values\n",
    "\n",
    "print(X_train[:6])\n",
    "print(X_test[:6])"
   ]
  },
  {
   "cell_type": "code",
   "execution_count": 10,
   "metadata": {},
   "outputs": [],
   "source": [
    "def cosine_similarity(p,q):\n",
    "    d = sum(pi * qi for pi,qi in zip(p, q))\n",
    "    mag_p = math.sqrt(sum([pi**2 for pi in p]))\n",
    "    mag_q = math.sqrt(sum([qi**2 for qi in q]))\n",
    "    sim = d / ( mag_p * mag_q)\n",
    "    return sim\n",
    "\n",
    "def euclidean_similarity(p, q):\n",
    "    dist = math.sqrt(sum((pi-qi)**2 for pi,qi in zip(p, q)))\n",
    "    sim = 1 / (1+dist)\n",
    "    return sim    \n",
    "\n",
    "def pearson_correlation(p,q):\n",
    "    # this code does not scale well to large datasets. In the following, we rely on \n",
    "    # scipy.spatial.distance.correlation() to compute long vectors\n",
    "    if len(p) > 99:\n",
    "        return 1 - distance.correlation(p,q)        \n",
    "    \n",
    "    p_mean = sum(p) / len(p)\n",
    "    p_deviations = [(pi-p_mean) for pi in p]\n",
    "    \n",
    "    q_mean = sum(q) / len(q)\n",
    "    q_deviations = [(qi-q_mean) for qi in q]\n",
    "    \n",
    "    cov = sum(pd * qd for pd,qd in zip(p_deviations, q_deviations))\n",
    "        \n",
    "    sds_product = math.sqrt(sum((pd)**2 for pd in p_deviations) * sum((qd)**2 for qd in q_deviations))\n",
    "    \n",
    "    if sds_product != 0:\n",
    "        r = cov / sds_product\n",
    "    else:\n",
    "        r = 0\n",
    "    return r"
   ]
  },
  {
   "cell_type": "code",
   "execution_count": 11,
   "metadata": {},
   "outputs": [],
   "source": [
    "def calc_similarity(user2product, target, other_user, sim_measure, threshold=0):\n",
    "    # found some explanation here https://towardsdatascience.com/introduction-to-recommender-systems-6c66cf15ada\n",
    "    \n",
    "    shared = list(set(user2product[target].keys()).intersection(set(user2product[other_user].keys())))\n",
    "    \n",
    "    if len(shared) <= threshold:\n",
    "        return 0\n",
    "    \n",
    "    target_ratings = [v for k,v in user2product[target].items() if k in shared]# for i in [target, other_user]]\n",
    "    other_user_ratings = [v for k,v in user2product[other_user].items() if k in shared]\n",
    "    \n",
    "    weight = len(shared)/len(user2product[target])\n",
    "    similarity = weight*sim_measure(target_ratings, other_user_ratings)\n",
    "    \n",
    "    return similarity"
   ]
  },
  {
   "cell_type": "code",
   "execution_count": 12,
   "metadata": {
    "scrolled": true
   },
   "outputs": [],
   "source": [
    "user2product = defaultdict(dict)\n",
    "for reviewerID, asin, overall in X_train:\n",
    "    user2product[reviewerID][asin] = overall"
   ]
  },
  {
   "cell_type": "code",
   "execution_count": 13,
   "metadata": {},
   "outputs": [
    {
     "name": "stdout",
     "output_type": "stream",
     "text": [
      "no. of users: 4987\n",
      "no of reviews in user 1: 91\n"
     ]
    }
   ],
   "source": [
    "print(\"no. of users:\", len(user2product))\n",
    "print(\"no of reviews in user 1:\", len(list(user2product.items())[0][1]))"
   ]
  },
  {
   "cell_type": "code",
   "execution_count": 14,
   "metadata": {},
   "outputs": [
    {
     "name": "stdout",
     "output_type": "stream",
     "text": [
      "no. of items: 3568\n"
     ]
    }
   ],
   "source": [
    "item2product = defaultdict(dict)\n",
    "for reviewerID, asin, overall in X_train:\n",
    "    item2product[asin][reviewerID] = overall\n",
    "    \n",
    "print(\"no. of items:\", len(item2product))"
   ]
  },
  {
   "cell_type": "code",
   "execution_count": 24,
   "metadata": {},
   "outputs": [
    {
     "name": "stdout",
     "output_type": "stream",
     "text": [
      "dict_items([('A3EBHHCZO6V2A4', {'AZPWAXJG9OJXV': 0.01098901098901099, 'A38IRL0X2T4DPF': 0.01098901098901099, 'A22IK3I6U76GX0': 0.01098901098901099, 'A1AISPOIIHTHXX': 0.01098901098901099, 'A2P49WD75WHAG5': 0.020200989670726546, 'A3EJYJC25OJVKK': 0.021978021978021976, 'A1DA8VOH9NR6C7': 0.01098901098901099, 'A33TRNCQK4IUO7': 0.01098901098901099, 'AWY3EPKEOUV1W': 0.01098901098901099, 'A1SCJWCMQ3W3KK': 0.020200989670726546, 'A14BTJRH9VNLJJ': 0.01098901098901099, 'A2AOZQ3WTNVVOK': 0.020200989670726546, 'A3CCYAQRHUTPIQ': 0.01098901098901099, 'A24N1BAS3CU27H': 0.04203625124338991, 'A19YHEBK099R7U': 0.01098901098901099, 'A16KCH578FG4B4': 0.01098901098901099, 'A3UBAZKS727Z0E': 0.01098901098901099, 'A23H9KY3Q1YJ2N': 0.01098901098901099, 'AYZCMVSSL4X4B': 0.021978021978021976, 'A1LQ1A8DNOTUKV': 0, 'A1W3ZAKFIDGM13': 0, 'A200C7YQJ45LRR': 0, 'A3RNC9BGR4J1ZF': 0, 'A268MFPSNVICJS': 0, 'A1L8IB1K8ETJW9': 0, 'ARFL4OAG9CI1H': 0, 'A1X93ES4DITTWK': 0.020200989670726546, 'A1JXEJFPV9EUVS': 0, 'A141XAG09QATRB': 0, 'A3QZA3MXC75V4E': 0, 'A28N19JIB5161D': 0, 'AAQMHLS8BN9YJ': 0, 'AE9GUE3HHOX3U': 0, 'A4BPK6TYITJS': 0, 'A31KXTOQNTWUVM': 0, 'A2EENLV6OQ3DYM': 0, 'A3QEW0HMXQRWT9': 0, 'A1O8U0FEBTGRJP': 0, 'APOGXH3A74CM3': 0.01098901098901099}), ('AZPWAXJG9OJXV', {'A38IRL0X2T4DPF': 0.0625, 'A22IK3I6U76GX0': 0.0625, 'A1AISPOIIHTHXX': 0.0625, 'A2P49WD75WHAG5': 0.12499999999999999, 'A3EJYJC25OJVKK': 0.0625, 'A1DA8VOH9NR6C7': 0.0625, 'A33TRNCQK4IUO7': 0.0625, 'AWY3EPKEOUV1W': 0.12499999999999999, 'A1SCJWCMQ3W3KK': 0.0625, 'A14BTJRH9VNLJJ': 0.12499999999999999, 'A2AOZQ3WTNVVOK': 0.12499999999999999, 'A3CCYAQRHUTPIQ': 0.0625, 'A24N1BAS3CU27H': 0.0625, 'A19YHEBK099R7U': 0.0625, 'A16KCH578FG4B4': 0.0625, 'A3UBAZKS727Z0E': 0.0625, 'A23H9KY3Q1YJ2N': 0.0625, 'AYZCMVSSL4X4B': 0.18749999999999994, 'A1LQ1A8DNOTUKV': 0, 'A1W3ZAKFIDGM13': 0.0625, 'A200C7YQJ45LRR': 0, 'A3RNC9BGR4J1ZF': 0.0625, 'A268MFPSNVICJS': 0, 'A1L8IB1K8ETJW9': 0, 'ARFL4OAG9CI1H': 0, 'A1X93ES4DITTWK': 0, 'A1JXEJFPV9EUVS': 0, 'A141XAG09QATRB': 0, 'A3QZA3MXC75V4E': 0, 'A28N19JIB5161D': 0, 'AAQMHLS8BN9YJ': 0, 'AE9GUE3HHOX3U': 0, 'A4BPK6TYITJS': 0, 'A31KXTOQNTWUVM': 0, 'A2EENLV6OQ3DYM': 0.0625, 'A3QEW0HMXQRWT9': 0, 'A1O8U0FEBTGRJP': 0, 'APOGXH3A74CM3': 0}), ('A38IRL0X2T4DPF', {'A22IK3I6U76GX0': 0.07692307692307693, 'A1AISPOIIHTHXX': 0.07692307692307693, 'A2P49WD75WHAG5': 0.07692307692307693, 'A3EJYJC25OJVKK': 0.07692307692307693, 'A1DA8VOH9NR6C7': 0.07692307692307693, 'A33TRNCQK4IUO7': 0.07692307692307693, 'AWY3EPKEOUV1W': 0.07692307692307693, 'A1SCJWCMQ3W3KK': 0.07692307692307693, 'A14BTJRH9VNLJJ': 0.07692307692307693, 'A2AOZQ3WTNVVOK': 0.3780927371799265, 'A3CCYAQRHUTPIQ': 0.07692307692307693, 'A24N1BAS3CU27H': 0.07692307692307693, 'A19YHEBK099R7U': 0.07692307692307693, 'A16KCH578FG4B4': 0.07692307692307693, 'A3UBAZKS727Z0E': 0.07692307692307693, 'A23H9KY3Q1YJ2N': 0.07692307692307693, 'AYZCMVSSL4X4B': 0.07692307692307693, 'A1LQ1A8DNOTUKV': 0, 'A1W3ZAKFIDGM13': 0, 'A200C7YQJ45LRR': 0.07692307692307693, 'A3RNC9BGR4J1ZF': 0, 'A268MFPSNVICJS': 0, 'A1L8IB1K8ETJW9': 0, 'ARFL4OAG9CI1H': 0, 'A1X93ES4DITTWK': 0, 'A1JXEJFPV9EUVS': 0, 'A141XAG09QATRB': 0, 'A3QZA3MXC75V4E': 0, 'A28N19JIB5161D': 0, 'AAQMHLS8BN9YJ': 0, 'AE9GUE3HHOX3U': 0, 'A4BPK6TYITJS': 0, 'A31KXTOQNTWUVM': 0, 'A2EENLV6OQ3DYM': 0.07692307692307693, 'A3QEW0HMXQRWT9': 0, 'A1O8U0FEBTGRJP': 0, 'APOGXH3A74CM3': 0.07692307692307693}), ('A22IK3I6U76GX0', {'A1AISPOIIHTHXX': 0.16666666666666666, 'A2P49WD75WHAG5': 0.33129457822453956, 'A3EJYJC25OJVKK': 0.16666666666666666, 'A1DA8VOH9NR6C7': 0.16666666666666666, 'A33TRNCQK4IUO7': 0.16666666666666666, 'AWY3EPKEOUV1W': 0.16666666666666666, 'A1SCJWCMQ3W3KK': 0.16666666666666666, 'A14BTJRH9VNLJJ': 0.16666666666666666, 'A2AOZQ3WTNVVOK': 0.16666666666666666, 'A3CCYAQRHUTPIQ': 0.16666666666666666, 'A24N1BAS3CU27H': 0.16666666666666666, 'A19YHEBK099R7U': 0.16666666666666666, 'A16KCH578FG4B4': 0.16666666666666666, 'A3UBAZKS727Z0E': 0.16666666666666666, 'A23H9KY3Q1YJ2N': 0.16666666666666666, 'AYZCMVSSL4X4B': 0.33129457822453956, 'A1LQ1A8DNOTUKV': 0, 'A1W3ZAKFIDGM13': 0, 'A200C7YQJ45LRR': 0, 'A3RNC9BGR4J1ZF': 0, 'A268MFPSNVICJS': 0, 'A1L8IB1K8ETJW9': 0, 'ARFL4OAG9CI1H': 0, 'A1X93ES4DITTWK': 0, 'A1JXEJFPV9EUVS': 0, 'A141XAG09QATRB': 0, 'A3QZA3MXC75V4E': 0, 'A28N19JIB5161D': 0, 'AAQMHLS8BN9YJ': 0, 'AE9GUE3HHOX3U': 0, 'A4BPK6TYITJS': 0, 'A31KXTOQNTWUVM': 0, 'A2EENLV6OQ3DYM': 0, 'A3QEW0HMXQRWT9': 0, 'A1O8U0FEBTGRJP': 0, 'APOGXH3A74CM3': 0}), ('A1AISPOIIHTHXX', {'A2P49WD75WHAG5': 0.125, 'A3EJYJC25OJVKK': 0.125, 'A1DA8VOH9NR6C7': 0.2175055464621531, 'A33TRNCQK4IUO7': 0.125, 'AWY3EPKEOUV1W': 0.125, 'A1SCJWCMQ3W3KK': 0.125, 'A14BTJRH9VNLJJ': 0.2484709336684047, 'A2AOZQ3WTNVVOK': 0.125, 'A3CCYAQRHUTPIQ': 0.125, 'A24N1BAS3CU27H': 0.3728005675396628, 'A19YHEBK099R7U': 0.49761375118914863, 'A16KCH578FG4B4': 0.125, 'A3UBAZKS727Z0E': 0.125, 'A23H9KY3Q1YJ2N': 0.125, 'AYZCMVSSL4X4B': 0.125, 'A1LQ1A8DNOTUKV': 0, 'A1W3ZAKFIDGM13': 0, 'A200C7YQJ45LRR': 0.3723429617028545, 'A3RNC9BGR4J1ZF': 0, 'A268MFPSNVICJS': 0, 'A1L8IB1K8ETJW9': 0, 'ARFL4OAG9CI1H': 0, 'A1X93ES4DITTWK': 0, 'A1JXEJFPV9EUVS': 0, 'A141XAG09QATRB': 0, 'A3QZA3MXC75V4E': 0, 'A28N19JIB5161D': 0, 'AAQMHLS8BN9YJ': 0, 'AE9GUE3HHOX3U': 0, 'A4BPK6TYITJS': 0, 'A31KXTOQNTWUVM': 0, 'A2EENLV6OQ3DYM': 0, 'A3QEW0HMXQRWT9': 0, 'A1O8U0FEBTGRJP': 0, 'APOGXH3A74CM3': 0}), ('A2P49WD75WHAG5', {'A3EJYJC25OJVKK': 0.08699176724016801, 'A1DA8VOH9NR6C7': 0.0125, 'A33TRNCQK4IUO7': 0.036642743865137904, 'AWY3EPKEOUV1W': 0.0125, 'A1SCJWCMQ3W3KK': 0.049742487558355496, 'A14BTJRH9VNLJJ': 0.03731012536223182, 'A2AOZQ3WTNVVOK': 0.049450549450549455, 'A3CCYAQRHUTPIQ': 0.0125, 'A24N1BAS3CU27H': 0.03731012536223182, 'A19YHEBK099R7U': 0.06209187870295172, 'A16KCH578FG4B4': 0.024847093366840472, 'A3UBAZKS727Z0E': 0.0125, 'A23H9KY3Q1YJ2N': 0.03749999999999999, 'AYZCMVSSL4X4B': 0.0125, 'A1LQ1A8DNOTUKV': 0, 'A1W3ZAKFIDGM13': 0, 'A200C7YQJ45LRR': 0.059198064876881444, 'A3RNC9BGR4J1ZF': 0.03731012536223182, 'A268MFPSNVICJS': 0, 'A1L8IB1K8ETJW9': 0, 'ARFL4OAG9CI1H': 0, 'A1X93ES4DITTWK': 0.022698984612511294, 'A1JXEJFPV9EUVS': 0, 'A141XAG09QATRB': 0, 'A3QZA3MXC75V4E': 0.0125, 'A28N19JIB5161D': 0, 'AAQMHLS8BN9YJ': 0.0125, 'AE9GUE3HHOX3U': 0.06138595683359228, 'A4BPK6TYITJS': 0.0125, 'A31KXTOQNTWUVM': 0.024847093366840472, 'A2EENLV6OQ3DYM': 0.09831889194045962, 'A3QEW0HMXQRWT9': 0, 'A1O8U0FEBTGRJP': 0, 'APOGXH3A74CM3': 0.03749999999999999}), ('A3EJYJC25OJVKK', {'A1DA8VOH9NR6C7': 0.02, 'A33TRNCQK4IUO7': 0.07950471400110067, 'AWY3EPKEOUV1W': 0.02, 'A1SCJWCMQ3W3KK': 0.03975534938694475, 'A14BTJRH9VNLJJ': 0.02, 'A2AOZQ3WTNVVOK': 0.0795106987738895, 'A3CCYAQRHUTPIQ': 0.02, 'A24N1BAS3CU27H': 0.02, 'A19YHEBK099R7U': 0.03794733192202055, 'A16KCH578FG4B4': 0.0795106987738895, 'A3UBAZKS727Z0E': 0.02, 'A23H9KY3Q1YJ2N': 0.02, 'AYZCMVSSL4X4B': 0.0796696475908658, 'A1LQ1A8DNOTUKV': 0, 'A1W3ZAKFIDGM13': 0.03975534938694475, 'A200C7YQJ45LRR': 0.05673665146135801, 'A3RNC9BGR4J1ZF': 0.05969620057957091, 'A268MFPSNVICJS': 0, 'A1L8IB1K8ETJW9': 0.02, 'ARFL4OAG9CI1H': 0.02, 'A1X93ES4DITTWK': 0.02, 'A1JXEJFPV9EUVS': 0, 'A141XAG09QATRB': 0, 'A3QZA3MXC75V4E': 0.02, 'A28N19JIB5161D': 0, 'AAQMHLS8BN9YJ': 0.03794733192202055, 'AE9GUE3HHOX3U': 0.052587589272132876, 'A4BPK6TYITJS': 0, 'A31KXTOQNTWUVM': 0, 'A2EENLV6OQ3DYM': 0.02, 'A3QEW0HMXQRWT9': 0, 'A1O8U0FEBTGRJP': 0.02, 'APOGXH3A74CM3': 0}), ('A1DA8VOH9NR6C7', {'A33TRNCQK4IUO7': 0.2, 'AWY3EPKEOUV1W': 0.2, 'A1SCJWCMQ3W3KK': 0.2, 'A14BTJRH9VNLJJ': 0.2, 'A2AOZQ3WTNVVOK': 0.2, 'A3CCYAQRHUTPIQ': 0.2, 'A24N1BAS3CU27H': 0.2, 'A19YHEBK099R7U': 0.2, 'A16KCH578FG4B4': 0.2, 'A3UBAZKS727Z0E': 0.2, 'A23H9KY3Q1YJ2N': 0.2, 'AYZCMVSSL4X4B': 0.2, 'A1LQ1A8DNOTUKV': 0, 'A1W3ZAKFIDGM13': 0, 'A200C7YQJ45LRR': 0, 'A3RNC9BGR4J1ZF': 0, 'A268MFPSNVICJS': 0, 'A1L8IB1K8ETJW9': 0, 'ARFL4OAG9CI1H': 0, 'A1X93ES4DITTWK': 0, 'A1JXEJFPV9EUVS': 0, 'A141XAG09QATRB': 0, 'A3QZA3MXC75V4E': 0, 'A28N19JIB5161D': 0, 'AAQMHLS8BN9YJ': 0, 'AE9GUE3HHOX3U': 0, 'A4BPK6TYITJS': 0, 'A31KXTOQNTWUVM': 0, 'A2EENLV6OQ3DYM': 0, 'A3QEW0HMXQRWT9': 0, 'A1O8U0FEBTGRJP': 0, 'APOGXH3A74CM3': 0}), ('A33TRNCQK4IUO7', {'AWY3EPKEOUV1W': 0.030303030303030304, 'A1SCJWCMQ3W3KK': 0.0602353778590072, 'A14BTJRH9VNLJJ': 0.030303030303030304, 'A2AOZQ3WTNVVOK': 0.09044878875692562, 'A3CCYAQRHUTPIQ': 0.030303030303030304, 'A24N1BAS3CU27H': 0.3901020295016145, 'A19YHEBK099R7U': 0.08740989360875583, 'A16KCH578FG4B4': 0.0602353778590072, 'A3UBAZKS727Z0E': 0.030303030303030304, 'A23H9KY3Q1YJ2N': 0.030303030303030304, 'AYZCMVSSL4X4B': 0.030303030303030304, 'A1LQ1A8DNOTUKV': 0, 'A1W3ZAKFIDGM13': 0, 'A200C7YQJ45LRR': 0.2663062917237138, 'A3RNC9BGR4J1ZF': 0.12121212121212122, 'A268MFPSNVICJS': 0.030303030303030304, 'A1L8IB1K8ETJW9': 0, 'ARFL4OAG9CI1H': 0, 'A1X93ES4DITTWK': 0.07624174700203776, 'A1JXEJFPV9EUVS': 0, 'A141XAG09QATRB': 0, 'A3QZA3MXC75V4E': 0, 'A28N19JIB5161D': 0, 'AAQMHLS8BN9YJ': 0, 'AE9GUE3HHOX3U': 0, 'A4BPK6TYITJS': 0, 'A31KXTOQNTWUVM': 0, 'A2EENLV6OQ3DYM': 0, 'A3QEW0HMXQRWT9': 0, 'A1O8U0FEBTGRJP': 0, 'APOGXH3A74CM3': 0.030303030303030304}), ('AWY3EPKEOUV1W', {'A1SCJWCMQ3W3KK': 0.2484709336684047, 'A14BTJRH9VNLJJ': 0.24999999999999997, 'A2AOZQ3WTNVVOK': 0.125, 'A3CCYAQRHUTPIQ': 0.125, 'A24N1BAS3CU27H': 0.24999999999999997, 'A19YHEBK099R7U': 0.125, 'A16KCH578FG4B4': 0.125, 'A3UBAZKS727Z0E': 0.125, 'A23H9KY3Q1YJ2N': 0.125, 'AYZCMVSSL4X4B': 0.125, 'A1LQ1A8DNOTUKV': 0, 'A1W3ZAKFIDGM13': 0.125, 'A200C7YQJ45LRR': 0.36318599885931985, 'A3RNC9BGR4J1ZF': 0.125, 'A268MFPSNVICJS': 0, 'A1L8IB1K8ETJW9': 0, 'ARFL4OAG9CI1H': 0, 'A1X93ES4DITTWK': 0.22360679774997896, 'A1JXEJFPV9EUVS': 0, 'A141XAG09QATRB': 0, 'A3QZA3MXC75V4E': 0.125, 'A28N19JIB5161D': 0, 'AAQMHLS8BN9YJ': 0, 'AE9GUE3HHOX3U': 0, 'A4BPK6TYITJS': 0, 'A31KXTOQNTWUVM': 0, 'A2EENLV6OQ3DYM': 0, 'A3QEW0HMXQRWT9': 0, 'A1O8U0FEBTGRJP': 0, 'APOGXH3A74CM3': 0}), ('A1SCJWCMQ3W3KK', {'A14BTJRH9VNLJJ': 0.14285714285714282, 'A2AOZQ3WTNVVOK': 0.14285714285714282, 'A3CCYAQRHUTPIQ': 0.07142857142857142, 'A24N1BAS3CU27H': 0.2818003913894325, 'A19YHEBK099R7U': 0.07142857142857142, 'A16KCH578FG4B4': 0.07142857142857142, 'A3UBAZKS727Z0E': 0.14198339066765983, 'A23H9KY3Q1YJ2N': 0.07142857142857142, 'AYZCMVSSL4X4B': 0.07142857142857142, 'A1LQ1A8DNOTUKV': 0, 'A1W3ZAKFIDGM13': 0, 'A200C7YQJ45LRR': 0.3557436967169165, 'A3RNC9BGR4J1ZF': 0, 'A268MFPSNVICJS': 0, 'A1L8IB1K8ETJW9': 0, 'ARFL4OAG9CI1H': 0, 'A1X93ES4DITTWK': 0.07142857142857142, 'A1JXEJFPV9EUVS': 0, 'A141XAG09QATRB': 0, 'A3QZA3MXC75V4E': 0, 'A28N19JIB5161D': 0, 'AAQMHLS8BN9YJ': 0, 'AE9GUE3HHOX3U': 0.07142857142857142, 'A4BPK6TYITJS': 0.07142857142857142, 'A31KXTOQNTWUVM': 0, 'A2EENLV6OQ3DYM': 0, 'A3QEW0HMXQRWT9': 0, 'A1O8U0FEBTGRJP': 0, 'APOGXH3A74CM3': 0}), ('A14BTJRH9VNLJJ', {'A2AOZQ3WTNVVOK': 0.06941418672043129, 'A3CCYAQRHUTPIQ': 0.023255813953488372, 'A24N1BAS3CU27H': 0.15990483995792062, 'A19YHEBK099R7U': 0.04604416249586821, 'A16KCH578FG4B4': 0.023255813953488372, 'A3UBAZKS727Z0E': 0.023255813953488372, 'A23H9KY3Q1YJ2N': 0.023255813953488372, 'AYZCMVSSL4X4B': 0.023255813953488372, 'A1LQ1A8DNOTUKV': 0, 'A1W3ZAKFIDGM13': 0.04651162790697674, 'A200C7YQJ45LRR': 0.11188630217212045, 'A3RNC9BGR4J1ZF': 0.0697674418604651, 'A268MFPSNVICJS': 0, 'A1L8IB1K8ETJW9': 0.023255813953488372, 'ARFL4OAG9CI1H': 0, 'A1X93ES4DITTWK': 0.023255813953488372, 'A1JXEJFPV9EUVS': 0, 'A141XAG09QATRB': 0, 'A3QZA3MXC75V4E': 0, 'A28N19JIB5161D': 0, 'AAQMHLS8BN9YJ': 0.04622715044993576, 'AE9GUE3HHOX3U': 0.023255813953488372, 'A4BPK6TYITJS': 0.023255813953488372, 'A31KXTOQNTWUVM': 0.04651162790697674, 'A2EENLV6OQ3DYM': 0.04622715044993576, 'A3QEW0HMXQRWT9': 0.023255813953488372, 'A1O8U0FEBTGRJP': 0.023255813953488372, 'APOGXH3A74CM3': 0.0697674418604651}), ('A2AOZQ3WTNVVOK', {'A3CCYAQRHUTPIQ': 0.02722969136092106, 'A24N1BAS3CU27H': 0.05456825177456561, 'A19YHEBK099R7U': 0.027397260273972594, 'A16KCH578FG4B4': 0.041095890410958895, 'A3UBAZKS727Z0E': 0.0136986301369863, 'A23H9KY3Q1YJ2N': 0.0136986301369863, 'AYZCMVSSL4X4B': 0.02722969136092106, 'A1LQ1A8DNOTUKV': 0, 'A1W3ZAKFIDGM13': 0.0136986301369863, 'A200C7YQJ45LRR': 0.039346319496835806, 'A3RNC9BGR4J1ZF': 0.0136986301369863, 'A268MFPSNVICJS': 0, 'A1L8IB1K8ETJW9': 0, 'ARFL4OAG9CI1H': 0, 'A1X93ES4DITTWK': 0.022795898475009416, 'A1JXEJFPV9EUVS': 0, 'A141XAG09QATRB': 0, 'A3QZA3MXC75V4E': 0.0136986301369863, 'A28N19JIB5161D': 0, 'AAQMHLS8BN9YJ': 0, 'AE9GUE3HHOX3U': 0, 'A4BPK6TYITJS': 0.02722969136092106, 'A31KXTOQNTWUVM': 0.0136986301369863, 'A2EENLV6OQ3DYM': 0.11534812837476159, 'A3QEW0HMXQRWT9': 0.0136986301369863, 'A1O8U0FEBTGRJP': 0.02722969136092106, 'APOGXH3A74CM3': 0.05445938272184212}), ('A3CCYAQRHUTPIQ', {'A24N1BAS3CU27H': 0.16666666666666663, 'A19YHEBK099R7U': 0.08333333333333333, 'A16KCH578FG4B4': 0.08333333333333333, 'A3UBAZKS727Z0E': 0.08333333333333333, 'A23H9KY3Q1YJ2N': 0.08333333333333333, 'AYZCMVSSL4X4B': 0.08333333333333333, 'A1LQ1A8DNOTUKV': 0, 'A1W3ZAKFIDGM13': 0, 'A200C7YQJ45LRR': 0, 'A3RNC9BGR4J1ZF': 0.08333333333333333, 'A268MFPSNVICJS': 0, 'A1L8IB1K8ETJW9': 0, 'ARFL4OAG9CI1H': 0, 'A1X93ES4DITTWK': 0, 'A1JXEJFPV9EUVS': 0, 'A141XAG09QATRB': 0, 'A3QZA3MXC75V4E': 0, 'A28N19JIB5161D': 0, 'AAQMHLS8BN9YJ': 0, 'AE9GUE3HHOX3U': 0, 'A4BPK6TYITJS': 0, 'A31KXTOQNTWUVM': 0, 'A2EENLV6OQ3DYM': 0.08333333333333333, 'A3QEW0HMXQRWT9': 0, 'A1O8U0FEBTGRJP': 0, 'APOGXH3A74CM3': 0}), ('A24N1BAS3CU27H', {'A19YHEBK099R7U': 0.06751620361219055, 'A16KCH578FG4B4': 0.0064516129032258064, 'A3UBAZKS727Z0E': 0.012824306253853146, 'A23H9KY3Q1YJ2N': 0.0064516129032258064, 'AYZCMVSSL4X4B': 0.0064516129032258064, 'A1LQ1A8DNOTUKV': 0, 'A1W3ZAKFIDGM13': 0, 'A200C7YQJ45LRR': 0.22862039027582595, 'A3RNC9BGR4J1ZF': 0.03859511760194195, 'A268MFPSNVICJS': 0.012903225806451611, 'A1L8IB1K8ETJW9': 0, 'ARFL4OAG9CI1H': 0, 'A1X93ES4DITTWK': 0.04845575463273474, 'A1JXEJFPV9EUVS': 0.012348701992689982, 'A141XAG09QATRB': 0, 'A3QZA3MXC75V4E': 0, 'A28N19JIB5161D': 0, 'AAQMHLS8BN9YJ': 0, 'AE9GUE3HHOX3U': 0.05547011032192118, 'A4BPK6TYITJS': 0, 'A31KXTOQNTWUVM': 0.0064516129032258064, 'A2EENLV6OQ3DYM': 0.019256838896635778, 'A3QEW0HMXQRWT9': 0, 'A1O8U0FEBTGRJP': 0, 'APOGXH3A74CM3': 0.0064516129032258064}), ('A19YHEBK099R7U', {'A16KCH578FG4B4': 0.017241379310344827, 'A3UBAZKS727Z0E': 0.017241379310344827, 'A23H9KY3Q1YJ2N': 0.017241379310344827, 'AYZCMVSSL4X4B': 0.06542643434831129, 'A1LQ1A8DNOTUKV': 0, 'A1W3ZAKFIDGM13': 0, 'A200C7YQJ45LRR': 0.14587699297514878, 'A3RNC9BGR4J1ZF': 0, 'A268MFPSNVICJS': 0, 'A1L8IB1K8ETJW9': 0, 'ARFL4OAG9CI1H': 0, 'A1X93ES4DITTWK': 0.017241379310344827, 'A1JXEJFPV9EUVS': 0, 'A141XAG09QATRB': 0, 'A3QZA3MXC75V4E': 0, 'A28N19JIB5161D': 0, 'AAQMHLS8BN9YJ': 0, 'AE9GUE3HHOX3U': 0.017241379310344827, 'A4BPK6TYITJS': 0, 'A31KXTOQNTWUVM': 0, 'A2EENLV6OQ3DYM': 0.049412975576551436, 'A3QEW0HMXQRWT9': 0, 'A1O8U0FEBTGRJP': 0, 'APOGXH3A74CM3': 0.017241379310344827}), ('A16KCH578FG4B4', {'A3UBAZKS727Z0E': 0.1, 'A23H9KY3Q1YJ2N': 0.1, 'AYZCMVSSL4X4B': 0.1, 'A1LQ1A8DNOTUKV': 0, 'A1W3ZAKFIDGM13': 0, 'A200C7YQJ45LRR': 0, 'A3RNC9BGR4J1ZF': 0, 'A268MFPSNVICJS': 0, 'A1L8IB1K8ETJW9': 0, 'ARFL4OAG9CI1H': 0, 'A1X93ES4DITTWK': 0, 'A1JXEJFPV9EUVS': 0, 'A141XAG09QATRB': 0, 'A3QZA3MXC75V4E': 0, 'A28N19JIB5161D': 0, 'AAQMHLS8BN9YJ': 0, 'AE9GUE3HHOX3U': 0, 'A4BPK6TYITJS': 0, 'A31KXTOQNTWUVM': 0, 'A2EENLV6OQ3DYM': 0, 'A3QEW0HMXQRWT9': 0, 'A1O8U0FEBTGRJP': 0, 'APOGXH3A74CM3': 0}), ('A3UBAZKS727Z0E', {'A23H9KY3Q1YJ2N': 0.2, 'AYZCMVSSL4X4B': 0.2, 'A1LQ1A8DNOTUKV': 0, 'A1W3ZAKFIDGM13': 0, 'A200C7YQJ45LRR': 0.2, 'A3RNC9BGR4J1ZF': 0, 'A268MFPSNVICJS': 0, 'A1L8IB1K8ETJW9': 0, 'ARFL4OAG9CI1H': 0, 'A1X93ES4DITTWK': 0, 'A1JXEJFPV9EUVS': 0, 'A141XAG09QATRB': 0, 'A3QZA3MXC75V4E': 0, 'A28N19JIB5161D': 0, 'AAQMHLS8BN9YJ': 0, 'AE9GUE3HHOX3U': 0.37497010880390613, 'A4BPK6TYITJS': 0, 'A31KXTOQNTWUVM': 0, 'A2EENLV6OQ3DYM': 0, 'A3QEW0HMXQRWT9': 0, 'A1O8U0FEBTGRJP': 0, 'APOGXH3A74CM3': 0}), ('A23H9KY3Q1YJ2N', {'AYZCMVSSL4X4B': 0.14285714285714285, 'A1LQ1A8DNOTUKV': 0, 'A1W3ZAKFIDGM13': 0, 'A200C7YQJ45LRR': 0, 'A3RNC9BGR4J1ZF': 0, 'A268MFPSNVICJS': 0, 'A1L8IB1K8ETJW9': 0, 'ARFL4OAG9CI1H': 0, 'A1X93ES4DITTWK': 0, 'A1JXEJFPV9EUVS': 0, 'A141XAG09QATRB': 0, 'A3QZA3MXC75V4E': 0, 'A28N19JIB5161D': 0, 'AAQMHLS8BN9YJ': 0, 'AE9GUE3HHOX3U': 0, 'A4BPK6TYITJS': 0, 'A31KXTOQNTWUVM': 0, 'A2EENLV6OQ3DYM': 0.14285714285714285, 'A3QEW0HMXQRWT9': 0, 'A1O8U0FEBTGRJP': 0, 'APOGXH3A74CM3': 0}), ('AYZCMVSSL4X4B', {'A1LQ1A8DNOTUKV': 0, 'A1W3ZAKFIDGM13': 0, 'A200C7YQJ45LRR': 0.14735361196714117, 'A3RNC9BGR4J1ZF': 0, 'A268MFPSNVICJS': 0, 'A1L8IB1K8ETJW9': 0, 'ARFL4OAG9CI1H': 0, 'A1X93ES4DITTWK': 0, 'A1JXEJFPV9EUVS': 0, 'A141XAG09QATRB': 0, 'A3QZA3MXC75V4E': 0, 'A28N19JIB5161D': 0, 'AAQMHLS8BN9YJ': 0, 'AE9GUE3HHOX3U': 0, 'A4BPK6TYITJS': 0, 'A31KXTOQNTWUVM': 0, 'A2EENLV6OQ3DYM': 0, 'A3QEW0HMXQRWT9': 0, 'A1O8U0FEBTGRJP': 0, 'APOGXH3A74CM3': 0}), ('A1LQ1A8DNOTUKV', {'A1W3ZAKFIDGM13': 0.07142857142857142, 'A200C7YQJ45LRR': 0.07142857142857142, 'A3RNC9BGR4J1ZF': 0.2132007163556104, 'A268MFPSNVICJS': 0.14198339066765983, 'A1L8IB1K8ETJW9': 0.20938710780078806, 'ARFL4OAG9CI1H': 0.1385917857350474, 'A1X93ES4DITTWK': 0.2666666666666666, 'A1JXEJFPV9EUVS': 0.07142857142857142, 'A141XAG09QATRB': 0.07142857142857142, 'A3QZA3MXC75V4E': 0.07142857142857142, 'A28N19JIB5161D': 0.07142857142857142, 'AAQMHLS8BN9YJ': 0.14142135623730948, 'AE9GUE3HHOX3U': 0.07142857142857142, 'A4BPK6TYITJS': 0.07142857142857142, 'A31KXTOQNTWUVM': 0, 'A2EENLV6OQ3DYM': 0, 'A3QEW0HMXQRWT9': 0, 'A1O8U0FEBTGRJP': 0, 'APOGXH3A74CM3': 0}), ('A1W3ZAKFIDGM13', {'A200C7YQJ45LRR': 0.1818181818181818, 'A3RNC9BGR4J1ZF': 0.4545454545454545, 'A268MFPSNVICJS': 0.09090909090909091, 'A1L8IB1K8ETJW9': 0.17638954548096944, 'ARFL4OAG9CI1H': 0.09090909090909091, 'A1X93ES4DITTWK': 0.09090909090909091, 'A1JXEJFPV9EUVS': 0.09090909090909091, 'A141XAG09QATRB': 0.09090909090909091, 'A3QZA3MXC75V4E': 0.17638954548096944, 'A28N19JIB5161D': 0.09090909090909091, 'AAQMHLS8BN9YJ': 0.18070613357702162, 'AE9GUE3HHOX3U': 0.09090909090909091, 'A4BPK6TYITJS': 0, 'A31KXTOQNTWUVM': 0, 'A2EENLV6OQ3DYM': 0, 'A3QEW0HMXQRWT9': 0, 'A1O8U0FEBTGRJP': 0, 'APOGXH3A74CM3': 0}), ('A200C7YQJ45LRR', {'A3RNC9BGR4J1ZF': 0.014696938456699065, 'A268MFPSNVICJS': 0.024999999999999998, 'A1L8IB1K8ETJW9': 0.017040257344605167, 'ARFL4OAG9CI1H': 0.005, 'A1X93ES4DITTWK': 0.07150939540193316, 'A1JXEJFPV9EUVS': 0.02251802162884038, 'A141XAG09QATRB': 0.005, 'A3QZA3MXC75V4E': 0.014634146341463414, 'A28N19JIB5161D': 0.005, 'AAQMHLS8BN9YJ': 0.008574929257125441, 'AE9GUE3HHOX3U': 0.053764806442176516, 'A4BPK6TYITJS': 0.005, 'A31KXTOQNTWUVM': 0, 'A2EENLV6OQ3DYM': 0.009938837346736189, 'A3QEW0HMXQRWT9': 0, 'A1O8U0FEBTGRJP': 0.005, 'APOGXH3A74CM3': 0}), ('A3RNC9BGR4J1ZF', {'A268MFPSNVICJS': 0.02127659574468085, 'A1L8IB1K8ETJW9': 0.04128265958065242, 'ARFL4OAG9CI1H': 0.02127659574468085, 'A1X93ES4DITTWK': 0.05701202659996244, 'A1JXEJFPV9EUVS': 0.08357280902655027, 'A141XAG09QATRB': 0.042553191489361694, 'A3QZA3MXC75V4E': 0.04128265958065242, 'A28N19JIB5161D': 0.042553191489361694, 'AAQMHLS8BN9YJ': 0.04229292487972846, 'AE9GUE3HHOX3U': 0.10578475666854988, 'A4BPK6TYITJS': 0, 'A31KXTOQNTWUVM': 0.02127659574468085, 'A2EENLV6OQ3DYM': 0, 'A3QEW0HMXQRWT9': 0, 'A1O8U0FEBTGRJP': 0, 'APOGXH3A74CM3': 0.02127659574468085}), ('A268MFPSNVICJS', {'A1L8IB1K8ETJW9': 0.16343011261515333, 'ARFL4OAG9CI1H': 0.08333333333333333, 'A1X93ES4DITTWK': 0.14907119849998596, 'A1JXEJFPV9EUVS': 0.08333333333333333, 'A141XAG09QATRB': 0.08333333333333333, 'A3QZA3MXC75V4E': 0.24795914953354387, 'A28N19JIB5161D': 0.16666666666666663, 'AAQMHLS8BN9YJ': 0.08333333333333333, 'AE9GUE3HHOX3U': 0.16666666666666663, 'A4BPK6TYITJS': 0.08333333333333333, 'A31KXTOQNTWUVM': 0, 'A2EENLV6OQ3DYM': 0, 'A3QEW0HMXQRWT9': 0, 'A1O8U0FEBTGRJP': 0, 'APOGXH3A74CM3': 0}), ('A1L8IB1K8ETJW9', {'ARFL4OAG9CI1H': 0.16042780748663102, 'A1X93ES4DITTWK': 0.09090909090909091, 'A1JXEJFPV9EUVS': 0.09090909090909091, 'A141XAG09QATRB': 0.09090909090909091, 'A3QZA3MXC75V4E': 0.09090909090909091, 'A28N19JIB5161D': 0.09090909090909091, 'AAQMHLS8BN9YJ': 0.2611084370766153, 'AE9GUE3HHOX3U': 0.17044095854723004, 'A4BPK6TYITJS': 0, 'A31KXTOQNTWUVM': 0, 'A2EENLV6OQ3DYM': 0, 'A3QEW0HMXQRWT9': 0, 'A1O8U0FEBTGRJP': 0, 'APOGXH3A74CM3': 0}), ('ARFL4OAG9CI1H', {'A1X93ES4DITTWK': 0.07142857142857142, 'A1JXEJFPV9EUVS': 0.07142857142857142, 'A141XAG09QATRB': 0.14198339066765983, 'A3QZA3MXC75V4E': 0.07142857142857142, 'A28N19JIB5161D': 0.07142857142857142, 'AAQMHLS8BN9YJ': 0.07142857142857142, 'AE9GUE3HHOX3U': 0.07142857142857142, 'A4BPK6TYITJS': 0, 'A31KXTOQNTWUVM': 0, 'A2EENLV6OQ3DYM': 0, 'A3QEW0HMXQRWT9': 0, 'A1O8U0FEBTGRJP': 0, 'APOGXH3A74CM3': 0}), ('A1X93ES4DITTWK', {'A1JXEJFPV9EUVS': 0.03333333333333333, 'A141XAG09QATRB': 0.03333333333333333, 'A3QZA3MXC75V4E': 0.06599663291074442, 'A28N19JIB5161D': 0.03333333333333333, 'AAQMHLS8BN9YJ': 0.06666666666666665, 'AE9GUE3HHOX3U': 0.13130643285972254, 'A4BPK6TYITJS': 0.03333333333333333, 'A31KXTOQNTWUVM': 0, 'A2EENLV6OQ3DYM': 0, 'A3QEW0HMXQRWT9': 0, 'A1O8U0FEBTGRJP': 0, 'APOGXH3A74CM3': 0.03333333333333333}), ('A1JXEJFPV9EUVS', {'A141XAG09QATRB': 0.22549380840084865, 'A3QZA3MXC75V4E': 0.07692307692307693, 'A28N19JIB5161D': 0.07692307692307693, 'AAQMHLS8BN9YJ': 0.07692307692307693, 'AE9GUE3HHOX3U': 0.153672021188375, 'A4BPK6TYITJS': 0, 'A31KXTOQNTWUVM': 0, 'A2EENLV6OQ3DYM': 0, 'A3QEW0HMXQRWT9': 0, 'A1O8U0FEBTGRJP': 0, 'APOGXH3A74CM3': 0}), ('A141XAG09QATRB', {'A3QZA3MXC75V4E': 0.1111111111111111, 'A28N19JIB5161D': 0.1111111111111111, 'AAQMHLS8BN9YJ': 0.1111111111111111, 'AE9GUE3HHOX3U': 0.1111111111111111, 'A4BPK6TYITJS': 0, 'A31KXTOQNTWUVM': 0, 'A2EENLV6OQ3DYM': 0, 'A3QEW0HMXQRWT9': 0, 'A1O8U0FEBTGRJP': 0, 'APOGXH3A74CM3': 0}), ('A3QZA3MXC75V4E', {'A28N19JIB5161D': 0.14142135623730948, 'AAQMHLS8BN9YJ': 0.07142857142857142, 'AE9GUE3HHOX3U': 0.14142135623730948, 'A4BPK6TYITJS': 0, 'A31KXTOQNTWUVM': 0, 'A2EENLV6OQ3DYM': 0, 'A3QEW0HMXQRWT9': 0, 'A1O8U0FEBTGRJP': 0, 'APOGXH3A74CM3': 0}), ('A28N19JIB5161D', {'AAQMHLS8BN9YJ': 0.16666666666666666, 'AE9GUE3HHOX3U': 0.16666666666666666, 'A4BPK6TYITJS': 0, 'A31KXTOQNTWUVM': 0, 'A2EENLV6OQ3DYM': 0, 'A3QEW0HMXQRWT9': 0, 'A1O8U0FEBTGRJP': 0, 'APOGXH3A74CM3': 0}), ('AAQMHLS8BN9YJ', {'AE9GUE3HHOX3U': 0.19656056791394572, 'A4BPK6TYITJS': 0, 'A31KXTOQNTWUVM': 0, 'A2EENLV6OQ3DYM': 0, 'A3QEW0HMXQRWT9': 0, 'A1O8U0FEBTGRJP': 0, 'APOGXH3A74CM3': 0}), ('AE9GUE3HHOX3U', {'A4BPK6TYITJS': 0, 'A31KXTOQNTWUVM': 0, 'A2EENLV6OQ3DYM': 0, 'A3QEW0HMXQRWT9': 0, 'A1O8U0FEBTGRJP': 0, 'APOGXH3A74CM3': 0}), ('A4BPK6TYITJS', {'A31KXTOQNTWUVM': 0.0625, 'A2EENLV6OQ3DYM': 0.125, 'A3QEW0HMXQRWT9': 0.0625, 'A1O8U0FEBTGRJP': 0.0625, 'APOGXH3A74CM3': 0.12423546683420235}), ('A31KXTOQNTWUVM', {'A2EENLV6OQ3DYM': 0.125, 'A3QEW0HMXQRWT9': 0.125, 'A1O8U0FEBTGRJP': 0.125, 'APOGXH3A74CM3': 0.24999999999999997}), ('A2EENLV6OQ3DYM', {'A3QEW0HMXQRWT9': 0.026783579200279007, 'A1O8U0FEBTGRJP': 0.013513513513513514, 'APOGXH3A74CM3': 0.013513513513513514}), ('A3QEW0HMXQRWT9', {'A1O8U0FEBTGRJP': 0.2, 'APOGXH3A74CM3': 0.2}), ('A1O8U0FEBTGRJP', {'APOGXH3A74CM3': 0.2}), ('APOGXH3A74CM3', {})])\n"
     ]
    }
   ],
   "source": [
    "# Calculate the similarities (NB: this can take a minute)\n",
    "measure2function = {\"euclidean\" : euclidean_similarity, \"cosine\": cosine_similarity, \"pearson\": pearson_correlation}\n",
    "\n",
    "similarities = {\"euclidean\" : dict(), \"cosine\": dict(), \"pearson\": dict()}\n",
    "for measure, function in measure2function.items():\n",
    "    similarities[measure] = dict([(a,dict()) for a in list(user2product.keys())[:40]])\n",
    "    for id1, id2, in combinations(list(user2product.keys())[:40], 2):\n",
    "        similarities[measure][id1][id2] = calc_similarity(user2product, id1, id2, function)\n",
    "        \n",
    "#print(similarities[\"cosine\"].items())"
   ]
  },
  {
   "cell_type": "code",
   "execution_count": 42,
   "metadata": {},
   "outputs": [],
   "source": [
    "def rankids(useritemdict, thresh):\n",
    "    rankedt = []\n",
    "    rankedb = []\n",
    "    scoredict = {}\n",
    "    \n",
    "    for k, v in useritemdict.items():\n",
    "        itemdict = v\n",
    "        for itemID, stars in itemdict.items():\n",
    "            p = (stars, k[1])\n",
    "            if itemID in scoredict:\n",
    "                scoredict[itemID].append(p)\n",
    "            else:\n",
    "                scoredict[itemID] = [p]\n",
    "    for ID, IDscortup in scoredict.items():\n",
    "        starlist = []\n",
    "        for scortup in IDscortup:\n",
    "            starlist.append(scortup[0])\n",
    "        a = np.mean(starlist)\n",
    "        q = []\n",
    "        for r in IDscortup:\n",
    "            q.append(r[0] * r[1])\n",
    "        IDandweighted = (ID, np.mean(q))\n",
    "        if a > thresh:\n",
    "            rankedt.append(IDandweighted)\n",
    "        else:\n",
    "            rankedb.append(IDandweighted)            \n",
    "    \n",
    "    rankedt.sort(key=itemgetter(1))\n",
    "    rankedb.sort(key=itemgetter(1))\n",
    "    rankedt.reverse()\n",
    "    rankedb.reverse()\n",
    "    return(rankedt, rankedb)"
   ]
  },
  {
   "cell_type": "code",
   "execution_count": 43,
   "metadata": {},
   "outputs": [],
   "source": [
    "def recommend(userid, sim_measure, user2product, k):\n",
    "    \"\"\"This function takes a user id, similarity measure, the user2product dictionary, and k as input. It calculates the\n",
    "    k most similar users. It outputs a dictionary, with as keys tuples containing the k similar users ID and their\n",
    "    similarity, and as values a dictionary containing the ratings for all of their items\"\"\"\n",
    "    reviewers = [user for user in user2product.keys() if user != userid]\n",
    "    similarities = [(other_user, calc_similarity(user2product, userid, other_user, sim_measure)) for other_user in reviewers]\n",
    "    k_similarities = sorted(similarities, key = lambda x: x[1], reverse=True)[:k]\n",
    "    output = dict()\n",
    "    for user_tup in k_similarities:\n",
    "        output[user_tup] = user2product[user_tup[0]]\n",
    "    \n",
    "    lists = rankids(output, 2.49)\n",
    "    #return(output)\n",
    "    toplist = lists[0]\n",
    "    botlist = lists[1]\n",
    "    print(toplist)"
   ]
  },
  {
   "cell_type": "code",
   "execution_count": 44,
   "metadata": {},
   "outputs": [
    {
     "name": "stdout",
     "output_type": "stream",
     "text": [
      "[('B002JQUNHS', 1.949172102025546), ('B000S50QYC', 1.949172102025546), ('B000ND91U4', 1.949172102025546), ('B0000DD79B', 1.949172102025546), ('B00005NZDW', 1.949172102025546), ('B000001EDN', 1.949172102025546), ('B0000013GH', 1.949172102025546), ('B00IOVH8AW', 1.5593376816204367), ('B00CRS5ILY', 1.5593376816204367), ('B00AJRQP58', 1.5593376816204367), ('B005LTB1P8', 1.5593376816204367), ('B0025X4P24', 1.5593376816204367), ('B001W63DXW', 1.5593376816204367), ('B001Q6ERVA', 1.5593376816204367), ('B001NJY68O', 1.5593376816204367), ('B00137OHD0', 1.5593376816204367), ('B00137KS2O', 1.5593376816204367), ('B00136LDKQ', 1.5593376816204367), ('B0010NX2CE', 1.5593376816204367), ('B000V66ZPW', 1.5593376816204367), ('B000Q677E0', 1.5593376816204367), ('B000CNE128', 1.5593376816204367), ('B000B8QF00', 1.5593376816204367), ('B00004KD2H', 1.5593376816204367), ('B00000I8KE', 1.5593376816204367), ('B00000FC5H', 1.5593376816204367), ('B0000089FT', 1.5593376816204367), ('B000002VT6', 1.5593376816204367), ('B000002VH6', 1.5593376816204367), ('B000002OQ6', 1.5593376816204367), ('B000002LT6', 1.5593376816204367), ('B000002IXB', 1.5593376816204367), ('B000002IQ9', 1.5593376816204367), ('B000002GHS', 1.5593376816204367), ('B00000261P', 1.5593376816204367), ('B0000025ED', 1.5593376816204367), ('B000001EXB', 1.5593376816204367), ('B000001EC1', 1.5593376816204367), ('B000001DVP', 1.5593376816204367), ('B000001DU5', 1.5593376816204367), ('B0000013G5', 1.5593376816204367), ('B000000OUU', 1.5593376816204367), ('B00GBCN7WO', 1.1695032612153275), ('B00FHAB7PK', 1.1695032612153275), ('B00FAEQ65Y', 1.1695032612153275), ('B00B8P33AU', 1.1695032612153275), ('B00AHXIDNQ', 1.1695032612153275), ('B009BKTUMY', 1.1695032612153275), ('B0083EYA74', 1.1695032612153275), ('B006OAMVQ6', 1.1695032612153275), ('B005W3G2RA', 1.1695032612153275), ('B0044DL9VI', 1.1695032612153275), ('B001HUBFPG', 1.1695032612153275), ('B001DUJNGI', 1.1695032612153275), ('B00061X95Q', 1.1695032612153275), ('B000255LNE', 1.1695032612153275), ('B00009ATL3', 1.1695032612153275), ('B00004TAXE', 1.1695032612153275), ('B00000J7S9', 1.1695032612153275), ('B000005ILF', 1.1695032612153275), ('B000002OMJ', 1.1695032612153275), ('B000002NC2', 1.1695032612153275), ('B000002LFZ', 1.1695032612153275), ('B000001G0U', 1.1695032612153275), ('B000H7JDVI', 1.0796766791212478), ('B00000D9TQ', 1.0796766791212478), ('B000002G2R', 1.0719502447496458), ('B001AUEMFS', 1.0650033325587178), ('B00136LEMS', 1.0650033325587178), ('B000002HCV', 1.0524774060022712), ('B000000ORB', 1.0352689951853122), ('B00000DFRS', 1.0072282777043118), ('B004NYNGTQ', 0.9611027548582427), ('B006Q77W8Y', 0.9132579998991922), ('B005XOPFWQ', 0.9106389766956019), ('B001NBO0KG', 0.909883555046958), ('B00AHXICXW', 0.883505234494072), ('B0000AKVHS', 0.8793096140282716), ('B000001E46', 0.8793096140282716), ('B001KR5RK0', 0.8779877997608554), ('B00066N8JI', 0.8770330345470913), ('B0000DJE9R', 0.8770330345470913), ('B00005USBH', 0.8770330345470913), ('B0043ZFAIA', 0.8768020518205384), ('B001LZ0UGM', 0.8605794330402706), ('B001O7UXMI', 0.8602023438105214), ('B000002IP1', 0.8602023438105214), ('B000BGR0OM', 0.8575601957997167), ('B0000E1ALR', 0.8575601957997167), ('B007RI58VE', 0.8440956432104608), ('B000FJAA0G', 0.838087357052342), ('B00000DCHG', 0.838087357052342), ('B00004R7SN', 0.8186145183049676), ('B00E59KZOI', 0.7998964888677315), ('B000002BA5', 0.799141679557593), ('B0013D8BK4', 0.7559523256567635), ('B009BKTU9C', 0.6885880242915174), ('B001KR5RKA', 0.6830705895583008), ('B000066RM4', 0.6821158243445367), ('B000001DVR', 0.6821158243445367), ('B002OHOEFO', 0.6671426189867953), ('B00008W2HY', 0.6626429855971621), ('B000002I8D', 0.6626429855971621), ('B001G83TS0', 0.6498160749616606), ('B00005S7UE', 0.6431701468497875), ('B000005IL1', 0.6431701468497875), ('B000002AV5', 0.6396337446431158), ('B0009XNUK0', 0.6396160152841485), ('B007USNOUS', 0.6339121450084985), ('B00FAEQ22G', 0.6273518402967241), ('B000051Y1V', 0.623697308102413), ('B001AAAT6O', 0.6181020138039087), ('B0026P3G12', 0.6167428040362898), ('B0083EYC4A', 0.6145805914390885), ('B000002IHQ', 0.5994320142035138), ('B002I53BL0', 0.5976594177467508), ('B001W3T44W', 0.5951402061673482), ('B00AHXIEFS', 0.5927460126741427), ('B0000CD5FR', 0.583187336304576), ('B0021X515S', 0.5706689834969989), ('B001SZ29NC', 0.5706689834969989), ('B001BYZX1K', 0.5706689834969989), ('B0017V7GTY', 0.5706689834969989), ('B00137IDW6', 0.5706689834969989), ('B001GLHBIG', 0.5610351154542088), ('B009KUAOH0', 0.5488191571413588), ('B00GHJ6VME', 0.5349815516435287), ('B00689J5PI', 0.5349815516435287), ('B00000269M', 0.532819779691053), ('B00468AWDW', 0.530333231896471), ('B00B165ELW', 0.5219054322254687), ('B003Y3ZTH4', 0.5208045562904927), ('B009L5EOCU', 0.5103077186249548), ('B000002NBY', 0.5096889378414127), ('B001IXQU3O', 0.5081204896016656), ('B00FX8F0AY', 0.5058242019280668), ('B004RCXUK4', 0.499052413226386), ('B002X063LA', 0.4986947688339238), ('B001AAHQLA', 0.4982751609951039), ('B0047GL56G', 0.494925048513584), ('B000197KVW', 0.4927491938488955), ('B00A7ZWXIA', 0.4881533793557462), ('B002DSM8UC', 0.4867979972345868), ('B00BEKM08K', 0.48521704210622296), ('B00DRDSL4Y', 0.4811820912680461), ('B0000DD7LC', 0.47786691202129106), ('B002POXFQA', 0.4717686110731669), ('B001A7DDTC', 0.47168745577810783), ('B00FX8F5HW', 0.4703679234054123), ('B001KR1IBW', 0.46886549174387593), ('B009KGKF3M', 0.46794454830929444), ('B00ERMICY8', 0.46010352828622086), ('B001UDY250', 0.45653518679759914), ('B001T46U32', 0.45653518679759914), ('B001BNK58W', 0.45653518679759914), ('B0049FGVV4', 0.4488592623820435), ('B005LMEFQC', 0.4407963727669745), ('B0012OVF2U', 0.44021171644979573), ('B008XCJ0KI', 0.43915393718684725), ('B0059H09DC', 0.43573301041212814), ('B000JU8HHE', 0.40558946229500964), ('B001IXSU8W', 0.3978694855541899), ('B00006RAKP', 0.3948594948336379), ('B001IXUUNU', 0.3930070184891506), ('B0037W68F4', 0.39042511985697426), ('B0031AV72Q', 0.39042511985697426), ('B002HVLAG8', 0.39042511985697426), ('B009EANFQ8', 0.37129758758537057), ('B001B2261M', 0.37044078343170334), ('B001MWGZDG', 0.3660869008512416), ('B0078ZC5JE', 0.3628254649327029), ('B0032CYG9Y', 0.3596718062276081), ('B001B65PBQ', 0.3592153902642497), ('B001AAAT7I', 0.3535443984727967), ('B002K0OGOO', 0.3506105701068464), ('B000IY04RC', 0.34240139009819937), ('B001EYGOEM', 0.3373552147047783), ('B002BPH1F4', 0.3368843560635267), ('B003Y3XTCQ', 0.333442705912621), ('B005I0DM52', 0.327287604145034), ('B001T46UFU', 0.31502018587079533), ('B0017R1DZG', 0.31234009588557937), ('B001C3KCSY', 0.31065858177793104), ('B00136RFJY', 0.3027801576106006), ('B0013G0PG4', 0.28785195257122137), ('B00137RGS8', 0.28785195257122137), ('B001JODA58', 0.2796414356390944), ('B0013JXF86', 0.2709936320987219), ('B009Y4FXT6', 0.26194027177076706), ('B0051QJ87Y', 0.26194027177076706), ('B002O1QKGQ', 0.26194027177076706), ('B009G8GTFM', 0.2604294284734793), ('B004SB60OC', 0.2604294284734793), ('B004PVMFC6', 0.2604294284734793), ('B0043ZDFSW', 0.2604294284734793), ('B001FX5V8M', 0.2603316161974411), ('B00005NNLR', 0.2603316161974411), ('B00F853JY6', 0.2551673681329286), ('B007VF2PAA', 0.2450370755631741), ('B004948NSO', 0.2433474958706512), ('B002HQWQB6', 0.2398793974525105), ('B009G78GRW', 0.2393187370624559), ('B003NJVBPS', 0.23897389512126516), ('B005636AFU', 0.23717156379205284), ('B003Y3XTJO', 0.2339409773155534), ('B005IVUWVS', 0.23252152549544092), ('B00940XGHG', 0.2295219795241093), ('B004BSHAHI', 0.2283377757507442), ('B0043ZBIQI', 0.2273479252470596), ('B003Y3ZTKG', 0.2265716564998128), ('B0051QJ9EG', 0.22047701763659364), ('B002WPVO1A', 0.2184359856425536), ('B004NTMNB8', 0.21772069685762918), ('B003Y3USS4', 0.21150363888568663), ('B001AXJ0GG', 0.21150363888568663), ('B00136Q3HE', 0.21018125621694955), ('B00AIFTHFG', 0.21018125621694955), ('B008B0WOQO', 0.21018125621694955), ('B004UBU9DI', 0.21018125621694955), ('B004PNCMTK', 0.21018125621694955), ('B004IWHAA4', 0.21018125621694955), ('B003U42ZM4', 0.21018125621694955), ('B003PBYT9Y', 0.21018125621694955), ('B0030NL8KK', 0.21018125621694955), ('B0030IXWH2', 0.21018125621694955), ('B002EWD08Q', 0.21018125621694955), ('B001UJIMF0', 0.21018125621694955), ('B001QFNSCK', 0.21018125621694955), ('B001P8C1U8', 0.21018125621694955), ('B001EOQTSI', 0.21018125621694955), ('B001AZI1XC', 0.21018125621694955), ('B0016B6ZKG', 0.21018125621694955), ('B0015RRNNE', 0.21018125621694955), ('B0014DC046', 0.21018125621694955), ('B0013H8QEG', 0.21018125621694955), ('B000WCDI5K', 0.21018125621694955), ('B000O78LH8', 0.21018125621694955), ('B000NPE7YC', 0.21018125621694955), ('B000MRA4WK', 0.21018125621694955), ('B000MGUZ9I', 0.21018125621694955), ('B000GGSMJ4', 0.21018125621694955), ('B000FVQYYK', 0.21018125621694955), ('B000EUMO00', 0.21018125621694955), ('B0002X591A', 0.21018125621694955), ('B000294DDY', 0.21018125621694955), ('B0001XARU4', 0.21018125621694955), ('B00007FOMQ', 0.21018125621694955), ('B00006L7XQ', 0.21018125621694955), ('B000069HKH', 0.21018125621694955), ('B000068OSP', 0.21018125621694955), ('B00005QW3E', 0.21018125621694955), ('B000050488', 0.21018125621694955), ('B00004S36A', 0.21018125621694955), ('B00004S35Z', 0.21018125621694955), ('B00000GUZP', 0.21018125621694955), ('B0000025ZZ', 0.21018125621694955), ('5555991584', 0.21018125621694955), ('B007U20ZQA', 0.20887592132267388), ('B001B9DDKS', 0.20834354277878342), ('B003597ORA', 0.20807936358238915), ('B002GZQYMA', 0.20807936358238915), ('B001CJOHG6', 0.20807936358238915), ('B009O6TB0Q', 0.20767278736770728), ('B007X2N4XI', 0.20767278736770728), ('B006OITIWS', 0.20767278736770728), ('B00BB22GQM', 0.20597747094782876), ('B005ELQVGW', 0.20597747094782876), ('B004124VG2', 0.20597747094782876), ('B000BM6AVA', 0.20597747094782876), ('B0009WFF0Y', 0.20597747094782876), ('B00065BYAY', 0.20597747094782876), ('B005VPSEVG', 0.2059144179321561), ('B009G78G2C', 0.2056914343853837), ('B00970FKQ8', 0.20480187357310473), ('B005LAZP18', 0.20465359244421286), ('B00009U5J5', 0.20245482184534766), ('B00000J2RG', 0.20245482184534766), ('B000002GC2', 0.20245482184534766), ('B000001F8P', 0.20245482184534766), ('B000001AJO', 0.20245482184534766), ('B0057UVLVK', 0.20240614121690484), ('B001E9ULJ6', 0.20227648057513065), ('B00006C77B', 0.20227648057513065), ('B00000I41G', 0.20227648057513065), ('B000002U4U', 0.20227648057513065), ('B000002P22', 0.20227648057513065), ('B000002OVJ', 0.20227648057513065), ('B000002NAV', 0.20227648057513065), ('B000002KKD', 0.20227648057513065), ('B000002C2E', 0.20227648057513065), ('B000001FFJ', 0.20227648057513065), ('B000001EGI', 0.20227648057513065), ('B000002OME', 0.20035292921078726), ('B000BGR18W', 0.19938238683675744), ('B00EOFJAT4', 0.19928154643610646), ('B00006690F', 0.19928154643610646), ('B00004Z41Q', 0.19928154643610646), ('B00000273U', 0.19928154643610646), ('B00122X5VG', 0.19861453057473932), ('B0000CFXNQ', 0.1986145305747393), ('B0000CFXNP', 0.1986145305747393), ('B000002ZD5', 0.1986145305747393), ('B000002KYC', 0.1986145305747393), ('B000002J88', 0.1986145305747393), ('B0000028PD', 0.1985024340244382), ('B000001E0Q', 0.1985024340244382), ('B004PVH8I2', 0.19769396835922343), ('B0057UVMG4', 0.196637917901274), ('B005T166VC', 0.19514977917180457), ('B0013L5M08', 0.19472838747374577), ('B000A2H1D2', 0.19472838747374577), ('B000930E3Q', 0.19472838747374577), ('B0001AP0OU', 0.19472838747374577), ('B00009N1ZV', 0.19472838747374577), ('B00009EJC7', 0.19472838747374577), ('B00005Y1M2', 0.19472838747374577), ('B00005NKKR', 0.19472838747374577), ('B00005LMK5', 0.19472838747374577), ('B00005LKFC', 0.19472838747374577), ('B00005JXQS', 0.19472838747374577), ('B00005JA24', 0.19472838747374577), ('B000056P01', 0.19472838747374577), ('B00004ZDV7', 0.19472838747374577), ('B00004WIZA', 0.19472838747374577), ('B00004STN3', 0.19472838747374577), ('B000046PUW', 0.19472838747374577), ('B0000457IU', 0.19472838747374577), ('B00003002C', 0.19472838747374577), ('B00000K5AK', 0.19472838747374577), ('B00000K4GL', 0.19472838747374577), ('B00000K2W4', 0.19472838747374577), ('B00000JT3K', 0.19472838747374577), ('B00000JQFI', 0.19472838747374577), ('B00000JNNY', 0.19472838747374577), ('B00000IPAC', 0.19472838747374577), ('B00000IIWW', 0.19472838747374577), ('B00000I3ZO', 0.19472838747374577), ('B00000I0RM', 0.19472838747374577), ('B00000GBZ0', 0.19472838747374577), ('B00000G4SD', 0.19472838747374577), ('B000009DZA', 0.19472838747374577), ('B000008J2C', 0.19472838747374577), ('B0000071C3', 0.19472838747374577), ('B000006MV5', 0.19472838747374577), ('B000006DG7', 0.19472838747374577), ('B0000060NL', 0.19472838747374577), ('B000005MLZ', 0.19472838747374577), ('B000005HF9', 0.19472838747374577), ('B000005H9J', 0.19472838747374577), ('B000005H3A', 0.19472838747374577), ('B000005GWF', 0.19472838747374577), ('B000005BOK', 0.19472838747374577), ('B0000047D3', 0.19472838747374577), ('B0000046NG', 0.19472838747374577), ('B000003N8Q', 0.19472838747374577), ('B000003AEK', 0.19472838747374577), ('B0000039Q3', 0.19472838747374577), ('B0000033GN', 0.19472838747374577), ('B000003381', 0.19472838747374577), ('B00000335M', 0.19472838747374577), ('B00000335L', 0.19472838747374577), ('B00000335K', 0.19472838747374577), ('B0000032ZS', 0.19472838747374577), ('B0000032Y0', 0.19472838747374577), ('B0000032XY', 0.19472838747374577), ('B0000032UW', 0.19472838747374577), ('B000002W7N', 0.19472838747374577), ('B000002W79', 0.19472838747374577), ('B000002W21', 0.19472838747374577), ('B000002VTL', 0.19472838747374577), ('B000002VS3', 0.19472838747374577), ('B000002VMH', 0.19472838747374577), ('B000002UQN', 0.19472838747374577), ('B000002UPA', 0.19472838747374577), ('B000002UP9', 0.19472838747374577), ('B000002UBU', 0.19472838747374577), ('B000002U8M', 0.19472838747374577), ('B000002Q40', 0.19472838747374577), ('B000002PHQ', 0.19472838747374577), ('B000002PER', 0.19472838747374577), ('B000002PD8', 0.19472838747374577), ('B000002OPL', 0.19472838747374577), ('B000002OMU', 0.19472838747374577), ('B000002OLW', 0.19472838747374577), ('B000002O9D', 0.19472838747374577), ('B000002O1Y', 0.19472838747374577), ('B000002NGP', 0.19472838747374577), ('B000002NAO', 0.19472838747374577), ('B000002N2T', 0.19472838747374577), ('B000002MTN', 0.19472838747374577), ('B000002MNF', 0.19472838747374577), ('B000002LD5', 0.19472838747374577), ('B000002KZR', 0.19472838747374577), ('B000002KYU', 0.19472838747374577), ('B000002KLL', 0.19472838747374577), ('B000002KKX', 0.19472838747374577), ('B000002KH1', 0.19472838747374577), ('B000002KF2', 0.19472838747374577), ('B000002KEJ', 0.19472838747374577), ('B000002JN4', 0.19472838747374577), ('B000002JKY', 0.19472838747374577), ('B000002JJU', 0.19472838747374577), ('B000002J5U', 0.19472838747374577), ('B000002IR9', 0.19472838747374577), ('B000002IJG', 0.19472838747374577), ('B000002IIQ', 0.19472838747374577), ('B000002IIL', 0.19472838747374577), ('B000002IH8', 0.19472838747374577), ('B000002I7U', 0.19472838747374577), ('B000002I55', 0.19472838747374577), ('B000002I4U', 0.19472838747374577), ('B000002GC4', 0.19472838747374577), ('B000002GAG', 0.19472838747374577), ('B000002GA0', 0.19472838747374577), ('B000002G77', 0.19472838747374577), ('B000002G50', 0.19472838747374577), ('B000002AVB', 0.19472838747374577), ('B000002AMJ', 0.19472838747374577), ('B000002AI9', 0.19472838747374577), ('B000002AI3', 0.19472838747374577), ('B000002ACB', 0.19472838747374577), ('B0000029B0', 0.19472838747374577), ('B0000028RG', 0.19472838747374577), ('B0000026L1', 0.19472838747374577), ('B0000026IF', 0.19472838747374577), ('B000002631', 0.19472838747374577), ('B0000025V4', 0.19472838747374577), ('B0000025JT', 0.19472838747374577), ('B0000025IA', 0.19472838747374577), ('B0000025CM', 0.19472838747374577), ('B0000025A7', 0.19472838747374577), ('B00000258G', 0.19472838747374577), ('B00000255A', 0.19472838747374577), ('B000002510', 0.19472838747374577), ('B0000024YL', 0.19472838747374577), ('B0000024VT', 0.19472838747374577), ('B0000024II', 0.19472838747374577), ('B0000024IE', 0.19472838747374577), ('B000001QJN', 0.19472838747374577), ('B000001PGZ', 0.19472838747374577), ('B000001G0Q', 0.19472838747374577), ('B000001G07', 0.19472838747374577), ('B000001G03', 0.19472838747374577), ('B000001FXV', 0.19472838747374577), ('B000001FWQ', 0.19472838747374577), ('B000001FKJ', 0.19472838747374577), ('B000001FJV', 0.19472838747374577), ('B000001FCK', 0.19472838747374577), ('B000001F9P', 0.19472838747374577), ('B000001F4T', 0.19472838747374577), ('B000001EOG', 0.19472838747374577), ('B000001EKE', 0.19472838747374577), ('B000001EJU', 0.19472838747374577), ('B000001EIU', 0.19472838747374577), ('B000001EEP', 0.19472838747374577), ('B000001E58', 0.19472838747374577), ('B000001E56', 0.19472838747374577), ('B000001E54', 0.19472838747374577), ('B000001E0S', 0.19472838747374577), ('B000001DZU', 0.19472838747374577), ('B000001DZ6', 0.19472838747374577), ('B000001DYS', 0.19472838747374577), ('B000001DWX', 0.19472838747374577), ('B000001DUP', 0.19472838747374577), ('B000001ANM', 0.19472838747374577), ('B000001AKT', 0.19472838747374577), ('B000001AK5', 0.19472838747374577), ('B000001AHX', 0.19472838747374577), ('B000001AH0', 0.19472838747374577), ('B000001AFF', 0.19472838747374577), ('B000001AEE', 0.19472838747374577), ('B000001ADF', 0.19472838747374577), ('B000001ABG', 0.19472838747374577), ('B000001A9C', 0.19472838747374577), ('B000001A8H', 0.19472838747374577), ('B000001A8C', 0.19472838747374577), ('B0000013GT', 0.19472838747374577), ('B0000013GB', 0.19472838747374577), ('B000000ZGT', 0.19472838747374577), ('B000000ZGO', 0.19472838747374577), ('B000000YG5', 0.19472838747374577), ('B000000YES', 0.19472838747374577), ('B000000YAL', 0.19472838747374577), ('B000000Y2R', 0.19472838747374577), ('B000000Y1H', 0.19472838747374577), ('B000000IRN', 0.19472838747374577), ('B00000053B', 0.19472838747374577), ('B00000050T', 0.19472838747374577), ('B0000004X1', 0.19472838747374577), ('B0000004UM', 0.19472838747374577), ('B0043ZBIOU', 0.19426642202063993), ('B008XBRV6Y', 0.1939366051930448), ('B0000025F7', 0.19393056986842222), ('B00EH49FRE', 0.19342940699998484), ('B000001A6N', 0.19259931443087988), ('B003AO1SVS', 0.19255451512342084), ('B005636AJQ', 0.19215617150547923), ('B000001A6X', 0.18991493617528668), ('B000001A5X', 0.18991493617528668), ('B00005V696', 0.18750821052605718), ('B008G12ERC', 0.18748161648760628), ('B006ZZANG0', 0.18748161648760628), ('B004NSULHM', 0.18748161648760628), ('B0041WLBEC', 0.18748161648760628), ('B003TXKSWK', 0.18748161648760628), ('B0028SVXR6', 0.18748161648760628), ('B001KL3GY0', 0.18748161648760628), ('B001FWRZ46', 0.18748161648760628), ('B000FPYNQW', 0.18748161648760628), ('B0000024TT', 0.1872422835733023), ('B003YK9IOC', 0.18462009879420718), ('B000002V1I', 0.18355582270514773), ('B0000025RI', 0.1829819830979731), ('B005LMEFEY', 0.18222629527946044), ('B00097A5H2', 0.17993279927012576), ('B000003N7C', 0.1797817761544553), ('B000002P5W', 0.1797817761544553), ('B000001FCM', 0.1797817761544553), ('B0048LDTKK', 0.17975518211600439), ('B0000026WD', 0.17975518211600439), ('B00005QZH2', 0.17838660306593765), ('B008BUFQY6', 0.178270575166334), ('B0001XANAS', 0.17811660283961503), ('B0000025BA', 0.17811660283961503), ('B005QIBP82', 0.17793680187788172), ('B004LFO0HE', 0.17766525321634194), ('B0002S94RK', 0.17766525321634194), ('B00000DHZJ', 0.1772572129601282), ('B009G3T1J8', 0.1760123815463167), ('B0000AGWFX', 0.17543327837910117), ('B00137GGZC', 0.17397959667564733), ('B007B6VOII', 0.17344897216309413), ('B003DZM54I', 0.17220808657147396), ('B000WM72KM', 0.17220808657147396), ('B0009QYQVO', 0.17220808657147396), ('B0002S94OS', 0.17220808657147396), ('B00006JNGY', 0.17220808657147396), ('B00005IBYZ', 0.17220808657147396), ('B00004T0UR', 0.17220808657147396), ('B0000067IJ', 0.17220808657147396), ('B000002NAA', 0.17220808657147396), ('B000002LB7', 0.17220808657147396), ('B000002GK1', 0.17220808657147396), ('B000002AZZ', 0.17220808657147396), ('B000002AP1', 0.17220808657147396), ('B0000028W9', 0.17220808657147396), ('B0000026J6', 0.17220808657147396), ('B0000025YM', 0.17220808657147396), ('B0000025LB', 0.17220808657147396), ('B0000025C3', 0.17220808657147396), ('B000000OYQ', 0.17220808657147396), ('B003KUSUG8', 0.1710550358814561), ('B001L2I27O', 0.17063798064292102), ('B000NQR7NO', 0.17063798064292102), ('B006M4RN3U', 0.1695914953432782), ('B00AF6PILU', 0.1690286890815895), ('B0014XCMVM', 0.16856622590499315), ('B000002AZY', 0.16852162570331938), ('B00C5COS18', 0.16814500497355964), ('B00JYKU6BK', 0.16814500497355964), ('B00817PG30', 0.16814500497355964), ('B007F1Q7HC', 0.16814500497355964), ('B0067LY4WG', 0.16814500497355964), ('B004LL1HM4', 0.16814500497355964), ('B004EQCO5U', 0.16814500497355964), ('B004E0Z4XK', 0.16814500497355964), ('B004DMAZQK', 0.16814500497355964), ('B004DKLVLA', 0.16814500497355964), ('B0049OSQ0Y', 0.16814500497355964), ('B0049JPUCQ', 0.16814500497355964), ('B0047Z72IC', 0.16814500497355964), ('B00436GNVC', 0.16814500497355964), ('B003UDBSVY', 0.16814500497355964), ('B003TO5MTI', 0.16814500497355964), ('B003IMESBO', 0.16814500497355964), ('B003BGRGAC', 0.16814500497355964), ('B001LV5OOY', 0.16814500497355964), ('B001H9N88Y', 0.16814500497355964), ('B001EOQTV0', 0.16814500497355964), ('B0015D3Z3A', 0.16814500497355964), ('B0015435OI', 0.16814500497355964), ('B000SZLSB2', 0.16814500497355964), ('B0007TF19Y', 0.16814500497355964), ('B0017OLUUC', 0.16759359316377545), ('B002QDR552', 0.1668838693928234), ('B0019T9FL6', 0.16646349086591133), ('B00096S3PY', 0.16646349086591133), ('B007M45QRE', 0.16504784754109783), ('B00D2DM0HS', 0.1648351648351648), ('B00A3OTU5O', 0.1648351648351648), ('B002NQTG5Y', 0.1648351648351648), ('B0002VEQ0C', 0.1648351648351648), ('B0000C83MI', 0.1648351648351648), ('B00009QGF2', 0.1648351648351648), ('B000075A3G', 0.1648351648351648), ('B00006BTC7', 0.1648351648351648), ('B000060MMJ', 0.1648351648351648), ('B00005UC7H', 0.1648351648351648), ('B00005NY9B', 0.1648351648351648), ('B00005NHLY', 0.1648351648351648), ('B00004WIPE', 0.1648351648351648), ('B00004SZG2', 0.1648351648351648), ('B000046PZM', 0.1648351648351648), ('B00000JXSA', 0.1648351648351648), ('B00000JHD7', 0.1648351648351648), ('B00000I9MK', 0.1648351648351648), ('B000006AXS', 0.1648351648351648), ('B000006045', 0.1648351648351648), ('B000005AM7', 0.1648351648351648), ('B000003RZ5', 0.1648351648351648), ('B0000035DC', 0.1648351648351648), ('B000002NGD', 0.1648351648351648), ('B000002LBM', 0.1648351648351648), ('B000002HBA', 0.1648351648351648), ('B000002H72', 0.1648351648351648), ('B000002G7G', 0.1648351648351648), ('B0000027RY', 0.1648351648351648), ('B00000064G', 0.1648351648351648), ('B00000064E', 0.1648351648351648), ('B006LQQ1GE', 0.16482491158952195), ('B00F1CRRIU', 0.164781976758263), ('B00BYISQTO', 0.164781976758263), ('B00BF3AVPA', 0.164781976758263), ('B00B7LYJYE', 0.164781976758263), ('B00AJ3TNRE', 0.164781976758263), ('B00A4EDAN6', 0.164781976758263), ('B009XC8Q6Q', 0.164781976758263), ('B009B1UZ7C', 0.164781976758263), ('B0083EM24C', 0.164781976758263), ('B005F6NA56', 0.164781976758263), ('B004GHNHVW', 0.164781976758263), ('B002WIDRM6', 0.164781976758263), ('B002U1ABZG', 0.164781976758263), ('B002QB190Q', 0.164781976758263), ('B002LFAHDW', 0.164781976758263), ('B002E2M5LO', 0.164781976758263), ('B001T46THE', 0.164781976758263), ('B00192M9FC', 0.164781976758263), ('B0012X9KLO', 0.164781976758263), ('B000MXPE74', 0.164781976758263), ('B000FMR4T8', 0.164781976758263), ('B007BZM30M', 0.16457662219154168), ('B00FP1NNJY', 0.16430235234963372), ('B004ZIH70E', 0.16400055104277722), ('B000002KOA', 0.16400055104277722), ('B000002KH3', 0.1639953982752353), ('B007PAANYG', 0.16393342181982), ('B0024RI70M', 0.16386838133611556), ('B00061U64S', 0.16386838133611556), ('B007CKNX28', 0.16365316946854527), ('B0019GAOI2', 0.16350914435059852), ('B0012X44HE', 0.16350914435059852), ('B000SQLCA8', 0.16321113345769359), ('B000096FT9', 0.16321113345769359), ('B000002757', 0.16321113345769359), ('B00004ZE8C', 0.16316999152032455), ('B007M43HPM', 0.1629510854178855), ('B005I0C4I8', 0.1629510854178855), ('B0000060NH', 0.1626486471199503), ('B0000025UL', 0.1626486471199503), ('B000001E44', 0.1626486471199503), ('B005LAZOZU', 0.16225490992597738), ('B000008EXZ', 0.16182118446010452), ('B000002OZS', 0.16182118446010452), ('B000002ON0', 0.16182118446010452), ('B000002O4I', 0.16182118446010452), ('B000002LRX', 0.16182118446010452), ('B000002LQR', 0.16182118446010452), ('B000002HCM', 0.16182118446010452), ('B00CM6ZM1W', 0.16164680924250036), ('B002BPKWH8', 0.1615052982341281), ('B002OFWFZM', 0.1615048182054843), ('B002DHSGVI', 0.1615048182054843), ('B0025X4OUW', 0.1615048182054843), ('B0015HZAOI', 0.1615048182054843), ('B000HEZF6I', 0.1615048182054843), ('B00005O56V', 0.1615048182054843), ('B00005N9CV', 0.1615048182054843), ('B00004SWJX', 0.1615048182054843), ('B0000047CX', 0.1615048182054843), ('B000002VHQ', 0.1615048182054843), ('B000002VGE', 0.1615048182054843), ('B000002VEN', 0.1615048182054843), ('B0090OPBTC', 0.16140725171603812), ('B00BTZNEZS', 0.1610670060006062), ('B00AVFGBES', 0.16106700600060617), ('B000007NAY', 0.16106700600060617), ('B00000633U', 0.16106700600060617), ('B001235DTW', 0.16089665480963095), ('B00C591KO4', 0.16028234336862981), ('B00BLSJI80', 0.16011220023498562), ('B001UVF0NU', 0.15970684432964458), ('B000001FOJ', 0.15949692171834512), ('B00F5NQYS4', 0.15942523714888518), ('B00C0NFPTQ', 0.15942523714888518), ('B009G78HXA', 0.15942523714888518), ('B000002IT2', 0.15889162445979144), ('B000001FQI', 0.15880194721955057), ('B000002L7Z', 0.15796304906234762), ('B009KGKE0Q', 0.15578270997899663), ('B008UTV73W', 0.15578270997899663), ('B00273D58M', 0.15578270997899663), ('B000GG4XHY', 0.15578270997899663), ('B000E6EHI6', 0.15578270997899663), ('B0000C9ZSV', 0.15578270997899663), ('B00009MGQH', 0.15578270997899663), ('B00008ADQJ', 0.15578270997899663), ('B000077SY2', 0.15578270997899663), ('B00006C2H3', 0.15578270997899663), ('B000068CTE', 0.15578270997899663), ('B00005NNUY', 0.15578270997899663), ('B00005MLVA', 0.15578270997899663), ('B000059RL0', 0.15578270997899663), ('B00004Z2V3', 0.15578270997899663), ('B00004T1I4', 0.15578270997899663), ('B00004S51Y', 0.15578270997899663), ('B000040OVH', 0.15578270997899663), ('B00000I8T5', 0.15578270997899663), ('B00000DHSH', 0.15578270997899663), ('B000008LPA', 0.15578270997899663), ('B000008GTY', 0.15578270997899663), ('B000008EHL', 0.15578270997899663), ('B000007SIN', 0.15578270997899663), ('B0000072SX', 0.15578270997899663), ('B000006XYR', 0.15578270997899663), ('B000006NX3', 0.15578270997899663), ('B000005H7J', 0.15578270997899663), ('B000005BBJ', 0.15578270997899663), ('B0000058MY', 0.15578270997899663), ('B0000047RY', 0.15578270997899663), ('B000003PH0', 0.15578270997899663), ('B000003B37', 0.15578270997899663), ('B000003ADA', 0.15578270997899663), ('B0000033K4', 0.15578270997899663), ('B000002WCG', 0.15578270997899663), ('B000002VSH', 0.15578270997899663), ('B000002TWN', 0.15578270997899663), ('B000002PHV', 0.15578270997899663), ('B000002PD7', 0.15578270997899663), ('B000002N1I', 0.15578270997899663), ('B000002MUW', 0.15578270997899663), ('B000002LSV', 0.15578270997899663), ('B000002LFG', 0.15578270997899663), ('B000002KKN', 0.15578270997899663), ('B000002KE4', 0.15578270997899663), ('B000002KBR', 0.15578270997899663), ('B000002JN6', 0.15578270997899663), ('B000002IOT', 0.15578270997899663), ('B000002GK7', 0.15578270997899663), ('B000002GF0', 0.15578270997899663), ('B000002ASA', 0.15578270997899663), ('B000002A5E', 0.15578270997899663), ('B000002962', 0.15578270997899663), ('B0000027H5', 0.15578270997899663), ('B0000026IC', 0.15578270997899663), ('B000002638', 0.15578270997899663), ('B000002610', 0.15578270997899663), ('B0000025OA', 0.15578270997899663), ('B0000025GR', 0.15578270997899663), ('B000002564', 0.15578270997899663), ('B000001G09', 0.15578270997899663), ('B000001FKH', 0.15578270997899663), ('B000001F9J', 0.15578270997899663), ('B000001F4Z', 0.15578270997899663), ('B000001AMX', 0.15578270997899663), ('B000001AM7', 0.15578270997899663), ('B000001AJU', 0.15578270997899663), ('B000001ADD', 0.15578270997899663), ('B000000YDT', 0.15578270997899663), ('B000000Y5M', 0.15578270997899663), ('B000000WJA', 0.15578270997899663), ('B000000WGP', 0.15578270997899663), ('B0067DA11M', 0.15541313761651193), ('B006M6W0AY', 0.15527006379458858), ('B003VXFZ6W', 0.1546302020591843), ('B005T18DB8', 0.1542289804976162), ('B00A3OT5A4', 0.1541060204137339), ('B004D1GZ2E', 0.15150541782503943), ('B000BR3464', 0.1513030695003229), ('B000WSVBYO', 0.1509515293215703), ('B000EU1KRS', 0.1509515293215703), ('B000BTDMDC', 0.1509515293215703), ('B0002U6GFQ', 0.1509515293215703), ('B00AAJFAP6', 0.15062810173015695), ('B007JOM5XA', 0.1504295839318431), ('B000BNTM32', 0.14870725538956278), ('B000AL730O', 0.14831660410763067), ('B000BOH8XW', 0.14793834091357771), ('B0007WF1XC', 0.14793834091357771), ('B0020MMDCY', 0.14745543273312833), ('B003YK42LQ', 0.14634019607783066), ('B000H0MKGK', 0.14626115165988723), ('B000N2G3RY', 0.14598732325840083), ('B000E0OEQC', 0.14598732325840083), ('B0002X314C', 0.14598732325840083), ('B003V5PPZG', 0.14586574377112843), ('B0043C3DZU', 0.14544536524421636), ('B006BXTU6A', 0.1451354302824968), ('B002OGS0SW', 0.14511107102659454), ('B005NMAX8E', 0.14429168979887977), ('B005IKZ2W8', 0.14429168979887977), ('B001CY2EL6', 0.14403630560322395), ('B0000AKOMI', 0.14403630560322395), ('B00008J4P5', 0.14403630560322395), ('B000065625', 0.14403630560322395), ('B000007T1A', 0.14403630560322395), ('B000001DZO', 0.14403630560322395), ('B000GY729M', 0.14402958919577205), ('B00014TQ7S', 0.14295676885987926), ('B000OYC3J8', 0.14252882332559613), ('B00BDSRER0', 0.14080950462125524), ('B00AA0TZTW', 0.14080950462125524), ('B000H30MYY', 0.14080950462125524), ('B000BY8278', 0.14080950462125524), ('B000BFNYZ2', 0.14080950462125524), ('B000JFY06Q', 0.13962857184630964), ('B00006ZCFH', 0.13954717265753425), ('B0000646TK', 0.13813113481656633), ('B000MTPAGI', 0.13779390419159507), ('B000ZK42QI', 0.13529482173515164), ('B003WTE886', 0.1352104975951257), ('B002HP8EKE', 0.13448390565707063), ('B000PDZJ0S', 0.134167688011667), ('B0000C8Y0N', 0.13186813186813184), ('B00008VOQM', 0.13186813186813184), ('B00007KK7V', 0.13186813186813184), ('B00204AA0O', 0.13109470506889245), ('B001WCN1U6', 0.13109470506889245), ('B001UJIMUK', 0.13109470506889245), ('B000UZ4P5Q', 0.13109470506889245), ('B000RMQH30', 0.13109470506889245), ('B0009ML2BU', 0.13109470506889245), ('B000G1QX4A', 0.13083180591752366), ('B000MTPAQS', 0.13056890676615487), ('B0001KL5C6', 0.13056890676615487), ('B000007VYX', 0.13056890676615487), ('B0000039QA', 0.13056890676615487), ('B0000024IY', 0.13056890676615487), ('B000001Y3J', 0.13056890676615487), ('B000001FUF', 0.13056890676615487), ('B000001I0O', 0.12920385456438743), ('B0042AM4NU', 0.12610875373016972), ('B00016XMOE', 0.12504972078048615), ('B000BK8FVA', 0.12474101163355765), ('B000JVSZIY', 0.12458934560555125), ('B000819PKC', 0.12456346685584935), ('B001B94K2S', 0.12441407950463873), ('B00005R5V2', 0.12370296962520116), ('B00A2YJQK4', 0.12358648256869725), ('B009Y8EB5E', 0.12358648256869725), ('B0091G7BEC', 0.12358648256869725), ('B0050CJNJ2', 0.12358648256869725), ('B004ZQBOXC', 0.12358648256869725), ('B004XE0P5E', 0.12358648256869725), ('B004LDR79O', 0.12358648256869725), ('B0013FDTYA', 0.12358648256869725), ('B000EQ46KA', 0.12358648256869725), ('B000AA302A', 0.12358648256869725), ('B008RYN44U', 0.12320761417725172), ('B00CL8D83U', 0.12301817998152897), ('B004K4AUZW', 0.1228952497674265), ('B001F2U72I', 0.12185640280778713), ('B000EHQ7VA', 0.12136588834507839), ('B000002O8D', 0.12136588834507839), ('B000002KYY', 0.12136588834507839), ('B0000026T4', 0.12136588834507839), ('B00DYFCYSO', 0.12133666587388066), ('B000J103X4', 0.12133666587388066), ('B000IY04S6', 0.12133666587388066), ('B000IY04RW', 0.12133666587388066), ('B000G1ALRU', 0.12133666587388066), ('B000E97HB2', 0.12133666587388066), ('B000B5IPLK', 0.12133666587388066), ('B000AY9OGW', 0.12133666587388066), ('B000AOENCM', 0.12133666587388066), ('B00092ZMF2', 0.12133666587388066), ('B0007P9XJM', 0.12133666587388066), ('B00005NHJS', 0.12133666587388066), ('B00018D44U', 0.12122081639846266), ('B002QR5XN4', 0.12110496692304464), ('B00000ADG2', 0.11985626972480141), ('B000002LGQ', 0.11985626972480141), ('B00KILDVEI', 0.11956892786166388), ('B00BZIOAOS', 0.11956892786166388), ('B004S5S83Y', 0.11956892786166388), ('B0000004VW', 0.11947918049505224), ('B0000CFXNS', 0.11916871834484358), ('B00JRBLSR2', 0.11908704290192296), ('B00009LI14', 0.11865829606919175), ('B00005M987', 0.11865829606919175), ('B000FII324', 0.11709178233077606), ('B000T0C0MC', 0.11683703248424747), ('B000G73U5Y', 0.11683703248424747), ('B000BY827I', 0.11683703248424747), ('B000BLI4UG', 0.11683703248424747), ('B000AA4M9U', 0.11683703248424747), ('B00021LQ82', 0.11683703248424747), ('B00008AY3L', 0.11683703248424747), ('B000083JWH', 0.11683703248424747), ('B00006JO3X', 0.11683703248424747), ('B00006ISBT', 0.11683703248424747), ('B000067CPX', 0.11683703248424747), ('B00005V9QJ', 0.11683703248424747), ('B00005QXKE', 0.11683703248424747), ('B00005QK3W', 0.11683703248424747), ('B00005PJFV', 0.11683703248424747), ('B00005O02R', 0.11683703248424747), ('B00005N8UV', 0.11683703248424747), ('B00004YKUI', 0.11683703248424747), ('B00004TGLF', 0.11683703248424747), ('B00004T0QB', 0.11683703248424747), ('B000035X1M', 0.11683703248424747), ('B00000IP8G', 0.11683703248424747), ('B00000AFSZ', 0.11683703248424747), ('B000009QMN', 0.11683703248424747), ('B000003B8F', 0.11683703248424747), ('B0000033FZ', 0.11683703248424747), ('B000002VOU', 0.11683703248424747), ('B000002VFW', 0.11683703248424747), ('B000002PCQ', 0.11683703248424747), ('B000002PAF', 0.11683703248424747), ('B000002ONC', 0.11683703248424747), ('B000002LNG', 0.11683703248424747), ('B000002LJA', 0.11683703248424747), ('B000002LE6', 0.11683703248424747), ('B000002LCQ', 0.11683703248424747), ('B000002LBT', 0.11683703248424747), ('B000002KXX', 0.11683703248424747), ('B000002IXU', 0.11683703248424747), ('B000002HKC', 0.11683703248424747), ('B000002GCP', 0.11683703248424747), ('B00000295A', 0.11683703248424747), ('B00000257B', 0.11683703248424747), ('B000001Y61', 0.11683703248424747), ('B000001AEL', 0.11683703248424747), ('B0000012T3', 0.11683703248424747), ('B000V3L0ZK', 0.11399879799609151), ('B000EMGAOY', 0.11160745310730154), ('B00192K3NW', 0.11121653473127283), ('B005QJZ5FA', 0.10947578278072982), ('B007FNN9BW', 0.1055970091642835), ('B000EGEKWE', 0.10449303002919538), ('B000Q3646A', 0.1042301308778266), ('B000002OMN', 0.10332485194288438), ('B002WPXHV0', 0.10264523047509547), ('B00004UARR', 0.10189042116495697), ('B00004T9UF', 0.10189042116495697), ('B0009G3BWE', 0.10186382712650607), ('B0006ZQ9BS', 0.10186382712650607), ('B000KCHZK6', 0.10144917861144838), ('B001Q9F0D6', 0.0996117970362789), ('B001G7EGPG', 0.0996117970362789), ('B001AGNRYY', 0.09871210172490086), ('B000IFRQMW', 0.09871210172490086), ('B007QXXS80', 0.09840033062566633), ('B002154328', 0.09832102880166935), ('B001VPJZ40', 0.09832102880166935), ('B001V7UXB2', 0.09832102880166935), ('B0017I1FRQ', 0.09832102880166935), ('B000RHRGIA', 0.09832102880166935), ('B000FDEUI0', 0.09832102880166935), ('B000EGDNCW', 0.09832102880166935), ('B000ADWD4I', 0.09832102880166935), ('B000UMQDHC', 0.09813140088719965), ('B002X09OFM', 0.09793586745008104), ('B000GDI21A', 0.09792668007461616), ('B003Y3SQFQ', 0.09690289092329057), ('B000QCK99E', 0.09690289092329057), ('B00013AFXS', 0.09421246833526767), ('B000084T18', 0.08315487459121332), ('B0002VBPHE', 0.08156169134901609), ('B001K3JF7K', 0.08061626609676358)]\n"
     ]
    }
   ],
   "source": [
    "recommend('A3EBHHCZO6V2A4', cosine_similarity, user2product, 50)"
   ]
  },
  {
   "cell_type": "code",
   "execution_count": 19,
   "metadata": {},
   "outputs": [
    {
     "ename": "TypeError",
     "evalue": "'builtin_function_or_method' object is not subscriptable",
     "output_type": "error",
     "traceback": [
      "\u001b[1;31m---------------------------------------------------------------------------\u001b[0m",
      "\u001b[1;31mTypeError\u001b[0m                                 Traceback (most recent call last)",
      "\u001b[1;32m<ipython-input-19-75a17c980054>\u001b[0m in \u001b[0;36m<module>\u001b[1;34m\u001b[0m\n\u001b[1;32m----> 1\u001b[1;33m \u001b[1;32mclass\u001b[0m \u001b[0mkNN\u001b[0m\u001b[1;33m(\u001b[0m\u001b[0mobject\u001b[0m\u001b[1;33m)\u001b[0m\u001b[1;33m:\u001b[0m\u001b[1;33m\u001b[0m\u001b[0m\n\u001b[0m\u001b[0;32m      2\u001b[0m     \u001b[1;34m\"\"\" k-Nearest Neighbour \"\"\"\u001b[0m\u001b[1;33m\u001b[0m\u001b[0m\n\u001b[0;32m      3\u001b[0m \u001b[1;33m\u001b[0m\u001b[0m\n\u001b[0;32m      4\u001b[0m     \u001b[1;32mdef\u001b[0m \u001b[0m__init__\u001b[0m\u001b[1;33m(\u001b[0m\u001b[0mself\u001b[0m\u001b[1;33m,\u001b[0m \u001b[0mx2y\u001b[0m\u001b[1;33m:\u001b[0m \u001b[0mdict\u001b[0m\u001b[1;33m,\u001b[0m \u001b[0msim_measure\u001b[0m\u001b[1;33m:\u001b[0m\u001b[0mcallable\u001b[0m\u001b[1;33m[\u001b[0m\u001b[1;33m(\u001b[0m\u001b[0mlist\u001b[0m\u001b[1;33m,\u001b[0m \u001b[0mlist\u001b[0m\u001b[1;33m)\u001b[0m\u001b[1;33m,\u001b[0m \u001b[0mfloat\u001b[0m\u001b[1;33m]\u001b[0m\u001b[1;33m,\u001b[0m \u001b[0mk\u001b[0m \u001b[1;33m=\u001b[0m \u001b[1;36m10\u001b[0m\u001b[1;33m)\u001b[0m\u001b[1;33m:\u001b[0m\u001b[1;33m\u001b[0m\u001b[0m\n\u001b[0;32m      5\u001b[0m         \u001b[0mself\u001b[0m\u001b[1;33m.\u001b[0m\u001b[0mx2y\u001b[0m \u001b[1;33m=\u001b[0m \u001b[0mx2y\u001b[0m\u001b[1;33m\u001b[0m\u001b[0m\n",
      "\u001b[1;32m<ipython-input-19-75a17c980054>\u001b[0m in \u001b[0;36mkNN\u001b[1;34m()\u001b[0m\n\u001b[0;32m      2\u001b[0m     \u001b[1;34m\"\"\" k-Nearest Neighbour \"\"\"\u001b[0m\u001b[1;33m\u001b[0m\u001b[0m\n\u001b[0;32m      3\u001b[0m \u001b[1;33m\u001b[0m\u001b[0m\n\u001b[1;32m----> 4\u001b[1;33m     \u001b[1;32mdef\u001b[0m \u001b[0m__init__\u001b[0m\u001b[1;33m(\u001b[0m\u001b[0mself\u001b[0m\u001b[1;33m,\u001b[0m \u001b[0mx2y\u001b[0m\u001b[1;33m:\u001b[0m \u001b[0mdict\u001b[0m\u001b[1;33m,\u001b[0m \u001b[0msim_measure\u001b[0m\u001b[1;33m:\u001b[0m\u001b[0mcallable\u001b[0m\u001b[1;33m[\u001b[0m\u001b[1;33m(\u001b[0m\u001b[0mlist\u001b[0m\u001b[1;33m,\u001b[0m \u001b[0mlist\u001b[0m\u001b[1;33m)\u001b[0m\u001b[1;33m,\u001b[0m \u001b[0mfloat\u001b[0m\u001b[1;33m]\u001b[0m\u001b[1;33m,\u001b[0m \u001b[0mk\u001b[0m \u001b[1;33m=\u001b[0m \u001b[1;36m10\u001b[0m\u001b[1;33m)\u001b[0m\u001b[1;33m:\u001b[0m\u001b[1;33m\u001b[0m\u001b[0m\n\u001b[0m\u001b[0;32m      5\u001b[0m         \u001b[0mself\u001b[0m\u001b[1;33m.\u001b[0m\u001b[0mx2y\u001b[0m \u001b[1;33m=\u001b[0m \u001b[0mx2y\u001b[0m\u001b[1;33m\u001b[0m\u001b[0m\n\u001b[0;32m      6\u001b[0m         \u001b[0mself\u001b[0m\u001b[1;33m.\u001b[0m\u001b[0mk\u001b[0m \u001b[1;33m=\u001b[0m \u001b[0mk\u001b[0m\u001b[1;33m\u001b[0m\u001b[0m\n",
      "\u001b[1;31mTypeError\u001b[0m: 'builtin_function_or_method' object is not subscriptable"
     ]
    }
   ],
   "source": [
    "class kNN(object):\n",
    "    \"\"\" k-Nearest Neighbour \"\"\"\n",
    "    \n",
    "    def __init__(self, x2y: dict, sim_measure:callable[(list, list), float], k = 10):\n",
    "        self.x2y = x2y\n",
    "        self.k = k\n",
    "        self.sim_measure = sim_measure\n",
    "    \n",
    "    def find_similarities(self, an_id):\n",
    "        similarities = dict()\n",
    "        for id1, id2 in product([target], list(user2product.keys())[:40]):\n",
    "            similarities[id2] = calculate_similarity(x2y, id1, id2, measure)\n",
    "        return sorted(list(similarities.items()), key=lambda x:x[1], reverse = True)[:k]        "
   ]
  },
  {
   "cell_type": "code",
   "execution_count": 22,
   "metadata": {},
   "outputs": [
    {
     "data": {
      "text/plain": [
       "[('A3EBHHCZO6V2A4', 1.0),\n",
       " ('A3W4D8XOGLWUN5', 0.3898344204051092),\n",
       " ('A2KW2KWKABNYNO', 0.11413379669939978),\n",
       " ('A3E2FGR7OTA351', 0.07293721044789159),\n",
       " ('A1IIUCG9TJFUWS', 0.07257356561920973),\n",
       " ('A3NZQ0KTNYMVGL', 0.05532293677181463),\n",
       " ('A5HUEE1HB4LDF', 0.05405878626922568),\n",
       " ('ATO9DDJUGNWVD', 0.05343566363558953),\n",
       " ('A19DU0YV4K2MRY', 0.05238805435415342),\n",
       " ('A105188E1HFWRX', 0.05238805435415342),\n",
       " ('AXTO23M29DQX0', 0.052085885694695855),\n",
       " ('A12KC4IDE1EWA0', 0.05206632323948822),\n",
       " ('A27YS4JDS7J3IC', 0.05166326946027823),\n",
       " ('A1NC5YN34N5VRX', 0.051033473626585724),\n",
       " ('A1BVI1R4GJMABC', 0.04639591260918303),\n",
       " ('A2VOI85H5S0OH6', 0.04395604395604396),\n",
       " ('ACY9QYNDFLVBI', 0.04368719712851072),\n",
       " ('A3E0962TERBW7F', 0.043376296235997876),\n",
       " ('A24N1BAS3CU27H', 0.04203625124338991),\n",
       " ('A280KHZO2L7GKA', 0.04203625124338991),\n",
       " ('A2L7Z3FH4MSWYW', 0.041534557473541456),\n",
       " ('A1LVZI3QBCW9A0', 0.041534557473541456),\n",
       " ('ADN5YE0HOKE6O', 0.04123834724043112),\n",
       " ('A1QEWOSV05RYEO', 0.04119549418956575),\n",
       " ('A2NZ5UQQP3JCCN', 0.04116724000080964),\n",
       " ('A36EDWL4F3AASU', 0.04045529611502613),\n",
       " ('AUDSM2CTLLW1Q', 0.039856309287221295),\n",
       " ('ANRSF4BSFCRE7', 0.039722906114947866),\n",
       " ('AHSF06670DDN8', 0.03972290611494786),\n",
       " ('A35CHV6Z75D672', 0.0393275835802548),\n",
       " ('A9Q28YTLYREO7', 0.038945677494749156),\n",
       " ('A1K1Z8XHZLATOJ', 0.03885328440412798),\n",
       " ('A30Q1PK948KFZA', 0.03787430491671777),\n",
       " ('ANH7ENGKJU9D6', 0.03480472889955587),\n",
       " ('A20DZX38KRBIT8', 0.03444161731429479),\n",
       " ('A2WD3W8VV3RX5J', 0.0338057378163179),\n",
       " ('A1XNPOQDLLJJU3', 0.03296703296703296),\n",
       " ('A1PJVW2GSF73E7', 0.03296703296703296),\n",
       " ('A2Y1X56N8NPH8G', 0.032800110208555444),\n",
       " ('A1LHAXBM5GBJS2', 0.03277367626722311),\n",
       " ('A13XGH1V3BQPJI', 0.032773676267223106),\n",
       " ('A1W16J9R4DOBEC', 0.03264222669153872),\n",
       " ('A2AJ76N7LS6GN0', 0.032467532467532464),\n",
       " ('A2U4PLAUZQOSCH', 0.03230096364109686),\n",
       " ('A3TGKOV5OEFI6V', 0.03230096364109686),\n",
       " ('A1WEQ18DCTL5CB', 0.03221340120012124),\n",
       " ('ASDPTCEGEINUZ', 0.032213401200121235),\n",
       " ('A3LIOQ6M991VBX', 0.032213401200121235),\n",
       " ('A6XHF110BC856', 0.032213401200121235),\n",
       " ('AVKHYC2D7MD56', 0.03217933096192619)]"
      ]
     },
     "execution_count": 22,
     "metadata": {},
     "output_type": "execute_result"
    }
   ],
   "source": [
    "def find_similarities(target: str, x2y: defaultdict, measure) -> dict:\n",
    "    similarities = dict()\n",
    "    for id1, id2 in product([target], user2product.keys()):\n",
    "        similarities[id2] = calc_similarity(x2y, id1, id2, measure)\n",
    "    return sorted(list(similarities.items()), key=lambda x:x[1], reverse = True)[:50]\n",
    "\n",
    "\n",
    "find_similarities('A3EBHHCZO6V2A4', user2product, cosine_similarity)"
   ]
  },
  {
   "cell_type": "code",
   "execution_count": null,
   "metadata": {},
   "outputs": [],
   "source": []
  }
 ],
 "metadata": {
  "kernelspec": {
   "display_name": "Python 3",
   "language": "python",
   "name": "python3"
  },
  "language_info": {
   "codemirror_mode": {
    "name": "ipython",
    "version": 3
   },
   "file_extension": ".py",
   "mimetype": "text/x-python",
   "name": "python",
   "nbconvert_exporter": "python",
   "pygments_lexer": "ipython3",
   "version": "3.7.0"
  },
  "varInspector": {
   "cols": {
    "lenName": 16,
    "lenType": 16,
    "lenVar": 40
   },
   "kernels_config": {
    "python": {
     "delete_cmd_postfix": "",
     "delete_cmd_prefix": "del ",
     "library": "var_list.py",
     "varRefreshCmd": "print(var_dic_list())"
    },
    "r": {
     "delete_cmd_postfix": ") ",
     "delete_cmd_prefix": "rm(",
     "library": "var_list.r",
     "varRefreshCmd": "cat(var_dic_list()) "
    }
   },
   "types_to_exclude": [
    "module",
    "function",
    "builtin_function_or_method",
    "instance",
    "_Feature"
   ],
   "window_display": false
  }
 },
 "nbformat": 4,
 "nbformat_minor": 2
}
