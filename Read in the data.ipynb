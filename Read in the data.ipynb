{
 "cells": [
  {
   "cell_type": "code",
   "execution_count": 1,
   "metadata": {},
   "outputs": [],
   "source": [
    "# These are the functions you need to read in the data. You need to have the datafiles in a data folder that is in\n",
    "# the directory you are working in\n",
    "#LINK IM USING FOR K-NN https://stackabuse.com/k-nearest-neighbors-algorithm-in-python-and-scikit-learn/\n",
    "import gzip\n",
    "\n",
    "def parse(path):\n",
    "    g = gzip.open(path, 'rb')\n",
    "    for l in g:\n",
    "        yield eval(l)\n",
    "\n",
    "def getData(name, attributes):\n",
    "    i = 0\n",
    "    dic = {}\n",
    "    path = 'data/reviews_%s_5.json.gz' % name\n",
    "    for line in parse(path):\n",
    "        filtered = {}\n",
    "        for k in line.keys():\n",
    "            if k in attributes:\n",
    "                filtered[k] = line[k]\n",
    "            else:\n",
    "                continue\n",
    "        \n",
    "        dic[i] = filtered\n",
    "        i += 1\n",
    "    return dic"
   ]
  },
  {
   "cell_type": "code",
   "execution_count": 2,
   "metadata": {},
   "outputs": [],
   "source": [
    "# These are one of the three names you can choose to read the dataset from\n",
    "names = ['Digital_Music', 'Kindle_Store', 'Video_Games']\n",
    "\n",
    "# These are all the possible attributes that our datapoints can have. Lots of them are not that useful for us. So during\n",
    "# the reading of the datafile you have to specify which of these attributes you want to include. For our purposes,\n",
    "# only reviewerID, asin (product ID) and overall will be helpful. But I included them all, just in case.\n",
    "attributes = ['reviewerID', 'asin', 'reviewerName', 'helpful', 'reviewText', 'overall', 'summary', \n",
    "              'unixReviewTime', 'reviewTime']"
   ]
  },
  {
   "cell_type": "code",
   "execution_count": 9,
   "metadata": {
    "scrolled": true
   },
   "outputs": [],
   "source": [
    "# You read in the data for example like this:\n",
    "data = getData('Digital_Music', ['reviewerID', 'asin', 'reviewerName', 'helpful', 'reviewText', 'overall', 'summary', \n",
    "              'unixReviewTime', 'reviewTime'])"
   ]
  },
  {
   "cell_type": "code",
   "execution_count": 4,
   "metadata": {
    "scrolled": true
   },
   "outputs": [
    {
     "name": "stdout",
     "output_type": "stream",
     "text": [
      "{'reviewerID': 'A3EBHHCZO6V2A4', 'asin': '5555991584', 'reviewerName': 'Amaranth \"music fan\"', 'helpful': [3, 3], 'reviewText': 'It\\'s hard to believe \"Memory of Trees\" came out 11 years ago;it has held up well over the passage of time.It\\'s Enya\\'s last great album before the New Age/pop of \"Amarantine\" and \"Day without rain.\" Back in 1995,Enya still had her creative spark,her own voice.I agree with the reviewer who said that this is her saddest album;it is melancholy,bittersweet,from the opening title song.\"Memory of Trees\" is elegaic&majestic.;\"Pax Deorum\" sounds like it is from a Requiem Mass,it is a dark threnody.Unlike the reviewer who said that this has a \"disconcerting\" blend of spirituality&sensuality;,I don\\'t find it disconcerting at all.\"Anywhere is\" is a hopeful song,looking to possibilities.\"Hope has a place\" is about love,but it is up to the listener to decide if it is romantic,platonic,etc.I\\'ve always had a soft spot for this song.\"On my way home\" is a triumphant ending about return.This is truly a masterpiece of New Age music,a must for any Enya fan!', 'overall': 5.0, 'summary': \"Enya's last great album\", 'unixReviewTime': 1158019200, 'reviewTime': '09 12, 2006'}\n",
      "{'reviewerID': 'AZPWAXJG9OJXV', 'asin': '5555991584', 'reviewerName': 'bethtexas', 'helpful': [0, 0], 'reviewText': \"A clasically-styled and introverted album, Memory of Trees is a masterpiece of subtlety.  Many of the songs have an endearing shyness to them - soft piano and a lovely, quiet voice.  But within every introvert is an inferno, and Enya lets that fire explode on a couple of songs that absolutely burst with an expected raw power.If you've never heard Enya before, you might want to start with one of her more popularized works, like Watermark, just to play it safe.  But if you're already a fan, then your collection is not complete without this beautiful work of musical art.\", 'overall': 5.0, 'summary': 'Enya at her most elegant', 'unixReviewTime': 991526400, 'reviewTime': '06 3, 2001'}\n",
      "{'reviewerID': 'A38IRL0X2T4DPF', 'asin': '5555991584', 'reviewerName': 'bob turnley', 'helpful': [2, 2], 'reviewText': \"I never thought Enya would reach the sublime heights of Evacuee or Marble Halls from 'Shepherd Moons.' 'The Celts, Watermark and Day...' were all pleasant and admirable throughout, but are less ambitious both lyrically and musically. But Hope Has a Place from 'Memory...' reaches those heights and beyond. It is Enya at her most inspirational and comforting. I'm actually glad that this song didn't get overexposed the way Only Time did. It makes it that much more special to all who own this album.\", 'overall': 5.0, 'summary': 'The best so far', 'unixReviewTime': 1058140800, 'reviewTime': '07 14, 2003'}\n",
      "{'reviewerID': 'A22IK3I6U76GX0', 'asin': '5555991584', 'reviewerName': 'Calle', 'helpful': [1, 1], 'reviewText': \"This is the third review of an irish album I write today (the others were Cranberries) and now I'm sure about that Ireland is one of the countries producing the best music in the world. And not just commercial pop-music in the Spice Girls way. Okay, I just wanted to say something about Irish  music. Now let's say something about this album. It's great. it's  beautiful. Very good, easy listened music. If you like Enya or you just  want some easy-listened relaxing music. This is the album for you to buy!\", 'overall': 5.0, 'summary': 'Ireland produces good music.', 'unixReviewTime': 957312000, 'reviewTime': '05 3, 2000'}\n",
      "{'reviewerID': 'A1AISPOIIHTHXX', 'asin': '5555991584', 'reviewerName': 'Cloud \"...\"', 'helpful': [1, 1], 'reviewText': 'Enya, despite being a successful recording artist, doesn\\'t have the broad appeal as other artists; one reason might be that her kind of music is not very pop station friendly while another reason could be people think they\\'re too \"macho\" for music that she makes. But people with open minds could find there\\'s some beautiful melodies and harmonies as well as lively, upbeat tunes that are a joy to put on. I find the Memory of Trees to be one of her most consistent albums; plus it helps it has probably one of my top 5 favorite songs ever.The Memory of Trees: Like all of her records (except the recent Amarantine), the albums open with a wordless instrumental and this album\\'s title track is probably my favorite with gentle piano arpeggios and a beautiful vocal track. I always like the sparse use of percussion. 9/10Anywhere Is: The lively single; it\\'s actually a good sing-along with staccato beats and a great chorus. It\\'s also a perfect length since it\\'s under 3 minutes so whereas some pop songs drag after awhile, this one hooks you in then lets you go, leaving you wanting more. 9/10Pax Deorum: Another album, another ominous Latin-sung piece. The music sounds like something you\\'d hear in enemy territories in video games while Enya gives a low-voice, almost monotone performance over the music. Slightly repetitive until a 2nd higher voice comes in but the piece hits its stride halfway with a gorgeous bridge. 8/10Athair Ar Nearmh: There\\'s some songs she does where it\\'s more about the song itself rather than a poppy, catchy quality a la Only Time and this song\\'s similar. Another ballad with some of her best singing, it\\'s a more low-key track but it\\'s also one of the album highlights. 8.5/10From Where I Am: Another instrumental; this one\\'s a more piano-based piece that would be a nice song to learn for all pianists out there since it\\'s not technically complex or fast but it\\'s pleasant to listen to. 7.5/10China Roses: There\\'s only a handful of songs I could have on repeat and never get sick of them and this is one of them. Everything from the vocals and background instrumentation, the lyrics and not to mention one of the most relaxing and almost tranquil ending codas I\\'ve ever heard, this is definately my favorite song on here, plus her whole career even. 15/10Hope Has a Place: For me, any song after China Roses will probably suffer a tad but this song doesn\\'t do much for me. Granted, her vocals are as great as always and the song has a nice, relaxing mood but either this kind of track is too familiar (a kind of Athair part 2 if you will) or it\\'s just not as memorable. 7/10Tea-House Moon: Very oriental in its instruments, it\\'s another wordless song although it\\'s more enjoyable than From Where I Am is, mainly because the melodies are more memorable and it\\'s a bit more song-oriented. It\\'s different but strangely likable. 8/10Once You Had Gold: We\\'re getting into the album\\'s final stretch and the problem is that with this one, it\\'s a more quieter affair as you can feel the album almost winding down. With Enya\\'s more higher vocals (for some reason, reminiscent of her Silent Night rendition), it\\'s another beautiful track but it\\'s also a bit...same-y? 8/10La Sonadora: Spanish lyrics for once, it\\'s another slower paced track complete with \"aahs\" for background vocals and synths but again, the album could\\'ve benefited from a more perkier track. I do like what it does at the halfway point and gives the track a little boost. 7.5/10On My Way Home: A church organ opens the track and with a more bouncy synth, you\\'d think it was a bit more upbeat. While it\\'s not as lively as her vocals on Anywhere Is, it does give the album a bit more memorable closer, especially when the chorus comes where the track gets more fuller in its arrangements. 9/10While A Day Without Rain or Watermark is usually marked as one of her best (probably because her big hits Only Time and Orinoco Flow were on them), I find the Memory of Trees a more likable album and despite a lack of more upbeat tracks, it\\'s still one of her finest outings.', 'overall': 4.0, 'summary': '4.5; music to dream to', 'unixReviewTime': 1200528000, 'reviewTime': '01 17, 2008'}\n"
     ]
    }
   ],
   "source": [
    "# This is what our data will look like. You have a dictionary with integers as keys [0,1,2,3,4...], and as values one \n",
    "# datapoint. Each datapoint in itself is a dictionary, with as keys the attribute, and as value the value of that attribute.\n",
    "for i in range(5):\n",
    "    print(data[i])"
   ]
  },
  {
   "cell_type": "code",
   "execution_count": 13,
   "metadata": {},
   "outputs": [
    {
     "data": {
      "text/plain": [
       "64706"
      ]
     },
     "execution_count": 18,
     "metadata": {},
     "output_type": "execute_result"
    }
   ],
   "source": [
    "data[]"
   ]
  },
  {
   "cell_type": "code",
   "execution_count": 40,
   "metadata": {
    "scrolled": true
   },
   "outputs": [
    {
     "name": "stdout",
     "output_type": "stream",
     "text": [
      "Number of colums in Dataframe :  9\n",
      "Number of rows in Dataframe :  64706\n"
     ]
    },
    {
     "data": {
      "text/html": [
       "<div>\n",
       "<style scoped>\n",
       "    .dataframe tbody tr th:only-of-type {\n",
       "        vertical-align: middle;\n",
       "    }\n",
       "\n",
       "    .dataframe tbody tr th {\n",
       "        vertical-align: top;\n",
       "    }\n",
       "\n",
       "    .dataframe thead th {\n",
       "        text-align: right;\n",
       "    }\n",
       "</style>\n",
       "<table border=\"1\" class=\"dataframe\">\n",
       "  <thead>\n",
       "    <tr style=\"text-align: right;\">\n",
       "      <th></th>\n",
       "      <th>reviewerID</th>\n",
       "      <th>asin</th>\n",
       "      <th>reviewerName</th>\n",
       "      <th>helpful</th>\n",
       "      <th>reviewText</th>\n",
       "      <th>overall</th>\n",
       "      <th>summary</th>\n",
       "      <th>unixReviewTime</th>\n",
       "      <th>reviewTime</th>\n",
       "    </tr>\n",
       "  </thead>\n",
       "  <tbody>\n",
       "    <tr>\n",
       "      <td>0</td>\n",
       "      <td>A3EBHHCZO6V2A4</td>\n",
       "      <td>5555991584</td>\n",
       "      <td>Amaranth \"music fan\"</td>\n",
       "      <td>[3, 3]</td>\n",
       "      <td>It's hard to believe \"Memory of Trees\" came ou...</td>\n",
       "      <td>5.0</td>\n",
       "      <td>Enya's last great album</td>\n",
       "      <td>1158019200</td>\n",
       "      <td>09 12, 2006</td>\n",
       "    </tr>\n",
       "    <tr>\n",
       "      <td>1</td>\n",
       "      <td>AZPWAXJG9OJXV</td>\n",
       "      <td>5555991584</td>\n",
       "      <td>bethtexas</td>\n",
       "      <td>[0, 0]</td>\n",
       "      <td>A clasically-styled and introverted album, Mem...</td>\n",
       "      <td>5.0</td>\n",
       "      <td>Enya at her most elegant</td>\n",
       "      <td>991526400</td>\n",
       "      <td>06 3, 2001</td>\n",
       "    </tr>\n",
       "    <tr>\n",
       "      <td>2</td>\n",
       "      <td>A38IRL0X2T4DPF</td>\n",
       "      <td>5555991584</td>\n",
       "      <td>bob turnley</td>\n",
       "      <td>[2, 2]</td>\n",
       "      <td>I never thought Enya would reach the sublime h...</td>\n",
       "      <td>5.0</td>\n",
       "      <td>The best so far</td>\n",
       "      <td>1058140800</td>\n",
       "      <td>07 14, 2003</td>\n",
       "    </tr>\n",
       "    <tr>\n",
       "      <td>3</td>\n",
       "      <td>A22IK3I6U76GX0</td>\n",
       "      <td>5555991584</td>\n",
       "      <td>Calle</td>\n",
       "      <td>[1, 1]</td>\n",
       "      <td>This is the third review of an irish album I w...</td>\n",
       "      <td>5.0</td>\n",
       "      <td>Ireland produces good music.</td>\n",
       "      <td>957312000</td>\n",
       "      <td>05 3, 2000</td>\n",
       "    </tr>\n",
       "    <tr>\n",
       "      <td>4</td>\n",
       "      <td>A1AISPOIIHTHXX</td>\n",
       "      <td>5555991584</td>\n",
       "      <td>Cloud \"...\"</td>\n",
       "      <td>[1, 1]</td>\n",
       "      <td>Enya, despite being a successful recording art...</td>\n",
       "      <td>4.0</td>\n",
       "      <td>4.5; music to dream to</td>\n",
       "      <td>1200528000</td>\n",
       "      <td>01 17, 2008</td>\n",
       "    </tr>\n",
       "  </tbody>\n",
       "</table>\n",
       "</div>"
      ],
      "text/plain": [
       "       reviewerID        asin          reviewerName helpful  \\\n",
       "0  A3EBHHCZO6V2A4  5555991584  Amaranth \"music fan\"  [3, 3]   \n",
       "1   AZPWAXJG9OJXV  5555991584             bethtexas  [0, 0]   \n",
       "2  A38IRL0X2T4DPF  5555991584           bob turnley  [2, 2]   \n",
       "3  A22IK3I6U76GX0  5555991584                 Calle  [1, 1]   \n",
       "4  A1AISPOIIHTHXX  5555991584           Cloud \"...\"  [1, 1]   \n",
       "\n",
       "                                          reviewText  overall  \\\n",
       "0  It's hard to believe \"Memory of Trees\" came ou...      5.0   \n",
       "1  A clasically-styled and introverted album, Mem...      5.0   \n",
       "2  I never thought Enya would reach the sublime h...      5.0   \n",
       "3  This is the third review of an irish album I w...      5.0   \n",
       "4  Enya, despite being a successful recording art...      4.0   \n",
       "\n",
       "                        summary  unixReviewTime   reviewTime  \n",
       "0       Enya's last great album      1158019200  09 12, 2006  \n",
       "1      Enya at her most elegant       991526400   06 3, 2001  \n",
       "2               The best so far      1058140800  07 14, 2003  \n",
       "3  Ireland produces good music.       957312000   05 3, 2000  \n",
       "4        4.5; music to dream to      1200528000  01 17, 2008  "
      ]
     },
     "execution_count": 40,
     "metadata": {},
     "output_type": "execute_result"
    }
   ],
   "source": [
    "import numpy as np\n",
    "import matplotlib.pyplot as plt\n",
    "import pandas as pd\n",
    "import math\n",
    "from sklearn.model_selection import train_test_split\n",
    "from sklearn.preprocessing import StandardScaler\n",
    "from collections import defaultdict\n",
    "\n",
    "ds = pd.DataFrame.from_dict(data, orient='index')\n",
    "\n",
    "print('Number of colums in Dataframe : ', len(ds.columns))\n",
    "print('Number of rows in Dataframe : ', len(ds.index))\n",
    "ds.head()"
   ]
  },
  {
   "cell_type": "code",
   "execution_count": 13,
   "metadata": {},
   "outputs": [],
   "source": [
    "X = ds.iloc[:,:].values\n",
    "\n",
    "#print(X[:6])\n",
    "X_train, X_test = train_test_split(X, test_size=0.20)\n",
    "#print(X_test[:6])"
   ]
  },
  {
   "cell_type": "code",
   "execution_count": 37,
   "metadata": {},
   "outputs": [],
   "source": [
    "def cosine_similarity(p,q):\n",
    "    d = sum(pi * qi for pi,qi in zip(p, q))\n",
    "    mag_p = math.sqrt(sum([pi**2 for pi in p]))\n",
    "    mag_q = math.sqrt(sum([qi**2 for qi in q]))\n",
    "    sim = d / ( mag_p * mag_q)\n",
    "    return sim\n",
    "\n",
    "def calculate_similarity(ratings, id1, id2, measure, threshold = 0):\n",
    "    # get the list of shared rated items\n",
    "    shared = sorted(set(ratings[id1].keys()).intersection(set(ratings[id2].keys())))\n",
    "\n",
    "    # ignore comparisons with too few overlapping ratings (default is 0)\n",
    "    if len(shared) <= threshold:\n",
    "        return 0\n",
    "    \n",
    "    sel_ratings = [np.asarray([v for (k,v) in ratings[i].items() if k in shared]) for i in [id1, id2]]\n",
    "    \n",
    "    # compute similarity\n",
    "    sim = measure(*sel_ratings)\n",
    "    return sim\n",
    "\n",
    "def splitdata(data, per):\n",
    "    training_data = data[:int(len(data)*per/100)]\n",
    "    test_data = data[int(len(data)*per/100):]\n",
    "    return (training_data, test_data)"
   ]
  },
  {
   "cell_type": "code",
   "execution_count": 18,
   "metadata": {},
   "outputs": [
    {
     "data": {
      "text/html": [
       "<div>\n",
       "<style scoped>\n",
       "    .dataframe tbody tr th:only-of-type {\n",
       "        vertical-align: middle;\n",
       "    }\n",
       "\n",
       "    .dataframe tbody tr th {\n",
       "        vertical-align: top;\n",
       "    }\n",
       "\n",
       "    .dataframe thead th {\n",
       "        text-align: right;\n",
       "    }\n",
       "</style>\n",
       "<table border=\"1\" class=\"dataframe\">\n",
       "  <thead>\n",
       "    <tr style=\"text-align: right;\">\n",
       "      <th></th>\n",
       "      <th>reviewerID</th>\n",
       "      <th>asin</th>\n",
       "      <th>overall</th>\n",
       "    </tr>\n",
       "  </thead>\n",
       "  <tbody>\n",
       "    <tr>\n",
       "      <td>0</td>\n",
       "      <td>A3EBHHCZO6V2A4</td>\n",
       "      <td>5555991584</td>\n",
       "      <td>5.0</td>\n",
       "    </tr>\n",
       "    <tr>\n",
       "      <td>1</td>\n",
       "      <td>AZPWAXJG9OJXV</td>\n",
       "      <td>5555991584</td>\n",
       "      <td>5.0</td>\n",
       "    </tr>\n",
       "    <tr>\n",
       "      <td>2</td>\n",
       "      <td>A38IRL0X2T4DPF</td>\n",
       "      <td>5555991584</td>\n",
       "      <td>5.0</td>\n",
       "    </tr>\n",
       "    <tr>\n",
       "      <td>3</td>\n",
       "      <td>A22IK3I6U76GX0</td>\n",
       "      <td>5555991584</td>\n",
       "      <td>5.0</td>\n",
       "    </tr>\n",
       "    <tr>\n",
       "      <td>4</td>\n",
       "      <td>A1AISPOIIHTHXX</td>\n",
       "      <td>5555991584</td>\n",
       "      <td>4.0</td>\n",
       "    </tr>\n",
       "  </tbody>\n",
       "</table>\n",
       "</div>"
      ],
      "text/plain": [
       "       reviewerID        asin  overall\n",
       "0  A3EBHHCZO6V2A4  5555991584      5.0\n",
       "1   AZPWAXJG9OJXV  5555991584      5.0\n",
       "2  A38IRL0X2T4DPF  5555991584      5.0\n",
       "3  A22IK3I6U76GX0  5555991584      5.0\n",
       "4  A1AISPOIIHTHXX  5555991584      4.0"
      ]
     },
     "execution_count": 18,
     "metadata": {},
     "output_type": "execute_result"
    }
   ],
   "source": [
    "ds_cleaned = ds.iloc[:,np.r_[:2, 5]]\n",
    "ds_cleaned.head()"
   ]
  },
  {
   "cell_type": "code",
   "execution_count": 20,
   "metadata": {
    "scrolled": true
   },
   "outputs": [],
   "source": [
    "cleaned_val = ds_cleaned.values\n",
    "\n",
    "user2product = defaultdict(dict)\n",
    "for reviewerID, asin, overall in cleaned_val:\n",
    "    user2product[reviewerID][asin] = overall"
   ]
  },
  {
   "cell_type": "code",
   "execution_count": null,
   "metadata": {},
   "outputs": [],
   "source": [
    "print(\"no. of users:\", len(user2product))\n",
    "print(\"no of reviews in user 1:\", len(list(user2product.items())[0][1]))\n",
    "print(list(user2product.items())[0])new_list= (2,1,5,6,7,1,1,1,1,1,1)\n",
    "print(len(new_list))\n",
    "\n",
    "splitdata(new_list,80)"
   ]
  },
  {
   "cell_type": "code",
   "execution_count": null,
   "metadata": {},
   "outputs": [],
   "source": [
    "print(\"no. of users:\", len(user2product))\n",
    "print(\"no of reviews in user 1:\", len(list(user2product.items())[0][1]))"
   ]
  },
  {
   "cell_type": "code",
   "execution_count": 28,
   "metadata": {},
   "outputs": [
    {
     "name": "stdout",
     "output_type": "stream",
     "text": [
      "no. of users: 5541\n",
      "no of reviews in user 1: 91\n",
      "('A3EBHHCZO6V2A4', {'5555991584': 5.0, 'B000002NJS': 5.0, 'B000002P5W': 5.0, 'B00000DHZJ': 5.0, 'B00005QZH2': 5.0, 'B00005YW4H': 2.0, 'B0009WFF0Y': 2.0, 'B000S50QYC': 5.0, 'B000V3L0ZK': 2.0, 'B000VS8UJY': 5.0, 'B000W0YVX0': 5.0, 'B000WL7UQ4': 2.0, 'B00137GGZC': 3.0, 'B00137KS2O': 3.0, 'B00137RGS8': 3.0, 'B0013D8BK4': 3.0, 'B0017OLUUC': 2.0, 'B001A7DDTC': 3.0, 'B001AAAT6O': 5.0, 'B001AAAT7I': 2.0, 'B001AAE9N8': 3.0, 'B001AAHQLA': 2.0, 'B001AUEMFS': 3.0, 'B001BNK58W': 2.0, 'B001DU4PHA': 3.0, 'B001FX5V8M': 3.0, 'B001FX9QS8': 1.0, 'B001GLHBIG': 4.0, 'B001IXQU3O': 3.0, 'B001IXSU8W': 5.0, 'B001IXUUNU': 5.0, 'B001JODA58': 3.0, 'B001K3JF7K': 2.0, 'B001L2BIHK': 2.0, 'B001NBO0KG': 2.0, 'B001Q6ERVA': 5.0, 'B001W3T44W': 3.0, 'B001X3EQLW': 2.0, 'B001XJTB8E': 3.0, 'B0024RI70M': 2.0, 'B00299CER2': 5.0, 'B002BPH1F4': 2.0, 'B002BPKWH8': 1.0, 'B002I53BL0': 5.0, 'B002K0OGOO': 3.0, 'B002O1QKGQ': 5.0, 'B002POXFQA': 5.0, 'B002X063LA': 5.0, 'B003DEE470': 1.0, 'B003NJVBPS': 5.0, 'B003Y3XTCQ': 5.0, 'B003Y3XTJO': 5.0, 'B003YK9IOC': 5.0, 'B0043ZFAIA': 1.0, 'B00468AWDW': 5.0, 'B0047GL56G': 2.0, 'B004948NSO': 5.0, 'B0049FGVV4': 5.0, 'B004BSHAHI': 5.0, 'B004NYNGTQ': 5.0, 'B004PVH8I2': 5.0, 'B004RCXUK4': 5.0, 'B004S5JBZ8': 1.0, 'B0051QJ9EG': 2.0, 'B0051QK8PU': 5.0, 'B005636AFU': 5.0, 'B005636AJQ': 1.0, 'B0057UVLVK': 5.0, 'B0059H09DC': 5.0, 'B005I0C4I8': 5.0, 'B005I0DM52': 5.0, 'B005IVUWVS': 5.0, 'B005LAZP18': 3.0, 'B005LMEFEY': 2.0, 'B005NMAX8E': 5.0, 'B005QIBP82': 5.0, 'B005RVXYMI': 1.0, 'B005T18DB8': 3.0, 'B005XOPFWQ': 5.0, 'B006AR2D1G': 1.0, 'B006M6W0AY': 4.0, 'B006OAMVQ6': 2.0, 'B006OITIWS': 2.0, 'B007JOM5XA': 3.0, 'B007RI58VE': 5.0, 'B007VF2PAA': 5.0, 'B008BUFQY6': 5.0, 'B008XBRV6Y': 2.0, 'B00970FKQ8': 5.0, 'B009KUAOH0': 5.0, 'B00AAJFAP6': 3.0})\n"
     ]
    },
    {
     "data": {
      "text/plain": [
       "((2, 1, 5, 6, 7, 1, 1, 1), (1, 1, 1))"
      ]
     },
     "execution_count": 28,
     "metadata": {},
     "output_type": "execute_result"
    }
   ],
   "source": [
    "print(list(user2product.items())[0])new_list= (2,1,5,6,7,1,1,1,1,1,1)\n",
    "print(len(new_list))\n",
    "\n",
    "splitdata(new_list,80)"
   ]
  },
  {
   "cell_type": "code",
   "execution_count": 63,
   "metadata": {},
   "outputs": [
    {
     "name": "stdout",
     "output_type": "stream",
     "text": [
      "('A3EBHHCZO6V2A4', {'A31KXTOQNTWUVM': 0})\n",
      "('AZPWAXJG9OJXV', {'A31KXTOQNTWUVM': 0})\n",
      "('A38IRL0X2T4DPF', {'A31KXTOQNTWUVM': 0})\n",
      "('A22IK3I6U76GX0', {'A31KXTOQNTWUVM': 0})\n",
      "('A1AISPOIIHTHXX', {'A31KXTOQNTWUVM': 0})\n",
      "('A2P49WD75WHAG5', {'A31KXTOQNTWUVM': 0.9938837346736188})\n",
      "('A3O90G1D7I5EGG', {'A31KXTOQNTWUVM': 0})\n",
      "('A3EJYJC25OJVKK', {'A31KXTOQNTWUVM': 0})\n",
      "('A1DA8VOH9NR6C7', {'A31KXTOQNTWUVM': 0})\n",
      "('A33TRNCQK4IUO7', {'A31KXTOQNTWUVM': 0})\n",
      "('AWY3EPKEOUV1W', {'A31KXTOQNTWUVM': 0})\n",
      "('A1SCJWCMQ3W3KK', {'A31KXTOQNTWUVM': 0})\n",
      "('A14BTJRH9VNLJJ', {'A31KXTOQNTWUVM': 0.9999999999999999})\n",
      "('A2AOZQ3WTNVVOK', {'A31KXTOQNTWUVM': 1.0})\n",
      "('A1BXA3SM3AJOKL', {'A31KXTOQNTWUVM': 0})\n",
      "('A3CCYAQRHUTPIQ', {'A31KXTOQNTWUVM': 0})\n",
      "('AHUT55E980RDR', {'A31KXTOQNTWUVM': 0})\n",
      "('A24N1BAS3CU27H', {'A31KXTOQNTWUVM': 1.0})\n",
      "('A19YHEBK099R7U', {'A31KXTOQNTWUVM': 0})\n",
      "('A16KCH578FG4B4', {'A31KXTOQNTWUVM': 0})\n",
      "('A3UBAZKS727Z0E', {'A31KXTOQNTWUVM': 0})\n",
      "('A23H9KY3Q1YJ2N', {'A31KXTOQNTWUVM': 0})\n",
      "('AYZCMVSSL4X4B', {'A31KXTOQNTWUVM': 0})\n",
      "('A1LQ1A8DNOTUKV', {'A31KXTOQNTWUVM': 0})\n",
      "('A1W3ZAKFIDGM13', {'A31KXTOQNTWUVM': 0})\n",
      "('A200C7YQJ45LRR', {'A31KXTOQNTWUVM': 0})\n",
      "('A3RNC9BGR4J1ZF', {'A31KXTOQNTWUVM': 1.0})\n",
      "('A268MFPSNVICJS', {'A31KXTOQNTWUVM': 0})\n",
      "('A1L8IB1K8ETJW9', {'A31KXTOQNTWUVM': 0})\n",
      "('ARFL4OAG9CI1H', {'A31KXTOQNTWUVM': 0})\n",
      "('A1X93ES4DITTWK', {'A31KXTOQNTWUVM': 0})\n",
      "('A1JXEJFPV9EUVS', {'A31KXTOQNTWUVM': 0})\n",
      "('A141XAG09QATRB', {'A31KXTOQNTWUVM': 0})\n",
      "('A3QZA3MXC75V4E', {'A31KXTOQNTWUVM': 0})\n",
      "('A28N19JIB5161D', {'A31KXTOQNTWUVM': 0})\n",
      "('A3BLMCU4V5J2DX', {'A31KXTOQNTWUVM': 0})\n",
      "('AAQMHLS8BN9YJ', {'A31KXTOQNTWUVM': 0})\n",
      "('AE9GUE3HHOX3U', {'A31KXTOQNTWUVM': 0})\n",
      "('A4BPK6TYITJS', {'A31KXTOQNTWUVM': 1.0})\n",
      "('A31KXTOQNTWUVM', {})\n"
     ]
    }
   ],
   "source": [
    "def euclidean_similarity(p, q):\n",
    "    dist = math.sqrt(sum((pi-qi)**2 for pi,qi in zip(p, q)))\n",
    "    sim = 1 / (1+dist)\n",
    "    return sim    \n",
    "\n",
    "def pearson_correlation(p,q):\n",
    "    # this code does not scale well to large datasets. In the following, we rely on \n",
    "    # scipy.spatial.distance.correlation() to compute long vectors\n",
    "    if len(p) > 99:\n",
    "        return 1 - distance.correlation(p,q)        \n",
    "    \n",
    "    p_mean = sum(p) / len(p)\n",
    "    p_deviations = [(pi-p_mean) for pi in p]\n",
    "    \n",
    "    q_mean = sum(q) / len(q)\n",
    "    q_deviations = [(qi-q_mean) for qi in q]\n",
    "    \n",
    "    cov = sum(pd * qd for pd,qd in zip(p_deviations, q_deviations))\n",
    "        \n",
    "    sds_product = math.sqrt(sum((pd)**2 for pd in p_deviations) * sum((qd)**2 for qd in q_deviations))\n",
    "    \n",
    "    if sds_product != 0:\n",
    "        r = cov / sds_product\n",
    "    else:\n",
    "        r = 0\n",
    "    return r\n",
    "\n",
    "for id1, id2, in combinations(list(user2product.keys())[:40], 2):\n",
    "    similarities[id1] = dict()\n",
    "    similarities[id1][id2] = calculate_similarity(user2product, id1, id2, cosine_similarity)\n",
    "for a in list(similarities.items())[:40]:\n",
    "    print(a)"
   ]
  },
  {
   "cell_type": "code",
   "execution_count": 69,
   "metadata": {},
   "outputs": [
    {
     "name": "stdout",
     "output_type": "stream",
     "text": [
      "dict_items([('A3EBHHCZO6V2A4', {'AZPWAXJG9OJXV': 0, 'A38IRL0X2T4DPF': 0, 'A22IK3I6U76GX0': 0, 'A1AISPOIIHTHXX': 0, 'A2P49WD75WHAG5': 0, 'A3O90G1D7I5EGG': 0, 'A3EJYJC25OJVKK': 0, 'A1DA8VOH9NR6C7': 0, 'A33TRNCQK4IUO7': 0, 'AWY3EPKEOUV1W': 0, 'A1SCJWCMQ3W3KK': 0, 'A14BTJRH9VNLJJ': 0, 'A2AOZQ3WTNVVOK': 0, 'A1BXA3SM3AJOKL': 0, 'A3CCYAQRHUTPIQ': 0, 'AHUT55E980RDR': 1.0, 'A24N1BAS3CU27H': 0, 'A19YHEBK099R7U': 0, 'A16KCH578FG4B4': 0, 'A3UBAZKS727Z0E': 0, 'A23H9KY3Q1YJ2N': 0, 'AYZCMVSSL4X4B': 0, 'A1LQ1A8DNOTUKV': 0, 'A1W3ZAKFIDGM13': 0, 'A200C7YQJ45LRR': 0, 'A3RNC9BGR4J1ZF': 0, 'A268MFPSNVICJS': 0, 'A1L8IB1K8ETJW9': 0, 'ARFL4OAG9CI1H': 0, 'A1X93ES4DITTWK': 0, 'A1JXEJFPV9EUVS': 0, 'A141XAG09QATRB': 0, 'A3QZA3MXC75V4E': 0, 'A28N19JIB5161D': 0, 'A3BLMCU4V5J2DX': 0, 'AAQMHLS8BN9YJ': 0, 'AE9GUE3HHOX3U': 0, 'A4BPK6TYITJS': 0, 'A31KXTOQNTWUVM': 0}), ('AZPWAXJG9OJXV', {'A38IRL0X2T4DPF': 0, 'A22IK3I6U76GX0': 0, 'A1AISPOIIHTHXX': 0, 'A2P49WD75WHAG5': 0, 'A3O90G1D7I5EGG': 0, 'A3EJYJC25OJVKK': 0, 'A1DA8VOH9NR6C7': 0, 'A33TRNCQK4IUO7': 0, 'AWY3EPKEOUV1W': 0, 'A1SCJWCMQ3W3KK': 0, 'A14BTJRH9VNLJJ': 0, 'A2AOZQ3WTNVVOK': 0, 'A1BXA3SM3AJOKL': 0, 'A3CCYAQRHUTPIQ': 0, 'AHUT55E980RDR': 0, 'A24N1BAS3CU27H': 0, 'A19YHEBK099R7U': 0, 'A16KCH578FG4B4': 0, 'A3UBAZKS727Z0E': 0, 'A23H9KY3Q1YJ2N': 0, 'AYZCMVSSL4X4B': 0, 'A1LQ1A8DNOTUKV': 0, 'A1W3ZAKFIDGM13': 0, 'A200C7YQJ45LRR': 0, 'A3RNC9BGR4J1ZF': 0, 'A268MFPSNVICJS': 0, 'A1L8IB1K8ETJW9': 0, 'ARFL4OAG9CI1H': 0, 'A1X93ES4DITTWK': 0, 'A1JXEJFPV9EUVS': 0, 'A141XAG09QATRB': 0, 'A3QZA3MXC75V4E': 0, 'A28N19JIB5161D': 0, 'A3BLMCU4V5J2DX': 0, 'AAQMHLS8BN9YJ': 0, 'AE9GUE3HHOX3U': 0, 'A4BPK6TYITJS': 0, 'A31KXTOQNTWUVM': 0}), ('A38IRL0X2T4DPF', {'A22IK3I6U76GX0': 0, 'A1AISPOIIHTHXX': 0, 'A2P49WD75WHAG5': 0, 'A3O90G1D7I5EGG': 0, 'A3EJYJC25OJVKK': 0, 'A1DA8VOH9NR6C7': 0, 'A33TRNCQK4IUO7': 0, 'AWY3EPKEOUV1W': 0, 'A1SCJWCMQ3W3KK': 0, 'A14BTJRH9VNLJJ': 0, 'A2AOZQ3WTNVVOK': 0.13363062095621223, 'A1BXA3SM3AJOKL': 0, 'A3CCYAQRHUTPIQ': 0, 'AHUT55E980RDR': 0, 'A24N1BAS3CU27H': 0, 'A19YHEBK099R7U': 0, 'A16KCH578FG4B4': 0, 'A3UBAZKS727Z0E': 0, 'A23H9KY3Q1YJ2N': 0, 'AYZCMVSSL4X4B': 0, 'A1LQ1A8DNOTUKV': 0, 'A1W3ZAKFIDGM13': 0, 'A200C7YQJ45LRR': 0, 'A3RNC9BGR4J1ZF': 0, 'A268MFPSNVICJS': 0, 'A1L8IB1K8ETJW9': 0, 'ARFL4OAG9CI1H': 0, 'A1X93ES4DITTWK': 0, 'A1JXEJFPV9EUVS': 0, 'A141XAG09QATRB': 0, 'A3QZA3MXC75V4E': 0, 'A28N19JIB5161D': 0, 'A3BLMCU4V5J2DX': 0, 'AAQMHLS8BN9YJ': 0, 'AE9GUE3HHOX3U': 0, 'A4BPK6TYITJS': 0, 'A31KXTOQNTWUVM': 0}), ('A22IK3I6U76GX0', {'A1AISPOIIHTHXX': 0, 'A2P49WD75WHAG5': 0, 'A3O90G1D7I5EGG': 0, 'A3EJYJC25OJVKK': 0, 'A1DA8VOH9NR6C7': 0, 'A33TRNCQK4IUO7': 0, 'AWY3EPKEOUV1W': 0, 'A1SCJWCMQ3W3KK': 0, 'A14BTJRH9VNLJJ': 0, 'A2AOZQ3WTNVVOK': 0, 'A1BXA3SM3AJOKL': 0, 'A3CCYAQRHUTPIQ': 0, 'AHUT55E980RDR': 0, 'A24N1BAS3CU27H': 0, 'A19YHEBK099R7U': 0, 'A16KCH578FG4B4': 0, 'A3UBAZKS727Z0E': 0, 'A23H9KY3Q1YJ2N': 0, 'AYZCMVSSL4X4B': 0, 'A1LQ1A8DNOTUKV': 0, 'A1W3ZAKFIDGM13': 0, 'A200C7YQJ45LRR': 0, 'A3RNC9BGR4J1ZF': 0, 'A268MFPSNVICJS': 0, 'A1L8IB1K8ETJW9': 0, 'ARFL4OAG9CI1H': 0, 'A1X93ES4DITTWK': 0, 'A1JXEJFPV9EUVS': 0, 'A141XAG09QATRB': 0, 'A3QZA3MXC75V4E': 0, 'A28N19JIB5161D': 0, 'A3BLMCU4V5J2DX': 0, 'AAQMHLS8BN9YJ': 0, 'AE9GUE3HHOX3U': 0, 'A4BPK6TYITJS': 0, 'A31KXTOQNTWUVM': 0}), ('A1AISPOIIHTHXX', {'A2P49WD75WHAG5': 0, 'A3O90G1D7I5EGG': 0, 'A3EJYJC25OJVKK': 0, 'A1DA8VOH9NR6C7': -1.0, 'A33TRNCQK4IUO7': 0, 'AWY3EPKEOUV1W': 0, 'A1SCJWCMQ3W3KK': 0, 'A14BTJRH9VNLJJ': 0, 'A2AOZQ3WTNVVOK': 0, 'A1BXA3SM3AJOKL': 0, 'A3CCYAQRHUTPIQ': 0, 'AHUT55E980RDR': 0, 'A24N1BAS3CU27H': 0, 'A19YHEBK099R7U': 0.5773502691896258, 'A16KCH578FG4B4': 0, 'A3UBAZKS727Z0E': 0, 'A23H9KY3Q1YJ2N': 0, 'AYZCMVSSL4X4B': 0, 'A1LQ1A8DNOTUKV': 0, 'A1W3ZAKFIDGM13': 0, 'A200C7YQJ45LRR': 0.5, 'A3RNC9BGR4J1ZF': 0, 'A268MFPSNVICJS': 0, 'A1L8IB1K8ETJW9': 0, 'ARFL4OAG9CI1H': 0, 'A1X93ES4DITTWK': 0, 'A1JXEJFPV9EUVS': 0, 'A141XAG09QATRB': 0, 'A3QZA3MXC75V4E': 0, 'A28N19JIB5161D': 0, 'A3BLMCU4V5J2DX': 0, 'AAQMHLS8BN9YJ': 0, 'AE9GUE3HHOX3U': 0, 'A4BPK6TYITJS': 0, 'A31KXTOQNTWUVM': 0}), ('A2P49WD75WHAG5', {'A3O90G1D7I5EGG': 0, 'A3EJYJC25OJVKK': 0, 'A1DA8VOH9NR6C7': 0, 'A33TRNCQK4IUO7': 0, 'AWY3EPKEOUV1W': 0, 'A1SCJWCMQ3W3KK': 0, 'A14BTJRH9VNLJJ': 0, 'A2AOZQ3WTNVVOK': -0.3333333333333333, 'A1BXA3SM3AJOKL': 0, 'A3CCYAQRHUTPIQ': 0, 'AHUT55E980RDR': 0.2500000000000001, 'A24N1BAS3CU27H': 0, 'A19YHEBK099R7U': 0.875, 'A16KCH578FG4B4': 0, 'A3UBAZKS727Z0E': 0, 'A23H9KY3Q1YJ2N': 1.0, 'AYZCMVSSL4X4B': 0, 'A1LQ1A8DNOTUKV': 0, 'A1W3ZAKFIDGM13': 0, 'A200C7YQJ45LRR': -0.21004201260420152, 'A3RNC9BGR4J1ZF': 0, 'A268MFPSNVICJS': 0, 'A1L8IB1K8ETJW9': 0, 'ARFL4OAG9CI1H': 0, 'A1X93ES4DITTWK': -1.0, 'A1JXEJFPV9EUVS': 0, 'A141XAG09QATRB': 0, 'A3QZA3MXC75V4E': 0, 'A28N19JIB5161D': 0, 'A3BLMCU4V5J2DX': 0, 'AAQMHLS8BN9YJ': 0, 'AE9GUE3HHOX3U': 0.0, 'A4BPK6TYITJS': 0, 'A31KXTOQNTWUVM': 0}), ('A3O90G1D7I5EGG', {'A3EJYJC25OJVKK': 0, 'A1DA8VOH9NR6C7': 0, 'A33TRNCQK4IUO7': 0, 'AWY3EPKEOUV1W': 0, 'A1SCJWCMQ3W3KK': 0, 'A14BTJRH9VNLJJ': 0, 'A2AOZQ3WTNVVOK': -0.5, 'A1BXA3SM3AJOKL': 0, 'A3CCYAQRHUTPIQ': 0, 'AHUT55E980RDR': 0, 'A24N1BAS3CU27H': 0, 'A19YHEBK099R7U': 0.7071067811865475, 'A16KCH578FG4B4': -1.0, 'A3UBAZKS727Z0E': 0, 'A23H9KY3Q1YJ2N': 0, 'AYZCMVSSL4X4B': 0, 'A1LQ1A8DNOTUKV': 0, 'A1W3ZAKFIDGM13': 0, 'A200C7YQJ45LRR': 0, 'A3RNC9BGR4J1ZF': 0, 'A268MFPSNVICJS': 0, 'A1L8IB1K8ETJW9': 0, 'ARFL4OAG9CI1H': 0, 'A1X93ES4DITTWK': 0, 'A1JXEJFPV9EUVS': 0, 'A141XAG09QATRB': 0, 'A3QZA3MXC75V4E': 0, 'A28N19JIB5161D': 0, 'A3BLMCU4V5J2DX': 0, 'AAQMHLS8BN9YJ': 0, 'AE9GUE3HHOX3U': 0, 'A4BPK6TYITJS': 0, 'A31KXTOQNTWUVM': 0}), ('A3EJYJC25OJVKK', {'A1DA8VOH9NR6C7': 0, 'A33TRNCQK4IUO7': 0.3333333333333333, 'AWY3EPKEOUV1W': 0, 'A1SCJWCMQ3W3KK': 0, 'A14BTJRH9VNLJJ': 0, 'A2AOZQ3WTNVVOK': 0, 'A1BXA3SM3AJOKL': 0, 'A3CCYAQRHUTPIQ': 0, 'AHUT55E980RDR': 0, 'A24N1BAS3CU27H': 0, 'A19YHEBK099R7U': 0, 'A16KCH578FG4B4': 0, 'A3UBAZKS727Z0E': 0, 'A23H9KY3Q1YJ2N': 0, 'AYZCMVSSL4X4B': 0, 'A1LQ1A8DNOTUKV': 0, 'A1W3ZAKFIDGM13': 0, 'A200C7YQJ45LRR': 0.7559289460184545, 'A3RNC9BGR4J1ZF': 0, 'A268MFPSNVICJS': 0, 'A1L8IB1K8ETJW9': 0, 'ARFL4OAG9CI1H': 0, 'A1X93ES4DITTWK': 0, 'A1JXEJFPV9EUVS': 0, 'A141XAG09QATRB': 0, 'A3QZA3MXC75V4E': 0, 'A28N19JIB5161D': 0, 'A3BLMCU4V5J2DX': 0, 'AAQMHLS8BN9YJ': 0, 'AE9GUE3HHOX3U': 0.6933752452815363, 'A4BPK6TYITJS': 0, 'A31KXTOQNTWUVM': 0}), ('A1DA8VOH9NR6C7', {'A33TRNCQK4IUO7': 0, 'AWY3EPKEOUV1W': 0, 'A1SCJWCMQ3W3KK': 0, 'A14BTJRH9VNLJJ': 0, 'A2AOZQ3WTNVVOK': 0, 'A1BXA3SM3AJOKL': 0, 'A3CCYAQRHUTPIQ': 0, 'AHUT55E980RDR': 0, 'A24N1BAS3CU27H': 0, 'A19YHEBK099R7U': 0, 'A16KCH578FG4B4': 0, 'A3UBAZKS727Z0E': 0, 'A23H9KY3Q1YJ2N': 0, 'AYZCMVSSL4X4B': 0, 'A1LQ1A8DNOTUKV': 0, 'A1W3ZAKFIDGM13': 0, 'A200C7YQJ45LRR': 0, 'A3RNC9BGR4J1ZF': 0, 'A268MFPSNVICJS': 0, 'A1L8IB1K8ETJW9': 0, 'ARFL4OAG9CI1H': 0, 'A1X93ES4DITTWK': 0, 'A1JXEJFPV9EUVS': 0, 'A141XAG09QATRB': 0, 'A3QZA3MXC75V4E': 0, 'A28N19JIB5161D': 0, 'A3BLMCU4V5J2DX': 0, 'AAQMHLS8BN9YJ': 0, 'AE9GUE3HHOX3U': 0, 'A4BPK6TYITJS': 0, 'A31KXTOQNTWUVM': 0}), ('A33TRNCQK4IUO7', {'AWY3EPKEOUV1W': 0, 'A1SCJWCMQ3W3KK': 0, 'A14BTJRH9VNLJJ': 0, 'A2AOZQ3WTNVVOK': 0, 'A1BXA3SM3AJOKL': 0, 'A3CCYAQRHUTPIQ': 0, 'AHUT55E980RDR': 0, 'A24N1BAS3CU27H': 0, 'A19YHEBK099R7U': -0.5, 'A16KCH578FG4B4': 0, 'A3UBAZKS727Z0E': 0, 'A23H9KY3Q1YJ2N': 0, 'AYZCMVSSL4X4B': 0, 'A1LQ1A8DNOTUKV': 0, 'A1W3ZAKFIDGM13': 0, 'A200C7YQJ45LRR': 0.32025630761017404, 'A3RNC9BGR4J1ZF': 0, 'A268MFPSNVICJS': 0, 'A1L8IB1K8ETJW9': 0, 'ARFL4OAG9CI1H': 0, 'A1X93ES4DITTWK': -0.5, 'A1JXEJFPV9EUVS': 0, 'A141XAG09QATRB': 0, 'A3QZA3MXC75V4E': 0, 'A28N19JIB5161D': 0, 'A3BLMCU4V5J2DX': 0, 'AAQMHLS8BN9YJ': 0, 'AE9GUE3HHOX3U': 0, 'A4BPK6TYITJS': 0, 'A31KXTOQNTWUVM': 0}), ('AWY3EPKEOUV1W', {'A1SCJWCMQ3W3KK': 0, 'A14BTJRH9VNLJJ': 0, 'A2AOZQ3WTNVVOK': 0, 'A1BXA3SM3AJOKL': 0, 'A3CCYAQRHUTPIQ': 0, 'AHUT55E980RDR': 0, 'A24N1BAS3CU27H': 0, 'A19YHEBK099R7U': 0, 'A16KCH578FG4B4': 0, 'A3UBAZKS727Z0E': 0, 'A23H9KY3Q1YJ2N': 0, 'AYZCMVSSL4X4B': 0, 'A1LQ1A8DNOTUKV': 0, 'A1W3ZAKFIDGM13': 0, 'A200C7YQJ45LRR': 0, 'A3RNC9BGR4J1ZF': 0, 'A268MFPSNVICJS': 0, 'A1L8IB1K8ETJW9': 0, 'ARFL4OAG9CI1H': 0, 'A1X93ES4DITTWK': 0, 'A1JXEJFPV9EUVS': 0, 'A141XAG09QATRB': 0, 'A3QZA3MXC75V4E': 0, 'A28N19JIB5161D': 0, 'A3BLMCU4V5J2DX': 0, 'AAQMHLS8BN9YJ': 0, 'AE9GUE3HHOX3U': 0, 'A4BPK6TYITJS': 0, 'A31KXTOQNTWUVM': 0}), ('A1SCJWCMQ3W3KK', {'A14BTJRH9VNLJJ': 0, 'A2AOZQ3WTNVVOK': 0, 'A1BXA3SM3AJOKL': 0, 'A3CCYAQRHUTPIQ': 0, 'AHUT55E980RDR': -0.16666666666666663, 'A24N1BAS3CU27H': -0.3333333333333333, 'A19YHEBK099R7U': 0, 'A16KCH578FG4B4': 0, 'A3UBAZKS727Z0E': 0, 'A23H9KY3Q1YJ2N': 0, 'AYZCMVSSL4X4B': 0, 'A1LQ1A8DNOTUKV': 0, 'A1W3ZAKFIDGM13': 0, 'A200C7YQJ45LRR': 0.6666666666666666, 'A3RNC9BGR4J1ZF': 0, 'A268MFPSNVICJS': 0, 'A1L8IB1K8ETJW9': 0, 'ARFL4OAG9CI1H': 0, 'A1X93ES4DITTWK': 0, 'A1JXEJFPV9EUVS': 0, 'A141XAG09QATRB': 0, 'A3QZA3MXC75V4E': 0, 'A28N19JIB5161D': 0, 'A3BLMCU4V5J2DX': 0, 'AAQMHLS8BN9YJ': 0, 'AE9GUE3HHOX3U': 0, 'A4BPK6TYITJS': 0, 'A31KXTOQNTWUVM': 0}), ('A14BTJRH9VNLJJ', {'A2AOZQ3WTNVVOK': 0, 'A1BXA3SM3AJOKL': 0, 'A3CCYAQRHUTPIQ': 0, 'AHUT55E980RDR': 0, 'A24N1BAS3CU27H': -0.2401922307076307, 'A19YHEBK099R7U': 0, 'A16KCH578FG4B4': 0, 'A3UBAZKS727Z0E': 0, 'A23H9KY3Q1YJ2N': 0, 'AYZCMVSSL4X4B': 0, 'A1LQ1A8DNOTUKV': 0, 'A1W3ZAKFIDGM13': 0, 'A200C7YQJ45LRR': -0.1336306209562122, 'A3RNC9BGR4J1ZF': 0, 'A268MFPSNVICJS': 0, 'A1L8IB1K8ETJW9': 0, 'ARFL4OAG9CI1H': 0, 'A1X93ES4DITTWK': 0, 'A1JXEJFPV9EUVS': 0, 'A141XAG09QATRB': 0, 'A3QZA3MXC75V4E': 0, 'A28N19JIB5161D': 0, 'A3BLMCU4V5J2DX': 0, 'AAQMHLS8BN9YJ': 0, 'AE9GUE3HHOX3U': 0, 'A4BPK6TYITJS': 0, 'A31KXTOQNTWUVM': 0}), ('A2AOZQ3WTNVVOK', {'A1BXA3SM3AJOKL': 0, 'A3CCYAQRHUTPIQ': 0, 'AHUT55E980RDR': 0, 'A24N1BAS3CU27H': 0, 'A19YHEBK099R7U': 0, 'A16KCH578FG4B4': 1.0, 'A3UBAZKS727Z0E': 0, 'A23H9KY3Q1YJ2N': 0, 'AYZCMVSSL4X4B': 0, 'A1LQ1A8DNOTUKV': 0, 'A1W3ZAKFIDGM13': 0, 'A200C7YQJ45LRR': -0.8660254037844385, 'A3RNC9BGR4J1ZF': 0, 'A268MFPSNVICJS': 0, 'A1L8IB1K8ETJW9': 0, 'ARFL4OAG9CI1H': 0, 'A1X93ES4DITTWK': 0, 'A1JXEJFPV9EUVS': 0, 'A141XAG09QATRB': 0, 'A3QZA3MXC75V4E': 0, 'A28N19JIB5161D': 0, 'A3BLMCU4V5J2DX': 0, 'AAQMHLS8BN9YJ': 0, 'AE9GUE3HHOX3U': 0, 'A4BPK6TYITJS': 0, 'A31KXTOQNTWUVM': 0}), ('A1BXA3SM3AJOKL', {'A3CCYAQRHUTPIQ': 0, 'AHUT55E980RDR': 0, 'A24N1BAS3CU27H': 0, 'A19YHEBK099R7U': 0, 'A16KCH578FG4B4': 0, 'A3UBAZKS727Z0E': 0, 'A23H9KY3Q1YJ2N': 0, 'AYZCMVSSL4X4B': 0, 'A1LQ1A8DNOTUKV': 0, 'A1W3ZAKFIDGM13': 0, 'A200C7YQJ45LRR': 0, 'A3RNC9BGR4J1ZF': 0, 'A268MFPSNVICJS': 0, 'A1L8IB1K8ETJW9': 0, 'ARFL4OAG9CI1H': 0, 'A1X93ES4DITTWK': 0, 'A1JXEJFPV9EUVS': 0, 'A141XAG09QATRB': 0, 'A3QZA3MXC75V4E': 0, 'A28N19JIB5161D': 0, 'A3BLMCU4V5J2DX': 0, 'AAQMHLS8BN9YJ': 0, 'AE9GUE3HHOX3U': 0, 'A4BPK6TYITJS': 0, 'A31KXTOQNTWUVM': 0}), ('A3CCYAQRHUTPIQ', {'AHUT55E980RDR': 0, 'A24N1BAS3CU27H': 0, 'A19YHEBK099R7U': 0, 'A16KCH578FG4B4': 0, 'A3UBAZKS727Z0E': 0, 'A23H9KY3Q1YJ2N': 0, 'AYZCMVSSL4X4B': 0, 'A1LQ1A8DNOTUKV': 0, 'A1W3ZAKFIDGM13': 0, 'A200C7YQJ45LRR': 0, 'A3RNC9BGR4J1ZF': 0, 'A268MFPSNVICJS': 0, 'A1L8IB1K8ETJW9': 0, 'ARFL4OAG9CI1H': 0, 'A1X93ES4DITTWK': 0, 'A1JXEJFPV9EUVS': 0, 'A141XAG09QATRB': 0, 'A3QZA3MXC75V4E': 0, 'A28N19JIB5161D': 0, 'A3BLMCU4V5J2DX': 0, 'AAQMHLS8BN9YJ': 0, 'AE9GUE3HHOX3U': 0, 'A4BPK6TYITJS': 0, 'A31KXTOQNTWUVM': 0}), ('AHUT55E980RDR', {'A24N1BAS3CU27H': 0, 'A19YHEBK099R7U': 1.0, 'A16KCH578FG4B4': 0, 'A3UBAZKS727Z0E': 0, 'A23H9KY3Q1YJ2N': 0, 'AYZCMVSSL4X4B': 0, 'A1LQ1A8DNOTUKV': 0, 'A1W3ZAKFIDGM13': 0, 'A200C7YQJ45LRR': 0, 'A3RNC9BGR4J1ZF': 0, 'A268MFPSNVICJS': 0, 'A1L8IB1K8ETJW9': 0, 'ARFL4OAG9CI1H': 0, 'A1X93ES4DITTWK': 1.0, 'A1JXEJFPV9EUVS': 0, 'A141XAG09QATRB': 0, 'A3QZA3MXC75V4E': 0, 'A28N19JIB5161D': 0, 'A3BLMCU4V5J2DX': 0, 'AAQMHLS8BN9YJ': 0, 'AE9GUE3HHOX3U': 0, 'A4BPK6TYITJS': 0, 'A31KXTOQNTWUVM': 0}), ('A24N1BAS3CU27H', {'A19YHEBK099R7U': -0.26220221204253785, 'A16KCH578FG4B4': 0, 'A3UBAZKS727Z0E': 0, 'A23H9KY3Q1YJ2N': 0, 'AYZCMVSSL4X4B': 0, 'A1LQ1A8DNOTUKV': 0, 'A1W3ZAKFIDGM13': 0, 'A200C7YQJ45LRR': 0.2675861370088348, 'A3RNC9BGR4J1ZF': 0, 'A268MFPSNVICJS': 0, 'A1L8IB1K8ETJW9': 0, 'ARFL4OAG9CI1H': 0, 'A1X93ES4DITTWK': 0.11396057645963795, 'A1JXEJFPV9EUVS': 1.0, 'A141XAG09QATRB': 0, 'A3QZA3MXC75V4E': 0, 'A28N19JIB5161D': 0, 'A3BLMCU4V5J2DX': 0, 'AAQMHLS8BN9YJ': 0, 'AE9GUE3HHOX3U': 0.0, 'A4BPK6TYITJS': 0, 'A31KXTOQNTWUVM': 0}), ('A19YHEBK099R7U', {'A16KCH578FG4B4': 0, 'A3UBAZKS727Z0E': 0, 'A23H9KY3Q1YJ2N': 0, 'AYZCMVSSL4X4B': 0, 'A1LQ1A8DNOTUKV': 0, 'A1W3ZAKFIDGM13': 0, 'A200C7YQJ45LRR': 0.2784450494615055, 'A3RNC9BGR4J1ZF': 0, 'A268MFPSNVICJS': 0, 'A1L8IB1K8ETJW9': 0, 'ARFL4OAG9CI1H': 0, 'A1X93ES4DITTWK': 0, 'A1JXEJFPV9EUVS': 0, 'A141XAG09QATRB': 0, 'A3QZA3MXC75V4E': 0, 'A28N19JIB5161D': 0, 'A3BLMCU4V5J2DX': 0, 'AAQMHLS8BN9YJ': 0, 'AE9GUE3HHOX3U': 0, 'A4BPK6TYITJS': 0, 'A31KXTOQNTWUVM': 0}), ('A16KCH578FG4B4', {'A3UBAZKS727Z0E': 0, 'A23H9KY3Q1YJ2N': 0, 'AYZCMVSSL4X4B': 0, 'A1LQ1A8DNOTUKV': 0, 'A1W3ZAKFIDGM13': 0, 'A200C7YQJ45LRR': 0, 'A3RNC9BGR4J1ZF': 0, 'A268MFPSNVICJS': 0, 'A1L8IB1K8ETJW9': 0, 'ARFL4OAG9CI1H': 0, 'A1X93ES4DITTWK': 0, 'A1JXEJFPV9EUVS': 0, 'A141XAG09QATRB': 0, 'A3QZA3MXC75V4E': 0, 'A28N19JIB5161D': 0, 'A3BLMCU4V5J2DX': 0, 'AAQMHLS8BN9YJ': 0, 'AE9GUE3HHOX3U': 0, 'A4BPK6TYITJS': 0, 'A31KXTOQNTWUVM': 0}), ('A3UBAZKS727Z0E', {'A23H9KY3Q1YJ2N': 0, 'AYZCMVSSL4X4B': 0, 'A1LQ1A8DNOTUKV': 0, 'A1W3ZAKFIDGM13': 0, 'A200C7YQJ45LRR': 0, 'A3RNC9BGR4J1ZF': 0, 'A268MFPSNVICJS': 0, 'A1L8IB1K8ETJW9': 0, 'ARFL4OAG9CI1H': 0, 'A1X93ES4DITTWK': 0, 'A1JXEJFPV9EUVS': 0, 'A141XAG09QATRB': 0, 'A3QZA3MXC75V4E': 0, 'A28N19JIB5161D': 0, 'A3BLMCU4V5J2DX': 0, 'AAQMHLS8BN9YJ': 0, 'AE9GUE3HHOX3U': -1.0, 'A4BPK6TYITJS': 0, 'A31KXTOQNTWUVM': 0}), ('A23H9KY3Q1YJ2N', {'AYZCMVSSL4X4B': 0, 'A1LQ1A8DNOTUKV': 0, 'A1W3ZAKFIDGM13': 0, 'A200C7YQJ45LRR': 0, 'A3RNC9BGR4J1ZF': 0, 'A268MFPSNVICJS': 0, 'A1L8IB1K8ETJW9': 0, 'ARFL4OAG9CI1H': 0, 'A1X93ES4DITTWK': 0, 'A1JXEJFPV9EUVS': 0, 'A141XAG09QATRB': 0, 'A3QZA3MXC75V4E': 0, 'A28N19JIB5161D': 0, 'A3BLMCU4V5J2DX': 0, 'AAQMHLS8BN9YJ': 0, 'AE9GUE3HHOX3U': 0, 'A4BPK6TYITJS': 0, 'A31KXTOQNTWUVM': 0}), ('AYZCMVSSL4X4B', {'A1LQ1A8DNOTUKV': 0, 'A1W3ZAKFIDGM13': 0, 'A200C7YQJ45LRR': 0.5773502691896258, 'A3RNC9BGR4J1ZF': 0, 'A268MFPSNVICJS': 0, 'A1L8IB1K8ETJW9': 0, 'ARFL4OAG9CI1H': 0, 'A1X93ES4DITTWK': 0, 'A1JXEJFPV9EUVS': 0, 'A141XAG09QATRB': 0, 'A3QZA3MXC75V4E': 0, 'A28N19JIB5161D': 0, 'A3BLMCU4V5J2DX': 0, 'AAQMHLS8BN9YJ': 0, 'AE9GUE3HHOX3U': 0, 'A4BPK6TYITJS': 0, 'A31KXTOQNTWUVM': 0}), ('A1LQ1A8DNOTUKV', {'A1W3ZAKFIDGM13': 0, 'A200C7YQJ45LRR': 0, 'A3RNC9BGR4J1ZF': 0, 'A268MFPSNVICJS': 0, 'A1L8IB1K8ETJW9': 0, 'ARFL4OAG9CI1H': 0, 'A1X93ES4DITTWK': 0.8703882797784892, 'A1JXEJFPV9EUVS': 0, 'A141XAG09QATRB': 0, 'A3QZA3MXC75V4E': 0, 'A28N19JIB5161D': 0, 'A3BLMCU4V5J2DX': 0, 'AAQMHLS8BN9YJ': 0, 'AE9GUE3HHOX3U': 0, 'A4BPK6TYITJS': 0, 'A31KXTOQNTWUVM': 0}), ('A1W3ZAKFIDGM13', {'A200C7YQJ45LRR': 0, 'A3RNC9BGR4J1ZF': 0, 'A268MFPSNVICJS': 0, 'A1L8IB1K8ETJW9': 0, 'ARFL4OAG9CI1H': 0, 'A1X93ES4DITTWK': 0, 'A1JXEJFPV9EUVS': 0, 'A141XAG09QATRB': 0, 'A3QZA3MXC75V4E': 0, 'A28N19JIB5161D': 0, 'A3BLMCU4V5J2DX': 0, 'AAQMHLS8BN9YJ': 0, 'AE9GUE3HHOX3U': 0, 'A4BPK6TYITJS': 0, 'A31KXTOQNTWUVM': 0}), ('A200C7YQJ45LRR', {'A3RNC9BGR4J1ZF': 0, 'A268MFPSNVICJS': 0, 'A1L8IB1K8ETJW9': -0.9438798074485389, 'ARFL4OAG9CI1H': 0, 'A1X93ES4DITTWK': -0.22429870494428727, 'A1JXEJFPV9EUVS': 0.07537783614444088, 'A141XAG09QATRB': 0, 'A3QZA3MXC75V4E': -0.49999999999999994, 'A28N19JIB5161D': 0, 'A3BLMCU4V5J2DX': 0, 'AAQMHLS8BN9YJ': 0, 'AE9GUE3HHOX3U': 0.30629229310410155, 'A4BPK6TYITJS': 0, 'A31KXTOQNTWUVM': 0}), ('A3RNC9BGR4J1ZF', {'A268MFPSNVICJS': 0, 'A1L8IB1K8ETJW9': 0, 'ARFL4OAG9CI1H': 0, 'A1X93ES4DITTWK': -0.1889822365046136, 'A1JXEJFPV9EUVS': 0, 'A141XAG09QATRB': 0, 'A3QZA3MXC75V4E': 0, 'A28N19JIB5161D': 0, 'A3BLMCU4V5J2DX': 0, 'AAQMHLS8BN9YJ': 0, 'AE9GUE3HHOX3U': 0, 'A4BPK6TYITJS': 0, 'A31KXTOQNTWUVM': 0}), ('A268MFPSNVICJS', {'A1L8IB1K8ETJW9': 0, 'ARFL4OAG9CI1H': 0, 'A1X93ES4DITTWK': 0, 'A1JXEJFPV9EUVS': 0, 'A141XAG09QATRB': 0, 'A3QZA3MXC75V4E': 0, 'A28N19JIB5161D': 0, 'A3BLMCU4V5J2DX': 0, 'AAQMHLS8BN9YJ': 0, 'AE9GUE3HHOX3U': 0, 'A4BPK6TYITJS': 0, 'A31KXTOQNTWUVM': 0}), ('A1L8IB1K8ETJW9', {'ARFL4OAG9CI1H': -1.0, 'A1X93ES4DITTWK': 0, 'A1JXEJFPV9EUVS': 0, 'A141XAG09QATRB': 0, 'A3QZA3MXC75V4E': 0, 'A28N19JIB5161D': 0, 'A3BLMCU4V5J2DX': 0, 'AAQMHLS8BN9YJ': 0.0, 'AE9GUE3HHOX3U': -1.0, 'A4BPK6TYITJS': 0, 'A31KXTOQNTWUVM': 0}), ('ARFL4OAG9CI1H', {'A1X93ES4DITTWK': 0, 'A1JXEJFPV9EUVS': 0, 'A141XAG09QATRB': 0, 'A3QZA3MXC75V4E': 0, 'A28N19JIB5161D': 0, 'A3BLMCU4V5J2DX': 0, 'AAQMHLS8BN9YJ': 0, 'AE9GUE3HHOX3U': 0, 'A4BPK6TYITJS': 0, 'A31KXTOQNTWUVM': 0}), ('A1X93ES4DITTWK', {'A1JXEJFPV9EUVS': 0, 'A141XAG09QATRB': 0, 'A3QZA3MXC75V4E': 0, 'A28N19JIB5161D': 0, 'A3BLMCU4V5J2DX': 0, 'AAQMHLS8BN9YJ': 0, 'AE9GUE3HHOX3U': 0.0, 'A4BPK6TYITJS': 0, 'A31KXTOQNTWUVM': 0}), ('A1JXEJFPV9EUVS', {'A141XAG09QATRB': 0, 'A3QZA3MXC75V4E': 0, 'A28N19JIB5161D': 0, 'A3BLMCU4V5J2DX': 0, 'AAQMHLS8BN9YJ': 0, 'AE9GUE3HHOX3U': 1.0, 'A4BPK6TYITJS': 0, 'A31KXTOQNTWUVM': 0}), ('A141XAG09QATRB', {'A3QZA3MXC75V4E': 0, 'A28N19JIB5161D': 0, 'A3BLMCU4V5J2DX': 0, 'AAQMHLS8BN9YJ': 0, 'AE9GUE3HHOX3U': 0, 'A4BPK6TYITJS': 0, 'A31KXTOQNTWUVM': 0}), ('A3QZA3MXC75V4E', {'A28N19JIB5161D': 0, 'A3BLMCU4V5J2DX': 0, 'AAQMHLS8BN9YJ': 0, 'AE9GUE3HHOX3U': 0, 'A4BPK6TYITJS': 0, 'A31KXTOQNTWUVM': 0}), ('A28N19JIB5161D', {'A3BLMCU4V5J2DX': 0, 'AAQMHLS8BN9YJ': 0, 'AE9GUE3HHOX3U': 0, 'A4BPK6TYITJS': 0, 'A31KXTOQNTWUVM': 0}), ('A3BLMCU4V5J2DX', {'AAQMHLS8BN9YJ': 0, 'AE9GUE3HHOX3U': 0, 'A4BPK6TYITJS': 0, 'A31KXTOQNTWUVM': 0}), ('AAQMHLS8BN9YJ', {'AE9GUE3HHOX3U': -0.6666666666666666, 'A4BPK6TYITJS': 0, 'A31KXTOQNTWUVM': 0}), ('AE9GUE3HHOX3U', {'A4BPK6TYITJS': 0, 'A31KXTOQNTWUVM': 0}), ('A4BPK6TYITJS', {'A31KXTOQNTWUVM': 0}), ('A31KXTOQNTWUVM', {})])\n"
     ]
    }
   ],
   "source": [
    "from itertools import combinations\n",
    "\n",
    "# Calculate the similarities (NB: this can take a minute)\n",
    "measure2function = {\"euclidean\" : euclidean_similarity, \"cosine\": cosine_similarity, \"correlation\": pearson_correlation}\n",
    "\n",
    "similarities = {\"euclidean\" : dict(), \"cosine\": dict(), \"correlation\": dict()}\n",
    "for measure, function in measure2function.items():\n",
    "    similarities[measure] = dict([(a,dict()) for a in list(user2product.keys())[:40]])\n",
    "    for id1, id2, in combinations(list(user2product.keys())[:40], 2):\n",
    "        similarities[measure][id1][id2] = calculate_similarity(user2product, id1, id2, function)\n",
    "        \n",
    "print(similarities[\"correlation\"].items())"
   ]
  },
  {
   "cell_type": "code",
   "execution_count": 15,
   "metadata": {},
   "outputs": [
    {
     "ename": "NameError",
     "evalue": "name 'y_train' is not defined",
     "output_type": "error",
     "traceback": [
      "\u001b[1;31m---------------------------------------------------------------------------\u001b[0m",
      "\u001b[1;31mNameError\u001b[0m                                 Traceback (most recent call last)",
      "\u001b[1;32m<ipython-input-15-c5037e3b7711>\u001b[0m in \u001b[0;36m<module>\u001b[1;34m()\u001b[0m\n\u001b[0;32m      1\u001b[0m \u001b[1;32mfrom\u001b[0m \u001b[0msklearn\u001b[0m\u001b[1;33m.\u001b[0m\u001b[0mneighbors\u001b[0m \u001b[1;32mimport\u001b[0m \u001b[0mKNeighborsClassifier\u001b[0m\u001b[1;33m\u001b[0m\u001b[0m\n\u001b[0;32m      2\u001b[0m \u001b[0mclassifier\u001b[0m \u001b[1;33m=\u001b[0m \u001b[0mKNeighborsClassifier\u001b[0m\u001b[1;33m(\u001b[0m\u001b[0mn_neighbors\u001b[0m\u001b[1;33m=\u001b[0m\u001b[1;36m5\u001b[0m\u001b[1;33m)\u001b[0m\u001b[1;33m\u001b[0m\u001b[0m\n\u001b[1;32m----> 3\u001b[1;33m \u001b[0mclassifier\u001b[0m\u001b[1;33m.\u001b[0m\u001b[0mfit\u001b[0m\u001b[1;33m(\u001b[0m\u001b[0mX_train\u001b[0m\u001b[1;33m,\u001b[0m \u001b[0my_train\u001b[0m\u001b[1;33m)\u001b[0m\u001b[1;33m\u001b[0m\u001b[0m\n\u001b[0m",
      "\u001b[1;31mNameError\u001b[0m: name 'y_train' is not defined"
     ]
    }
   ],
   "source": [
    "from sklearn.neighbors import KNeighborsClassifier\n",
    "classifier = KNeighborsClassifier(n_neighbors=5)\n",
    "classifier.fit(X_train, y_train)"
   ]
  },
  {
   "cell_type": "code",
   "execution_count": null,
   "metadata": {},
   "outputs": [],
   "source": []
  }
 ],
 "metadata": {
  "kernelspec": {
   "display_name": "Python 3",
   "language": "python",
   "name": "python3"
  },
  "language_info": {
   "codemirror_mode": {
    "name": "ipython",
    "version": 3
   },
   "file_extension": ".py",
   "mimetype": "text/x-python",
   "name": "python",
   "nbconvert_exporter": "python",
   "pygments_lexer": "ipython3",
   "version": "3.7.4"
  },
  "varInspector": {
   "cols": {
    "lenName": 16,
    "lenType": 16,
    "lenVar": 40
   },
   "kernels_config": {
    "python": {
     "delete_cmd_postfix": "",
     "delete_cmd_prefix": "del ",
     "library": "var_list.py",
     "varRefreshCmd": "print(var_dic_list())"
    },
    "r": {
     "delete_cmd_postfix": ") ",
     "delete_cmd_prefix": "rm(",
     "library": "var_list.r",
     "varRefreshCmd": "cat(var_dic_list()) "
    }
   },
   "types_to_exclude": [
    "module",
    "function",
    "builtin_function_or_method",
    "instance",
    "_Feature"
   ],
   "window_display": false
  }
 },
 "nbformat": 4,
 "nbformat_minor": 2
}
